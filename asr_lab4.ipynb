{
 "cells": [
  {
   "cell_type": "markdown",
   "metadata": {},
   "source": [
    "# Практическая работа по распознаванию речи #4: <br> Поиск наилучшей гипотезы распознавания\n",
    "Задача распознавания речи состоит в поиске наиболее вероятной словной гипотезы по имеющемуся звуковому сигналу. Используя теорему Байеса, формулировку задачи можно написать так:\n",
    "$$ W^* = \\underset{W}{argmax} {P(W|O)} =  \\underset{W}{argmax} \\sum_i^N{(\\log{P(O|w_i)} + \\log{P(w_i|w_{i-1}, w_{i-2},..))}}$$\n",
    "Где: \n",
    "* $O$ - звук\n",
    "* $W$ - словная гипотеза распознавания \n",
    "* $W^*$ - лучшая гипотеза распознавания\n",
    "* $P(W|O)$ - вероятность гипотезы распознавания при условии наблюдения $O$\n",
    "* $N$ - количество слов в гипотезе\n",
    "* $w_i$ - i'ое слово в гипотезе\n",
    "* $P(O|w_i)$ - акустическое правдоподобие слова (выводится из предсказания акустической моделью)\n",
    "* $P(w_i|w_{i-1}, w_{i-2},..)$ - языковая вероятность слова при условии контекста (предсказывается языковой моделью)\n",
    "\n",
    "\n",
    "В прошлых лабораторных работах были изучены акустическая и языковая модели. Акустическая модель предсказывает вероятность принадлежности кадра некоему акустическому классу (фонеме). Языковая модель предсказывает априорную вероятность последовательности слов. Пришло время разобраться, как соединить эти части в одну систему и получить итоговый результат распознавания. \n",
    "\n",
    "\n",
    "\n",
    "\n",
    "\n",
    "### Основная часть (14 баллов) данной практической работы состоит из двух частей: \n",
    "* знакомство с Weighted Finite State Transducer (WFST)\n",
    "* WFST декодинг в ASR системе\n",
    "\n",
    "### Дополнительная часть \n",
    "* тюнинг параметров beam search (2 балла)\n",
    "\n",
    "## Полезные ссылки: \n",
    "* Наиболее популярная библиотека WFST - [OpenFst](https://www.openfst.org/twiki/bin/view/FST/WebHome)\n",
    "* Библиотека для визуализации - [graphviz](https://graphviz.readthedocs.io/en/stable/manual.html)\n",
    "* Алгоритм обхода графа в ширину - [BFS](https://neerc.ifmo.ru/wiki/index.php?title=%D0%9E%D0%B1%D1%85%D0%BE%D0%B4_%D0%B2_%D1%88%D0%B8%D1%80%D0%B8%D0%BD%D1%83)"
   ]
  },
  {
   "cell_type": "code",
   "execution_count": 1,
   "id": "c76921ff",
   "metadata": {},
   "outputs": [
    {
     "name": "stdout",
     "output_type": "stream",
     "text": [
      "Python 3.8.20\n"
     ]
    }
   ],
   "source": [
    "!python3 --version "
   ]
  },
  {
   "cell_type": "code",
   "execution_count": 2,
   "id": "07b13558",
   "metadata": {},
   "outputs": [],
   "source": [
    "#!pip install graphviz kenlm kaldiio jiwer"
   ]
  },
  {
   "cell_type": "code",
   "execution_count": 72,
   "id": "de26bb53",
   "metadata": {},
   "outputs": [
    {
     "name": "stderr",
     "output_type": "stream",
     "text": [
      "/home/chernogor/conda/envs/nast/lib/python3.8/site-packages/tqdm/auto.py:21: TqdmWarning: IProgress not found. Please update jupyter and ipywidgets. See https://ipywidgets.readthedocs.io/en/stable/user_install.html\n",
      "  from .autonotebook import tqdm as notebook_tqdm\n"
     ]
    }
   ],
   "source": [
    "import numpy as np\n",
    "import time\n",
    "import os\n",
    "import abc\n",
    "import math\n",
    "\n",
    "from typing import List, Dict, Union, Set, Any, Optional, Tuple\n",
    "from tqdm.auto import tqdm\n",
    "from collections import defaultdict\n",
    "from pathlib import Path\n",
    "from dataclasses import dataclass\n",
    "\n",
    "import matplotlib.pyplot as plt\n",
    "%matplotlib inline\n",
    "from IPython import display\n",
    "\n",
    "import graphviz\n",
    "import kenlm \n",
    "import jiwer\n",
    "from kaldiio import ReadHelper"
   ]
  },
  {
   "cell_type": "markdown",
   "id": "2902f476",
   "metadata": {},
   "source": [
    "# 1. Weighted Finite State Transducer (WFST)\n",
    "\n",
    "\n",
    "\n",
    "Из определения в wiki [Weighted Finite State Transducer (Взвешенный конечный автомат с выходом)](https://en.wikipedia.org/wiki/Finite-state_transducer) следует, что главная задача FST - это переводить символы из входного алфавита в соответствующие им символы из выходного алфавита. Например, с помощью FST можно перевести последовательность фонем в последовательность слов. Конечный автомат будет менять свое состояние при обработке последовательности входных символов (фонем). Когда он соберет из входных фонем корректную транскрипцию слова, то выдаст это слово на выход. \n",
    "\n",
    "Однако не всегда можно однозначно перевести последовательность фонем в слова (некоторые слова произносятся одинаково, а пишутся по-разному), поэтому для распознавания речи надо использовать не простой FST, а взвешенный. WFST позволяет не только перевести входные символы в выходные, но и оценить вес такого перевода. Чем больше вес, тем хуже гипотеза.  \n",
    "\n",
    "Напишем собственную реализацию WFST.\n"
   ]
  },
  {
   "cell_type": "markdown",
   "id": "3acf850f",
   "metadata": {},
   "source": [
    "### AbstractWFST\n",
    "AbstractWFST -- это базовый интерфейс нашего WFST. В нем заданы основные методы, через которые мы будем работать с wfst  \n",
    "* get_start - возвращаяет стартовое состояние конечного автомата.\n",
    "* final_score - вес завершения работы в данном состоянии. В некоторых состояниях завершить обработку невозможно, в таких случаях final weight  будет равен бесконечности.\n",
    "*  transduce - совершает переход из текущего состояния в следующее, соответствующее переходу по символу ilabel. Возвращает выходной символ, вес перехода и следующее состояние.  \n",
    "\n",
    "\n",
    "\n",
    "\n",
    " "
   ]
  },
  {
   "cell_type": "code",
   "execution_count": 73,
   "id": "5ee3372a",
   "metadata": {},
   "outputs": [],
   "source": [
    "class AbstractWFST(abc.ABC):\n",
    "    def __init__(self):\n",
    "        pass\n",
    "    \n",
    "    @abc.abstractmethod\n",
    "    def get_start(self) -> Any:\n",
    "        \"\"\"Return start state\"\"\"\n",
    "    \n",
    "    @abc.abstractmethod\n",
    "    def final_score(self, state: Any) -> float:\n",
    "        \"\"\"is the state final? If true return negative log likelihood of the finalization. otherwise return inf\"\"\"\n",
    "           \n",
    "    @abc.abstractmethod\n",
    "    def transduce(self, state: Any, ilabel: str) -> Tuple[Tuple[str, float, Any]]:\n",
    "        \"\"\"Transduce ilabel to olabel. \n",
    "        return all available olabels for this state and ilabel pair\n",
    "        return type - ((olabel1, weight1, nextstate1), \n",
    "                       ((olabel1, weight1, nextstate1), \n",
    "                       ...)\"\"\""
   ]
  },
  {
   "cell_type": "markdown",
   "id": "a0e6d48c",
   "metadata": {},
   "source": [
    "### SymbolsMap\n",
    "\n",
    "Для того, чтобы задать WFST, первым делом нам понадобятся таблицы входных и выходных символов. Для задания таблиц будем использовать класс SymbolsMap. Данный класс служит для маппинга символов на индексы и обратно. "
   ]
  },
  {
   "cell_type": "code",
   "execution_count": 74,
   "id": "ae29aeda",
   "metadata": {},
   "outputs": [],
   "source": [
    "class SymbolsMap:\n",
    "    def __init__(self, id2symbol: Optional[Dict[int, str]] = None, symbol2id: Optional[Dict[str, int]] = None):\n",
    "        assert id2symbol is not None or symbol2id is not None, f\"One id2symbol or symbol2id must be not None\"\n",
    "        assert id2symbol is None or symbol2id is None, f\"Only one One id2symbol or symbol2id can be not None\"\n",
    "        if id2symbol is None:\n",
    "            self.id2symbol = {i:s for s,i in symbol2id.items()}\n",
    "        elif isinstance(id2symbol, dict):\n",
    "            self.id2symbol = id2symbol\n",
    "        elif isinstance(id2symbol, list):\n",
    "            self.id2symbol = {i:s for i, s in enumerate(id2symbol)}\n",
    "        else:\n",
    "            raise RuntimeError(f\"unknown type {type(id2symbol)=}\")\n",
    "            \n",
    "        if symbol2id is None:\n",
    "            self.symbol2id = {s:i for i, s in self.id2symbol.items()}\n",
    "        else:\n",
    "            self.symbol2id = symbol2id   \n",
    "                \n",
    "        assert self.id2symbol[0] == '<eps>', f\"wrong {self.id2symbol}\"\n",
    "\n",
    "    def get_id(self, symbol: str):\n",
    "        return self.symbol2id[symbol]\n",
    "        \n",
    "    def get_symbol(self, id: int):\n",
    "        return self.id2symbol[id] \n",
    "    \n",
    "    @classmethod\n",
    "    def from_file(cls, fname):\n",
    "        \"\"\"read symbols table from file\n",
    "        format: \n",
    "            word id\n",
    "            word2 id2\n",
    "            ...\n",
    "        \"\"\"\n",
    "        with open(fname) as f:\n",
    "            s2i = {s:int(i) for s, i in map(str.split, f.readlines())}\n",
    "        return cls(symbol2id=s2i)"
   ]
  },
  {
   "cell_type": "markdown",
   "id": "202534f2",
   "metadata": {},
   "source": [
    "### Arc и ILabelIndexedArcs\n",
    "Переходы внутри FST будем описывать с помощью класса, инкапсулирующего информацию о входном/выходном индексе символа, весе перехода и следующем состоянии FST. Поскольку дуги мы будем хранить отдельно для каждого состояния, информация о текущем состоянии в дуге не нужна. \n",
    "\n",
    "Для быстрого выбора нужной дуги создадим специальную коллекцию ILabelIndexedArcs. Данная коллекция хранит дуги таким образом, чтобы выбор дуги по входному символу осуществлялся за O(1). \n"
   ]
  },
  {
   "cell_type": "code",
   "execution_count": 75,
   "id": "68b594c5",
   "metadata": {},
   "outputs": [],
   "source": [
    "@dataclass\n",
    "class Arc:\n",
    "    \"\"\"Arc in WFST\"\"\"\n",
    "    ilabel: int\n",
    "    olabel: int\n",
    "    weight: float\n",
    "    nextstate: Any\n",
    "\n",
    "class ILabelIndexedArcs:\n",
    "    def __init__(self, arcs: Optional[List[Arc]] = None):\n",
    "        self.ilabel2arclist = defaultdict(list)\n",
    "        if arcs is not None:\n",
    "            for arc in arcs:\n",
    "                self.add_arc(arc)\n",
    "\n",
    "    def add_arc(self, arc: Arc):\n",
    "        self.ilabel2arclist[arc.ilabel].append(arc)\n",
    "\n",
    "    def get_arcs_by_ilabel(self, ilabel: int):\n",
    "        return self.ilabel2arclist[ilabel]\n",
    "\n",
    "    def arcs(self) -> List[Arc]:\n",
    "        \"\"\"Return all arcs\"\"\"\n",
    "        all_arcs = []\n",
    "        # TODO\n",
    "        # реализуйте функцию, которая возвращает все дуги, хранящиеся в данной коллекции\n",
    "        all_arcs = list(self.ilabel2arclist.values())\n",
    "        all_arcs = [v[0] for v in all_arcs]\n",
    "        return all_arcs \n",
    "\n",
    "    def __str__(self):\n",
    "        return \"ILabelIndexedArcs([\" + \", \".join(f\"{a}\" for a in self.arcs()) + \"])\"\n",
    "        \n",
    "    def __repr__(self):\n",
    "        return str(self)"
   ]
  },
  {
   "cell_type": "code",
   "execution_count": 76,
   "id": "f2d74032",
   "metadata": {},
   "outputs": [
    {
     "name": "stdout",
     "output_type": "stream",
     "text": [
      "[Arc(ilabel=0, olabel=0, weight=0.0, nextstate=100), Arc(ilabel=1, olabel=-1, weight=0.01, nextstate=101), Arc(ilabel=2, olabel=-2, weight=0.02, nextstate=102), Arc(ilabel=3, olabel=-3, weight=0.03, nextstate=103), Arc(ilabel=4, olabel=-4, weight=0.04, nextstate=104), Arc(ilabel=5, olabel=-5, weight=0.05, nextstate=105), Arc(ilabel=6, olabel=-6, weight=0.06, nextstate=106), Arc(ilabel=7, olabel=-7, weight=0.07, nextstate=107), Arc(ilabel=8, olabel=-8, weight=0.08, nextstate=108), Arc(ilabel=9, olabel=-9, weight=0.09, nextstate=109)]\n",
      "Test 1.a passed\n"
     ]
    }
   ],
   "source": [
    "# test 1.a\n",
    "def test_ILabelIndexedArcs():\n",
    "    # проверка что arcs работает правильно \n",
    "    arcs = [Arc(i, -i, i/100, i+100) for i in range(10)]\n",
    "    c = ILabelIndexedArcs(arcs)\n",
    "    arcs2 = c.arcs()\n",
    "    print(arcs2)\n",
    "    \n",
    "    assert len(arcs) == len(arcs2), f\"{len(arcs)=}, {len(arcs2)=}\\n{arcs} != {c.arcs()}\"\n",
    "    for a in arcs2:\n",
    "        assert a in arcs, f\"{a=} not in {arcs=}\"\n",
    "    print('Test 1.a passed')\n",
    "test_ILabelIndexedArcs()    "
   ]
  },
  {
   "cell_type": "markdown",
   "id": "993b7172",
   "metadata": {},
   "source": [
    "### WFST \n",
    "Все готово для создания взвешенного конечного автомата. Класс WFST состоит из таблицы входных и выходных символов, списка состояний и коллекции дуг для каждого, а также множества финальных состояний. "
   ]
  },
  {
   "cell_type": "code",
   "execution_count": 77,
   "id": "99f763f5",
   "metadata": {},
   "outputs": [],
   "source": [
    "class WFST(AbstractWFST):\n",
    "    def __init__(self, \n",
    "                 isymbols: Optional[SymbolsMap] = None, \n",
    "                 osymbols: Optional[SymbolsMap] = None):\n",
    "        self.start = 0\n",
    "        self.states = [0]\n",
    "        # состояния, в которых может завершиться декодирование без какого либо штрафа \n",
    "        self.final_states = set() \n",
    "        self.isymbols = isymbols\n",
    "        self.osymbols = osymbols\n",
    "        self.state2arcs = defaultdict(ILabelIndexedArcs)\n",
    "\n",
    "    def get_start(self):\n",
    "        \"\"\"return start state\"\"\"\n",
    "        return self.start\n",
    "        \n",
    "    def final_score(self, state_id: int):\n",
    "        \"\"\"return the weight of decoding completion in state_id\"\"\"\n",
    "        # TODO \n",
    "        # верните вес завершения декодирования в state_id\n",
    "        if state_id not in self.final_states: \n",
    "            return float('inf')\n",
    "        else:\n",
    "            return 0\n",
    "         \n",
    "    def transduce(self, state, ilabel: str) -> Tuple[Tuple[str, float, int]]:\n",
    "        \"\"\"transitions wfst to next state by 'ilabel' input symbol, except when the input symbol is <eps>.\n",
    "        Returns all possible output results as a tuple of triples (olabel, weight, nextstate).\"\"\"\n",
    "        assert self.isymbols is not None and self.osymbols is not None, f\"Cannot transduce w/o both symbols tables\" \n",
    "        if ilabel == '<eps>':\n",
    "            # skip <eps> input\n",
    "            return ((ilabel, 0, state), )\n",
    "        label_id = self.isymbols.get_id(ilabel)\n",
    "        # TODO \n",
    "        # верните все возможные результаты перехода из текущего состояния по входу ilabel\n",
    "        # результат должен выглядеть так: tuple((\"слово\", 0.1, 2), (\"другоеслово\", 10, 4), ...)\n",
    "        states = []\n",
    "        for s in self.state2arcs[state].get_arcs_by_ilabel(label_id):\n",
    "            states.append((self.osymbols.get_symbol(s.olabel), s.weight, s.nextstate))\n",
    "        return tuple(states)    \n",
    "        \n",
    "    def set_final(self, state: int):\n",
    "        \"\"\"sets the final weight for the state to zero\"\"\"\n",
    "        # TODO добавьте возможность завершать декодирование в state\n",
    "        self.final_states.add(state)\n",
    "        \n",
    "    def new_state(self):\n",
    "        \"\"\"Create new state id and return it\"\"\"\n",
    "        # TODO \n",
    "        # добавьте в конечный автомат новое состояние и верните его id \n",
    "        state_id = len(self.states)\n",
    "        self.states.append(state_id)\n",
    "        return state_id\n",
    "    \n",
    "    def add_arc(self, state_from: int, arc: Arc):\n",
    "        \"\"\"adds a new arc for this state\"\"\"\n",
    "        # TODO \n",
    "        # добавьте в конечный автомат новых переход arc, выходящий из state_from \n",
    "        #print(self.state2arcs[state_from])\n",
    "        self.state2arcs[state_from].add_arc(arc)\n",
    "    \n",
    "    def to_dot(self):\n",
    "        \"\"\"Visualize the WFST\"\"\" \n",
    "        dot = graphviz.Digraph()\n",
    "        for s in self.states:\n",
    "            dot.node(str(s))\n",
    "        for state_from, arcs_container in self.state2arcs.items():\n",
    "            for arc in arcs_container.arcs():\n",
    "                il = self.isymbols.get_symbol(arc.ilabel) if self.isymbols is not None else arc.ilabel\n",
    "                ol = self.osymbols.get_symbol(arc.olabel) if self.osymbols is not None else arc.olabel\n",
    "                dot.edge(str(state_from), str(arc.nextstate), label=f\"{il}:{ol}:{arc.weight:.2f}\")\n",
    "        return dot\n",
    "    "
   ]
  },
  {
   "cell_type": "code",
   "execution_count": 78,
   "id": "36895d5a",
   "metadata": {},
   "outputs": [
    {
     "data": {
      "image/svg+xml": [
       "<?xml version=\"1.0\" encoding=\"UTF-8\" standalone=\"no\"?>\n",
       "<!DOCTYPE svg PUBLIC \"-//W3C//DTD SVG 1.1//EN\"\n",
       " \"http://www.w3.org/Graphics/SVG/1.1/DTD/svg11.dtd\">\n",
       "<!-- Generated by graphviz version 12.0.0 (20240803.0821)\n",
       " -->\n",
       "<!-- Pages: 1 -->\n",
       "<svg width=\"214pt\" height=\"133pt\"\n",
       " viewBox=\"0.00 0.00 214.09 133.25\" xmlns=\"http://www.w3.org/2000/svg\" xmlns:xlink=\"http://www.w3.org/1999/xlink\">\n",
       "<g id=\"graph0\" class=\"graph\" transform=\"scale(1 1) rotate(0) translate(4 129.25)\">\n",
       "<polygon fill=\"white\" stroke=\"none\" points=\"-4,4 -4,-129.25 210.09,-129.25 210.09,4 -4,4\"/>\n",
       "<!-- 0 -->\n",
       "<g id=\"node1\" class=\"node\">\n",
       "<title>0</title>\n",
       "<ellipse fill=\"none\" stroke=\"black\" cx=\"83.34\" cy=\"-107.25\" rx=\"27\" ry=\"18\"/>\n",
       "<text text-anchor=\"middle\" x=\"83.34\" y=\"-102.58\" font-family=\"Times,serif\" font-size=\"14.00\">0</text>\n",
       "</g>\n",
       "<!-- 1 -->\n",
       "<g id=\"node2\" class=\"node\">\n",
       "<title>1</title>\n",
       "<ellipse fill=\"none\" stroke=\"black\" cx=\"83.34\" cy=\"-18\" rx=\"27\" ry=\"18\"/>\n",
       "<text text-anchor=\"middle\" x=\"83.34\" y=\"-13.32\" font-family=\"Times,serif\" font-size=\"14.00\">1</text>\n",
       "</g>\n",
       "<!-- 0&#45;&gt;1 -->\n",
       "<g id=\"edge1\" class=\"edge\">\n",
       "<title>0&#45;&gt;1</title>\n",
       "<path fill=\"none\" stroke=\"black\" d=\"M56.96,-102.3C38.58,-98.03 15.33,-89.23 3.59,-71.25 -10.02,-50.42 19.84,-36.04 46.82,-27.72\"/>\n",
       "<polygon fill=\"black\" stroke=\"black\" points=\"47.57,-31.14 56.23,-25.03 45.65,-24.41 47.57,-31.14\"/>\n",
       "<text text-anchor=\"middle\" x=\"33.21\" y=\"-57.95\" font-family=\"Times,serif\" font-size=\"14.00\">b:б:1.00</text>\n",
       "</g>\n",
       "<!-- 0&#45;&gt;1 -->\n",
       "<g id=\"edge2\" class=\"edge\">\n",
       "<title>0&#45;&gt;1</title>\n",
       "<path fill=\"none\" stroke=\"black\" d=\"M83.34,-89.01C83.34,-77.18 83.34,-61.2 83.34,-47.5\"/>\n",
       "<polygon fill=\"black\" stroke=\"black\" points=\"86.84,-47.72 83.34,-37.72 79.84,-47.72 86.84,-47.72\"/>\n",
       "<text text-anchor=\"middle\" x=\"114.09\" y=\"-57.95\" font-family=\"Times,serif\" font-size=\"14.00\">u:ю:3.00</text>\n",
       "</g>\n",
       "<!-- 1&#45;&gt;0 -->\n",
       "<g id=\"edge3\" class=\"edge\">\n",
       "<title>1&#45;&gt;0</title>\n",
       "<path fill=\"none\" stroke=\"black\" d=\"M107.3,-26.94C129.68,-35.76 158.01,-51.41 146.34,-71.25 144.37,-74.6 129.45,-82.95 114.63,-90.65\"/>\n",
       "<polygon fill=\"black\" stroke=\"black\" points=\"113.2,-87.45 105.9,-95.13 116.39,-93.69 113.2,-87.45\"/>\n",
       "<text text-anchor=\"middle\" x=\"177.21\" y=\"-57.95\" font-family=\"Times,serif\" font-size=\"14.00\">d:д:2.00</text>\n",
       "</g>\n",
       "<!-- 2 -->\n",
       "<g id=\"node3\" class=\"node\">\n",
       "<title>2</title>\n",
       "<ellipse fill=\"none\" stroke=\"black\" cx=\"155.34\" cy=\"-107.25\" rx=\"27\" ry=\"18\"/>\n",
       "<text text-anchor=\"middle\" x=\"155.34\" y=\"-102.58\" font-family=\"Times,serif\" font-size=\"14.00\">2</text>\n",
       "</g>\n",
       "</g>\n",
       "</svg>\n"
      ],
      "text/plain": [
       "<graphviz.graphs.Digraph at 0x762c745534f0>"
      ]
     },
     "metadata": {},
     "output_type": "display_data"
    },
    {
     "name": "stdout",
     "output_type": "stream",
     "text": [
      "(('б', 1.0, 1),)\n",
      "test 1.b passed\n"
     ]
    }
   ],
   "source": [
    "# test 1.b\n",
    "def test_WFST():\n",
    "    en_l = SymbolsMap(id2symbol=['<eps>', 'b', 'd', 'u'])\n",
    "    ru_l = SymbolsMap(id2symbol=['<eps>', 'ю', 'б', 'д'])\n",
    "    \n",
    "    # create first transducer\n",
    "    en2ru = WFST(isymbols=en_l, osymbols=ru_l)\n",
    "    # new_state\n",
    "    en2ru_final = en2ru.new_state()\n",
    "    assert en2ru_final == 1 , f'start - zero, next state - one, next - two ...'\n",
    "    assert en2ru.new_state() == 2, f'start - zero, next state - one, next - two ...'\n",
    "    en2ru.set_final(en2ru_final)\n",
    "    en2ru.add_arc(en2ru.get_start(), Arc(1, 2, 1.0, en2ru_final))\n",
    "    en2ru.add_arc(en2ru_final, Arc(2, 3, 2.0, en2ru.get_start()))\n",
    "    en2ru.add_arc(en2ru.get_start(), Arc(3, 1, 3.0, en2ru_final))\n",
    "    # you can use this line to visualize\n",
    "    display.display(en2ru.to_dot())\n",
    "\n",
    "    # final_score # set_final\n",
    "    assert en2ru.final_score(en2ru.get_start()) == float('inf')\n",
    "    assert en2ru.final_score(en2ru_final) == 0\n",
    "    en2ru.set_final(en2ru.get_start())\n",
    "    assert en2ru.final_score(en2ru_final) == en2ru.final_score(en2ru.get_start()) == 0\n",
    "\n",
    "    print(en2ru.transduce(en2ru.get_start(), 'b'))\n",
    "    # transduce # add_arc\n",
    "    assert en2ru.transduce(en2ru.get_start(), 'd') == tuple() , \"Cannot transduce 'd' from start state. output must be zero len tuple\"\n",
    "    assert en2ru.transduce(en2ru.get_start(), 'b') == (('б', 1.0, en2ru_final), ) , \"Arc(1, 2, 1.0, en2ru_final)\"\n",
    "    assert en2ru.transduce(en2ru.get_start(), 'u') == (('ю', 3.0, en2ru_final), ) , \"Arc(3, 1, 3.0, en2ru_final)\"\n",
    "    assert en2ru.transduce(en2ru_final, 'd') == (('д', 2.0, en2ru.get_start()), ) , \"Arc(2, 3, 2.0, en2ru.get_start())\"\n",
    "    \n",
    "    print('test 1.b passed')\n",
    "test_WFST()"
   ]
  },
  {
   "cell_type": "markdown",
   "id": "fab7f35d",
   "metadata": {},
   "source": [
    "## wfst композиция \n",
    "\n",
    "\n",
    "Над WFST определен большой набор различных операций, реализация большинства из которых является сложной алгоритмической задачей. Важной для распознавания речи операцией является [композиция](https://www.openfst.org/twiki/bin/view/FST/ComposeDoc) набора различных wfst. \n",
    "\n",
    "OpenFST дает следующее определение композиции:\n",
    " \n",
    "\"This operation computes the composition of two transducers. If A transduces string x to y with weight a and B transduces y to z with weight b, then their composition transduces string x to z with weight a ⊗ b.\"\n",
    "\n",
    "Другими словами, результатом композиции является wfst, применение которого к входной последовательности даст такой же результат, как и последовательное применение композируемых wfst. \n",
    "\n",
    "Хорошим примером композиции различных WFST является граф распознавания в гибридных системах распознавания речи. Такой граф является результатом композиции четырех wfst:\n",
    "* H - Hidden Markov Model wfst (переводит акустические классы, предсказанные с помощью AM, в трифоны)\n",
    "* С - Context-dependency transducer (переводит трифоны (тройки (leftcontext,phone,rightcontext)) в фонемы)\n",
    "* L - lexicon (переводит фонемы в слова)\n",
    "* G - ngram lm (оценивает вероятность последовательностей слов)\n",
    " \n",
    "Итого граф распознавания можно выразить с помощью следующей формулы:\n",
    "$$ HCLG = H⊗C⊗L⊗G $$ \n",
    "где ⊗ - оператор композиции двух wfst. Подробнее про граф распознавания можно почитать в [документации к фреймворку kaldi](https://kaldi-asr.org/doc/graph.html)\n",
    "\n",
    "\n",
    "Композиция позволяет объединить много обработчиков в один большой граф, что несомненно является большим плюсом для построения продакшн решений. Но у такого подхода есть и минусы - процесс подготовки графа очень сложен и требует множества оптимизаций. Это усложняет любые эксперименты и модификации системы. В данной работе мы не будем реализовывать честную композицию графа, а будем считать композицию \"On the Fly\". То есть сделаем обертку, реализующую интерфейс AbstractWFST, состоянием которой будет Tuple состояний всех композируемых wfst, а метод transduce будет последовательно проходить через эти wfst. Тем самым, по определению композиции, наш класс будет эквивалентен честной композиции.  \n",
    "\n"
   ]
  },
  {
   "cell_type": "code",
   "execution_count": 79,
   "id": "d1a875fa",
   "metadata": {},
   "outputs": [],
   "source": [
    "class OnTheFlyCompose(AbstractWFST):\n",
    "    def __init__(self, wfsts: List[AbstractWFST]):\n",
    "        # !!!Attention!!! wfsts - это лист AbstractWFST, а не WFST. \n",
    "        # Для работы с wfsts истользуйте только методы из AbstractWFST\n",
    "        self.wfsts = wfsts\n",
    "\n",
    "    def get_start(self):\n",
    "        return tuple(fst.get_start() for fst in self.wfsts)\n",
    "\n",
    "    def final_score(self, state: Tuple[Any]):\n",
    "        assert len(state) == len(self.wfsts)\n",
    "        # TODO \n",
    "        # посчитайте финальный скор для state\n",
    "        # результат композиции может завершить обработку только в тех стейтах, где все wfsts будут в финальных состояниях\n",
    "        score = 0\n",
    "        for i, s in enumerate(state):\n",
    "                score += self.wfsts[i].final_score(s)\n",
    "        return score    \n",
    "    \n",
    "    def _transduce(self, state: Tuple[Any], ilabel: str) -> List[Tuple[List[str], float, List[int]]]:\n",
    "        assert len(self.wfsts) == len(state)\n",
    "        # Найдите все возможные гипотезы перевода ilabel с помощью композиции всех self.wfsts\n",
    "        # Последовательно пройдите через все self.wfsts, расширяя список гипотез и дополняя гипотезы новыми слоями \n",
    "        # Верните результат в виде списка гипотез. \n",
    "        # Каждая гипотеза содержит три элемента: \n",
    "        #   0. список символов со ВСЕХ прошедших слоев композиции \n",
    "        #   1. суммарный вес гипотезы \n",
    "        #   2. список состояний, в которые перешли self.wfsts \n",
    "\n",
    "        # Одна стартовая гипотеза. Корень для всех гипотез.\n",
    "        # Еще никакой wfst не применен, символ только ilabel, вес стартовый, стейтов еще нет. \n",
    "        \n",
    "        def expand_hyps(hyp, state, fst): \n",
    "            # \"расширяем\" гипотезу переходами по всем дугам из ее последнего состояния \n",
    "            final_hyps = []\n",
    "            labels, w, states = hyp\n",
    "            tr_out = fst.transduce(state, labels[-1])\n",
    "            for out in tr_out:\n",
    "                l, w0, s = out\n",
    "                final_hyps.append([labels+[l], w+w0, states+[s]])\n",
    "            return final_hyps\n",
    "        \n",
    "        hyps_per_layer = [([ilabel], 0, [])]  \n",
    "        for fst, s in zip(self.wfsts, state):\n",
    "            new_hyps = []\n",
    "            # TODO \n",
    "            # примените fst.transduce ко всем гипотезам из hyps_per_layer\n",
    "            # постепенно разветвляя их и сохраняя в new_hyp\n",
    "            # на вход подайте выход последнего из уже обработаных слоев \n",
    "            for hyp in hyps_per_layer:\n",
    "                new_hyps += expand_hyps(hyp, s, fst)\n",
    "            hyps_per_layer = new_hyps\n",
    "        return hyps_per_layer\n",
    "\n",
    "    def transduce(self, state: Tuple[Any], ilabel: str):\n",
    "        hyps_per_layer = self._transduce(state, ilabel)\n",
    "        # выходной символ transduce в композиции - это выходной символ самого последнего wfst \n",
    "        return tuple((ls[-1], w, tuple(ss)) for ls, w, ss in hyps_per_layer)\n",
    "    "
   ]
  },
  {
   "cell_type": "code",
   "execution_count": 80,
   "id": "93122051",
   "metadata": {},
   "outputs": [
    {
     "data": {
      "image/svg+xml": [
       "<?xml version=\"1.0\" encoding=\"UTF-8\" standalone=\"no\"?>\n",
       "<!DOCTYPE svg PUBLIC \"-//W3C//DTD SVG 1.1//EN\"\n",
       " \"http://www.w3.org/Graphics/SVG/1.1/DTD/svg11.dtd\">\n",
       "<!-- Generated by graphviz version 12.0.0 (20240803.0821)\n",
       " -->\n",
       "<!-- Pages: 1 -->\n",
       "<svg width=\"235pt\" height=\"133pt\"\n",
       " viewBox=\"0.00 0.00 234.59 133.25\" xmlns=\"http://www.w3.org/2000/svg\" xmlns:xlink=\"http://www.w3.org/1999/xlink\">\n",
       "<g id=\"graph0\" class=\"graph\" transform=\"scale(1 1) rotate(0) translate(4 129.25)\">\n",
       "<polygon fill=\"white\" stroke=\"none\" points=\"-4,4 -4,-129.25 230.59,-129.25 230.59,4 -4,4\"/>\n",
       "<!-- 0 -->\n",
       "<g id=\"node1\" class=\"node\">\n",
       "<title>0</title>\n",
       "<ellipse fill=\"none\" stroke=\"black\" cx=\"83.34\" cy=\"-107.25\" rx=\"27\" ry=\"18\"/>\n",
       "<text text-anchor=\"middle\" x=\"83.34\" y=\"-102.58\" font-family=\"Times,serif\" font-size=\"14.00\">0</text>\n",
       "</g>\n",
       "<!-- 0&#45;&gt;0 -->\n",
       "<g id=\"edge2\" class=\"edge\">\n",
       "<title>0&#45;&gt;0</title>\n",
       "<path fill=\"none\" stroke=\"black\" d=\"M107.87,-115.49C118.85,-116.27 128.34,-113.53 128.34,-107.25 128.34,-103.33 124.63,-100.78 119.17,-99.62\"/>\n",
       "<polygon fill=\"black\" stroke=\"black\" points=\"119.56,-96.14 109.38,-99.09 119.18,-103.13 119.56,-96.14\"/>\n",
       "<text text-anchor=\"middle\" x=\"177.46\" y=\"-102.58\" font-family=\"Times,serif\" font-size=\"14.00\">d:&lt;eps&gt;:0.10</text>\n",
       "</g>\n",
       "<!-- 1 -->\n",
       "<g id=\"node2\" class=\"node\">\n",
       "<title>1</title>\n",
       "<ellipse fill=\"none\" stroke=\"black\" cx=\"83.34\" cy=\"-18\" rx=\"27\" ry=\"18\"/>\n",
       "<text text-anchor=\"middle\" x=\"83.34\" y=\"-13.32\" font-family=\"Times,serif\" font-size=\"14.00\">1</text>\n",
       "</g>\n",
       "<!-- 0&#45;&gt;1 -->\n",
       "<g id=\"edge1\" class=\"edge\">\n",
       "<title>0&#45;&gt;1</title>\n",
       "<path fill=\"none\" stroke=\"black\" d=\"M56.96,-102.3C38.58,-98.03 15.33,-89.23 3.59,-71.25 -10.02,-50.42 19.84,-36.04 46.82,-27.72\"/>\n",
       "<polygon fill=\"black\" stroke=\"black\" points=\"47.57,-31.14 56.23,-25.03 45.65,-24.41 47.57,-31.14\"/>\n",
       "<text text-anchor=\"middle\" x=\"33.21\" y=\"-57.95\" font-family=\"Times,serif\" font-size=\"14.00\">b:б:1.00</text>\n",
       "</g>\n",
       "<!-- 0&#45;&gt;1 -->\n",
       "<g id=\"edge3\" class=\"edge\">\n",
       "<title>0&#45;&gt;1</title>\n",
       "<path fill=\"none\" stroke=\"black\" d=\"M83.34,-89.01C83.34,-77.18 83.34,-61.2 83.34,-47.5\"/>\n",
       "<polygon fill=\"black\" stroke=\"black\" points=\"86.84,-47.72 83.34,-37.72 79.84,-47.72 86.84,-47.72\"/>\n",
       "<text text-anchor=\"middle\" x=\"114.09\" y=\"-57.95\" font-family=\"Times,serif\" font-size=\"14.00\">u:ю:3.00</text>\n",
       "</g>\n",
       "<!-- 1&#45;&gt;0 -->\n",
       "<g id=\"edge4\" class=\"edge\">\n",
       "<title>1&#45;&gt;0</title>\n",
       "<path fill=\"none\" stroke=\"black\" d=\"M107.3,-26.94C129.68,-35.76 158.01,-51.41 146.34,-71.25 140.09,-81.87 129.32,-89.5 118.43,-94.87\"/>\n",
       "<polygon fill=\"black\" stroke=\"black\" points=\"117.28,-91.56 109.49,-98.75 120.06,-97.98 117.28,-91.56\"/>\n",
       "<text text-anchor=\"middle\" x=\"177.21\" y=\"-57.95\" font-family=\"Times,serif\" font-size=\"14.00\">d:д:2.00</text>\n",
       "</g>\n",
       "</g>\n",
       "</svg>\n"
      ],
      "text/plain": [
       "<graphviz.graphs.Digraph at 0x762c73a846d0>"
      ]
     },
     "metadata": {},
     "output_type": "display_data"
    },
    {
     "data": {
      "image/svg+xml": [
       "<?xml version=\"1.0\" encoding=\"UTF-8\" standalone=\"no\"?>\n",
       "<!DOCTYPE svg PUBLIC \"-//W3C//DTD SVG 1.1//EN\"\n",
       " \"http://www.w3.org/Graphics/SVG/1.1/DTD/svg11.dtd\">\n",
       "<!-- Generated by graphviz version 12.0.0 (20240803.0821)\n",
       " -->\n",
       "<!-- Pages: 1 -->\n",
       "<svg width=\"169pt\" height=\"133pt\"\n",
       " viewBox=\"0.00 0.00 168.76 133.25\" xmlns=\"http://www.w3.org/2000/svg\" xmlns:xlink=\"http://www.w3.org/1999/xlink\">\n",
       "<g id=\"graph0\" class=\"graph\" transform=\"scale(1 1) rotate(0) translate(4 129.25)\">\n",
       "<polygon fill=\"white\" stroke=\"none\" points=\"-4,4 -4,-129.25 164.76,-129.25 164.76,4 -4,4\"/>\n",
       "<!-- 0 -->\n",
       "<g id=\"node1\" class=\"node\">\n",
       "<title>0</title>\n",
       "<ellipse fill=\"none\" stroke=\"black\" cx=\"46.76\" cy=\"-107.25\" rx=\"27\" ry=\"18\"/>\n",
       "<text text-anchor=\"middle\" x=\"46.76\" y=\"-102.58\" font-family=\"Times,serif\" font-size=\"14.00\">0</text>\n",
       "</g>\n",
       "<!-- 1 -->\n",
       "<g id=\"node2\" class=\"node\">\n",
       "<title>1</title>\n",
       "<ellipse fill=\"none\" stroke=\"black\" cx=\"46.76\" cy=\"-18\" rx=\"27\" ry=\"18\"/>\n",
       "<text text-anchor=\"middle\" x=\"46.76\" y=\"-13.32\" font-family=\"Times,serif\" font-size=\"14.00\">1</text>\n",
       "</g>\n",
       "<!-- 0&#45;&gt;1 -->\n",
       "<g id=\"edge1\" class=\"edge\">\n",
       "<title>0&#45;&gt;1</title>\n",
       "<path fill=\"none\" stroke=\"black\" d=\"M25.97,-95.47C17.01,-89.62 7.46,-81.48 2.51,-71.25 -0.84,-64.35 -0.84,-60.9 2.51,-54 5.75,-47.29 10.98,-41.47 16.73,-36.62\"/>\n",
       "<polygon fill=\"black\" stroke=\"black\" points=\"18.8,-39.44 24.75,-30.68 14.63,-33.81 18.8,-39.44\"/>\n",
       "<text text-anchor=\"middle\" x=\"36.88\" y=\"-57.95\" font-family=\"Times,serif\" font-size=\"14.00\">б:B:10.00</text>\n",
       "</g>\n",
       "<!-- 1&#45;&gt;0 -->\n",
       "<g id=\"edge3\" class=\"edge\">\n",
       "<title>1&#45;&gt;0</title>\n",
       "<path fill=\"none\" stroke=\"black\" d=\"M59.95,-33.97C64.27,-39.81 68.53,-46.82 70.76,-54 73.02,-61.32 73.02,-63.93 70.76,-71.25 69.64,-74.84 68.02,-78.39 66.14,-81.77\"/>\n",
       "<polygon fill=\"black\" stroke=\"black\" points=\"63.29,-79.72 60.77,-90.02 69.16,-83.54 63.29,-79.72\"/>\n",
       "<text text-anchor=\"middle\" x=\"108.13\" y=\"-57.95\" font-family=\"Times,serif\" font-size=\"14.00\">ю:U:40.00</text>\n",
       "</g>\n",
       "<!-- 1&#45;&gt;1 -->\n",
       "<g id=\"edge2\" class=\"edge\">\n",
       "<title>1&#45;&gt;1</title>\n",
       "<path fill=\"none\" stroke=\"black\" d=\"M71.29,-26.24C82.26,-27.02 91.76,-24.28 91.76,-18 91.76,-14.08 88.05,-11.53 82.59,-10.37\"/>\n",
       "<polygon fill=\"black\" stroke=\"black\" points=\"82.97,-6.89 72.8,-9.84 82.6,-13.88 82.97,-6.89\"/>\n",
       "<text text-anchor=\"middle\" x=\"126.26\" y=\"-13.32\" font-family=\"Times,serif\" font-size=\"14.00\">д:D:20.00</text>\n",
       "</g>\n",
       "</g>\n",
       "</svg>\n"
      ],
      "text/plain": [
       "<graphviz.graphs.Digraph at 0x762c73a84a90>"
      ]
     },
     "metadata": {},
     "output_type": "display_data"
    },
    {
     "name": "stdout",
     "output_type": "stream",
     "text": [
      "Test 1.c passed\n"
     ]
    }
   ],
   "source": [
    "def test_OnTheFlyCompose():\n",
    "    en_l = SymbolsMap(id2symbol=['<eps>', 'b', 'd', 'u'])\n",
    "    ru_l = SymbolsMap(id2symbol=['<eps>', 'ю', 'д', 'б'])\n",
    "    en_U = SymbolsMap(id2symbol=['<eps>', 'B', 'D', 'U'])\n",
    "    ru_U = SymbolsMap(id2symbol=['<eps>', 'Ю', 'Д', 'Б'])\n",
    "    \n",
    "    # create first transducer\n",
    "    en2ru = WFST(isymbols=en_l, osymbols=ru_l)\n",
    "    en2ru_final = en2ru.new_state()\n",
    "    en2ru.set_final(en2ru_final)\n",
    "    en2ru.add_arc(en2ru.get_start(), Arc(1, 3, 1.0, en2ru_final))\n",
    "    en2ru.add_arc(en2ru_final, Arc(2, 2, 2.0, en2ru.get_start()))\n",
    "    en2ru.add_arc(en2ru.get_start(), Arc(2, 0, 0.1, en2ru.get_start()))\n",
    "    en2ru.add_arc(en2ru.get_start(), Arc(3, 1, 3.0, en2ru_final))\n",
    "    # you can use this line to visualize\n",
    "    display.display(en2ru.to_dot())\n",
    "\n",
    "    # OnTheFlyCompose одного fst работает так же как и этот fst\n",
    "    comp = OnTheFlyCompose([en2ru])\n",
    "    for s in (0, 1):\n",
    "        for il in 'bdu':\n",
    "            hyps1 = en2ru.transduce(s, il)\n",
    "            hyps2 = comp.transduce((s,), il)\n",
    "            for h in hyps2:\n",
    "                # only one state\n",
    "                assert len(h[2]) == 1, f\"{hyps2=}\"\n",
    "            hyps2_flatten = tuple((l, w, ss[0]) for l,w,ss in hyps2)\n",
    "            assert hyps1 == hyps2_flatten, f\"{hyps1=} {hyps2_flatten=}\"\n",
    "        \n",
    "        scores = [float('inf'), 0]\n",
    "        your_score = comp.final_score((s,))\n",
    "        assert your_score == scores[s], f\"Your score = {your_score}, correct = {scores[s]}\"\n",
    "\n",
    "    # create second transducer\n",
    "    ru2en = WFST(isymbols=ru_l, osymbols=en_U)\n",
    "    ru2en_final = ru2en.new_state()\n",
    "    ru2en.set_final(ru2en_final)\n",
    "    ru2en.add_arc(ru2en.get_start(), Arc(3, 1, 10.0, ru2en_final))\n",
    "    ru2en.add_arc(ru2en_final, Arc(2, 2, 20.0, ru2en_final))\n",
    "    ru2en.add_arc(ru2en_final, Arc(2, 2, 30.0, ru2en.get_start()))\n",
    "    ru2en.add_arc(ru2en_final, Arc(1, 3, 40.0, ru2en.get_start()))\n",
    "    \n",
    "    # you can use this line to visualize\n",
    "    display.display(ru2en.to_dot())\n",
    "\n",
    "    # композиция двух работает как последовательное применение каждого \n",
    "    comp = OnTheFlyCompose([en2ru, ru2en])\n",
    "    hyps = comp.transduce((0, 0), 'b')\n",
    "    assert hyps == (('B', 11.0, (1, 1)), ) , f\"{hyps =}\"\n",
    "    hyps = comp.transduce((1, 1), 'd')\n",
    "    assert hyps == (('D', 22.0, (0, 1)), ('D', 32.0, (0, 0))) , f\"{hyps =}\"\n",
    "    hyps = comp.transduce((0, 1), 'd')\n",
    "    assert hyps == (('<eps>', 0.1, (0, 1)), ) , f\"{hyps =}\"\n",
    "    # Проверка правильности расчетов final_score\n",
    "    your_score = comp.final_score((0, 0))\n",
    "    assert your_score == float('inf'), f\"Your score = {your_score}, correct = {float('inf')}\"\n",
    "    your_score = comp.final_score((0, 1))\n",
    "    assert your_score == float('inf'), f\"Your score = {your_score}, correct = {float('inf')}\"\n",
    "    your_score = comp.final_score((1, 0))\n",
    "    assert your_score == float('inf'), f\"Your score = {your_score}, correct = {float('inf')}\"\n",
    "    your_score = comp.final_score((1, 1))\n",
    "    assert your_score == 0, f\"Your score = {your_score}, correct = {0}\"\n",
    "    print('Test 1.c passed')\n",
    "    \n",
    "    \n",
    "test_OnTheFlyCompose()"
   ]
  },
  {
   "cell_type": "markdown",
   "metadata": {},
   "source": [
    "# 2. WFST декодинг в ASR системе\n",
    "Отлично, код WFST готов, теперь необходимо собрать граф распознавания и написать поиск наилучшей гипотезы \n",
    "\n",
    "\n"
   ]
  },
  {
   "cell_type": "code",
   "execution_count": 81,
   "metadata": {},
   "outputs": [],
   "source": [
    "# Сначала подготовим нужные нам таблицы символов\n",
    "AM_PHONES = {0: 'pau', 1: 'aa', 2: 'ae', 3: 'ah', 4: 'ao', 5: 'aw', 6: 'ax', 7: 'ax-h', 8: 'axr', 9: 'ay', 10: 'b', \n",
    "             11: 'bcl', 12: 'ch', 13: 'd', 14: 'dcl', 15: 'dh', 16: 'dx', 17: 'eh', 18: 'el', 19: 'em', 20: 'en', \n",
    "             21: 'eng', 22: 'er', 23: 'ey', 24: 'f', 25: 'g', 26: 'gcl', 27: 'hh', 28: 'hv', 29: 'ih', 30: 'ix', \n",
    "             31: 'iy', 32: 'jh', 33: 'k', 34: 'kcl', 35: 'l', 36: 'm', 37: 'n', 38: 'ng', 39: 'nx', 40: 'ow', \n",
    "             41: 'oy', 42: 'p', 43: 'pcl', 44: 'q', 45: 'r', 46: 's', 47: 'sh', 48: 't', 49: 'tcl', 50: 'th', \n",
    "             51: 'uh', 52: 'uw', 53: 'ux', 54: 'v', 55: 'w', 56: 'y', 57: 'z', 58: 'zh'}\n",
    "\n",
    "# таблица фонем для wfst \n",
    "def create_phones_txt(fname='exp/phones.txt'):\n",
    "    fname = Path(fname) \n",
    "    fname.parent.mkdir(exist_ok=True, parents=True)\n",
    "    with open(fname, 'w') as f:\n",
    "        f.write('<eps> 0\\n') # !! shift all ids by one !! \n",
    "        for i, p in sorted(AM_PHONES.items()):\n",
    "            f.write(f'{p} {i+1}\\n')\n",
    "create_phones_txt()\n"
   ]
  },
  {
   "cell_type": "code",
   "execution_count": 82,
   "metadata": {},
   "outputs": [],
   "source": [
    "# Загрузим подготовленный лексикон из датасета \n",
    "def load_lexicon_file(fname='timit/TIMITDIC.TXT', words_limit=-1):\n",
    "    \"\"\"generator running through the 'fname' phonetic dictionary \n",
    "    yield (word: str, phones: List[str])\"\"\"\n",
    "    num = 0\n",
    "    with open(fname) as f:\n",
    "        for line in map(str.strip, f.readlines()):\n",
    "            if line.startswith(';'):\n",
    "                continue\n",
    "            word, trans, _ = line.split('/')\n",
    "            # remove ~adj suffix \n",
    "            word = word.split('~')[0].strip() \n",
    "            # remove stress factor\n",
    "            trans = [t[:-1] if t[-1].isdigit() else t for t in trans.split()]\n",
    "            yield word, trans\n",
    "            num += 1\n",
    "            if words_limit == num:\n",
    "                break"
   ]
  },
  {
   "cell_type": "code",
   "execution_count": 83,
   "metadata": {},
   "outputs": [],
   "source": [
    "# подготовим таблицу слов\n",
    "def create_words_txt(fname='exp/words.txt', dic_fname='timit/TIMITDIC.TXT'):\n",
    "    fname = Path(fname)\n",
    "    fname.parent.mkdir(exist_ok=True, parents=True)\n",
    "    words = ['<eps>'] + [w for w, _ in sorted(load_lexicon_file(dic_fname))] + ['<s>', '</s>']\n",
    "    with open(fname, 'w') as f:\n",
    "        f.write(''.join(f'{w} {i}\\n' for i, w in enumerate(words)))\n",
    "create_words_txt()"
   ]
  },
  {
   "cell_type": "markdown",
   "metadata": {},
   "source": [
    "# T transducer\n",
    "\n",
    "Создадим первый wfst. \n",
    "\n",
    "В гибридном пайплайне системы распознавания речи задача первых двух wfst (H и C) - это перевести предсказанные с помощью акустической модели классы в последовательность фонем. В нашем случае все значительно легче, так как АМ (из работы №3) уже учится предсказывать фонемы, поэтому мы не будем использовать HС трансдьюсеры. \n",
    "\n",
    "В этой работе будет использоваться простой трасдьюсер T. Этот wfst нужен для преобразования вероятностей фонем, которые оценивает AM, в их правдоподобие. Используя теорему Баеса, сделать это преобразование легко. Надо просто добавить к скорам фонем их априорную вероятность.\n",
    "\n",
    "\n",
    "T.wfst состоит из одного состояния и N петель, где N - это количество фонем. Каждая петля соответствует определенной фонеме и хранит логарифм ее априорной вероятности.\n",
    "\n",
    "![image](resources/lab4/H_example.svg)"
   ]
  },
  {
   "cell_type": "code",
   "execution_count": 84,
   "metadata": {},
   "outputs": [
    {
     "data": {
      "image/svg+xml": [
       "<?xml version=\"1.0\" encoding=\"UTF-8\" standalone=\"no\"?>\n",
       "<!DOCTYPE svg PUBLIC \"-//W3C//DTD SVG 1.1//EN\"\n",
       " \"http://www.w3.org/Graphics/SVG/1.1/DTD/svg11.dtd\">\n",
       "<!-- Generated by graphviz version 12.0.0 (20240803.0821)\n",
       " -->\n",
       "<!-- Pages: 1 -->\n",
       "<svg width=\"5590pt\" height=\"186pt\"\n",
       " viewBox=\"0.00 0.00 5589.50 185.57\" xmlns=\"http://www.w3.org/2000/svg\" xmlns:xlink=\"http://www.w3.org/1999/xlink\">\n",
       "<g id=\"graph0\" class=\"graph\" transform=\"scale(1 1) rotate(0) translate(4 181.57)\">\n",
       "<polygon fill=\"white\" stroke=\"none\" points=\"-4,4 -4,-181.57 5585.5,-181.57 5585.5,4 -4,4\"/>\n",
       "<!-- 0 -->\n",
       "<g id=\"node1\" class=\"node\">\n",
       "<title>0</title>\n",
       "<ellipse fill=\"none\" stroke=\"black\" cx=\"27\" cy=\"-88.82\" rx=\"27\" ry=\"18\"/>\n",
       "<text text-anchor=\"middle\" x=\"27\" y=\"-84.14\" font-family=\"Times,serif\" font-size=\"14.00\">0</text>\n",
       "</g>\n",
       "<!-- 0&#45;&gt;0 -->\n",
       "<g id=\"edge1\" class=\"edge\">\n",
       "<title>0&#45;&gt;0</title>\n",
       "<path fill=\"none\" stroke=\"black\" d=\"M54.24,-90.32C64.02,-90.35 72,-89.85 72,-88.82 72,-88.24 69.48,-87.83 65.53,-87.58\"/>\n",
       "<polygon fill=\"black\" stroke=\"black\" points=\"65.83,-84.09 55.75,-87.35 65.67,-91.09 65.83,-84.09\"/>\n",
       "<text text-anchor=\"middle\" x=\"120.75\" y=\"-84.14\" font-family=\"Times,serif\" font-size=\"14.00\">pau:pau:&#45;2.07</text>\n",
       "</g>\n",
       "<!-- 0&#45;&gt;0 -->\n",
       "<g id=\"edge2\" class=\"edge\">\n",
       "<title>0&#45;&gt;0</title>\n",
       "<path fill=\"none\" stroke=\"black\" d=\"M54.17,-90.92C96.82,-92.61 169.5,-91.91 169.5,-88.82 169.5,-85.98 108.51,-85.16 65.49,-86.34\"/>\n",
       "<polygon fill=\"black\" stroke=\"black\" points=\"65.56,-82.84 55.68,-86.67 65.79,-89.83 65.56,-82.84\"/>\n",
       "<text text-anchor=\"middle\" x=\"208.5\" y=\"-84.14\" font-family=\"Times,serif\" font-size=\"14.00\">sh:sh:&#45;4.00</text>\n",
       "</g>\n",
       "<!-- 0&#45;&gt;0 -->\n",
       "<g id=\"edge3\" class=\"edge\">\n",
       "<title>0&#45;&gt;0</title>\n",
       "<path fill=\"none\" stroke=\"black\" d=\"M53.85,-91.38C114.8,-94.64 247.5,-93.79 247.5,-88.82 247.5,-84.14 129.89,-83.11 65.26,-85.73\"/>\n",
       "<polygon fill=\"black\" stroke=\"black\" points=\"65.19,-82.22 55.36,-86.19 65.51,-89.22 65.19,-82.22\"/>\n",
       "<text text-anchor=\"middle\" x=\"282.75\" y=\"-84.14\" font-family=\"Times,serif\" font-size=\"14.00\">ix:ix:&#45;3.46</text>\n",
       "</g>\n",
       "<!-- 0&#45;&gt;0 -->\n",
       "<g id=\"edge4\" class=\"edge\">\n",
       "<title>0&#45;&gt;0</title>\n",
       "<path fill=\"none\" stroke=\"black\" d=\"M53.95,-91.79C129.19,-96.65 318,-95.66 318,-88.82 318,-82.3 146.47,-81.09 65.25,-85.21\"/>\n",
       "<polygon fill=\"black\" stroke=\"black\" points=\"65.25,-81.7 55.46,-85.76 65.65,-88.69 65.25,-81.7\"/>\n",
       "<text text-anchor=\"middle\" x=\"357.75\" y=\"-84.14\" font-family=\"Times,serif\" font-size=\"14.00\">hv:hv:&#45;5.19</text>\n",
       "</g>\n",
       "<!-- 0&#45;&gt;0 -->\n",
       "<g id=\"edge5\" class=\"edge\">\n",
       "<title>0&#45;&gt;0</title>\n",
       "<path fill=\"none\" stroke=\"black\" d=\"M53.82,-92.08C143.13,-98.66 397.5,-97.58 397.5,-88.82 397.5,-80.4 162.61,-79.07 65.01,-84.82\"/>\n",
       "<polygon fill=\"black\" stroke=\"black\" points=\"65.08,-81.31 55.33,-85.46 65.54,-88.3 65.08,-81.31\"/>\n",
       "<text text-anchor=\"middle\" x=\"437.25\" y=\"-84.14\" font-family=\"Times,serif\" font-size=\"14.00\">eh:eh:&#45;3.70</text>\n",
       "</g>\n",
       "<!-- 0&#45;&gt;0 -->\n",
       "<g id=\"edge6\" class=\"edge\">\n",
       "<title>0&#45;&gt;0</title>\n",
       "<path fill=\"none\" stroke=\"black\" d=\"M53.68,-92.32C155.75,-100.67 477,-99.51 477,-88.82 477,-78.5 177.33,-77.05 64.9,-84.49\"/>\n",
       "<polygon fill=\"black\" stroke=\"black\" points=\"64.91,-80.98 55.19,-85.2 65.42,-87.96 64.91,-80.98\"/>\n",
       "<text text-anchor=\"middle\" x=\"520.5\" y=\"-84.14\" font-family=\"Times,serif\" font-size=\"14.00\">dcl:dcl:&#45;4.03</text>\n",
       "</g>\n",
       "<!-- 0&#45;&gt;0 -->\n",
       "<g id=\"edge7\" class=\"edge\">\n",
       "<title>0&#45;&gt;0</title>\n",
       "<path fill=\"none\" stroke=\"black\" d=\"M53.9,-92.55C169.14,-102.68 564,-101.44 564,-88.82 564,-76.58 192.69,-75.04 65.12,-84.2\"/>\n",
       "<polygon fill=\"black\" stroke=\"black\" points=\"65.1,-80.69 55.41,-84.96 65.66,-87.66 65.1,-80.69\"/>\n",
       "<text text-anchor=\"middle\" x=\"600\" y=\"-84.14\" font-family=\"Times,serif\" font-size=\"14.00\">jh:jh:&#45;5.30</text>\n",
       "</g>\n",
       "<!-- 0&#45;&gt;0 -->\n",
       "<g id=\"edge8\" class=\"edge\">\n",
       "<title>0&#45;&gt;0</title>\n",
       "<path fill=\"none\" stroke=\"black\" d=\"M53.59,-92.74C178.73,-104.69 636,-103.38 636,-88.82 636,-74.67 204.27,-73.03 65,-83.91\"/>\n",
       "<polygon fill=\"black\" stroke=\"black\" points=\"64.76,-80.42 55.1,-84.76 65.36,-87.39 64.76,-80.42\"/>\n",
       "<text text-anchor=\"middle\" x=\"672\" y=\"-84.14\" font-family=\"Times,serif\" font-size=\"14.00\">ih:ih:&#45;3.57</text>\n",
       "</g>\n",
       "<!-- 0&#45;&gt;0 -->\n",
       "<g id=\"edge9\" class=\"edge\">\n",
       "<title>0&#45;&gt;0</title>\n",
       "<path fill=\"none\" stroke=\"black\" d=\"M53.49,-92.93C188.34,-106.69 708,-105.32 708,-88.82 708,-72.75 215.38,-71.02 64.94,-83.65\"/>\n",
       "<polygon fill=\"black\" stroke=\"black\" points=\"64.63,-80.16 55,-84.57 65.28,-87.13 64.63,-80.16\"/>\n",
       "<text text-anchor=\"middle\" x=\"739.5\" y=\"-84.14\" font-family=\"Times,serif\" font-size=\"14.00\">d:d:&#45;5.16</text>\n",
       "</g>\n",
       "<!-- 0&#45;&gt;0 -->\n",
       "<g id=\"edge10\" class=\"edge\">\n",
       "<title>0&#45;&gt;0</title>\n",
       "<path fill=\"none\" stroke=\"black\" d=\"M53.66,-93.14C197.35,-108.7 771,-107.26 771,-88.82 771,-70.83 225.02,-69.02 64.94,-83.39\"/>\n",
       "<polygon fill=\"black\" stroke=\"black\" points=\"64.77,-79.89 55.16,-84.35 65.46,-86.85 64.77,-79.89\"/>\n",
       "<text text-anchor=\"middle\" x=\"810.75\" y=\"-84.14\" font-family=\"Times,serif\" font-size=\"14.00\">ah:ah:&#45;4.24</text>\n",
       "</g>\n",
       "<!-- 0&#45;&gt;0 -->\n",
       "<g id=\"edge11\" class=\"edge\">\n",
       "<title>0&#45;&gt;0</title>\n",
       "<path fill=\"none\" stroke=\"black\" d=\"M53.27,-93.24C206.27,-110.7 850.5,-109.23 850.5,-88.82 850.5,-68.88 235.5,-67.01 64.57,-83.22\"/>\n",
       "<polygon fill=\"black\" stroke=\"black\" points=\"64.37,-79.72 54.78,-84.24 65.09,-86.69 64.37,-79.72\"/>\n",
       "<text text-anchor=\"middle\" x=\"893.25\" y=\"-84.14\" font-family=\"Times,serif\" font-size=\"14.00\">kcl:kcl:&#45;3.70</text>\n",
       "</g>\n",
       "<!-- 0&#45;&gt;0 -->\n",
       "<g id=\"edge12\" class=\"edge\">\n",
       "<title>0&#45;&gt;0</title>\n",
       "<path fill=\"none\" stroke=\"black\" d=\"M53.58,-93.4C217.33,-112.71 936,-111.18 936,-88.82 936,-66.94 247.88,-65.01 64.89,-83.02\"/>\n",
       "<polygon fill=\"black\" stroke=\"black\" points=\"64.65,-79.52 55.09,-84.07 65.4,-86.48 64.65,-79.52\"/>\n",
       "<text text-anchor=\"middle\" x=\"966.75\" y=\"-84.14\" font-family=\"Times,serif\" font-size=\"14.00\">k:k:&#45;4.04</text>\n",
       "</g>\n",
       "<!-- 0&#45;&gt;0 -->\n",
       "<g id=\"edge13\" class=\"edge\">\n",
       "<title>0&#45;&gt;0</title>\n",
       "<path fill=\"none\" stroke=\"black\" d=\"M53.57,-93.55C225.03,-114.71 997.5,-113.13 997.5,-88.82 997.5,-65.01 256.38,-63 64.86,-82.81\"/>\n",
       "<polygon fill=\"black\" stroke=\"black\" points=\"64.62,-79.31 55.07,-83.91 65.4,-86.27 64.62,-79.31\"/>\n",
       "<text text-anchor=\"middle\" x=\"1027.5\" y=\"-84.14\" font-family=\"Times,serif\" font-size=\"14.00\">s:s:&#45;2.82</text>\n",
       "</g>\n",
       "<!-- 0&#45;&gt;0 -->\n",
       "<g id=\"edge14\" class=\"edge\">\n",
       "<title>0&#45;&gt;0</title>\n",
       "<path fill=\"none\" stroke=\"black\" d=\"M53.34,-93.67C231.81,-116.71 1057.5,-115.1 1057.5,-88.82 1057.5,-63.05 263.75,-61 64.53,-82.65\"/>\n",
       "<polygon fill=\"black\" stroke=\"black\" points=\"64.36,-79.14 54.84,-83.79 65.18,-86.09 64.36,-79.14\"/>\n",
       "<text text-anchor=\"middle\" x=\"1097.25\" y=\"-84.14\" font-family=\"Times,serif\" font-size=\"14.00\">ux:ux:&#45;4.23</text>\n",
       "</g>\n",
       "<!-- 0&#45;&gt;0 -->\n",
       "<g id=\"edge15\" class=\"edge\">\n",
       "<title>0&#45;&gt;0</title>\n",
       "<path fill=\"none\" stroke=\"black\" d=\"M53.41,-93.78C241.01,-118.72 1137,-117.06 1137,-88.82 1137,-61.1 273.95,-58.99 64.57,-82.49\"/>\n",
       "<polygon fill=\"black\" stroke=\"black\" points=\"64.41,-78.99 54.91,-83.67 65.26,-85.94 64.41,-78.99\"/>\n",
       "<text text-anchor=\"middle\" x=\"1168.5\" y=\"-84.14\" font-family=\"Times,serif\" font-size=\"14.00\">q:q:&#45;4.11</text>\n",
       "</g>\n",
       "<!-- 0&#45;&gt;0 -->\n",
       "<g id=\"edge16\" class=\"edge\">\n",
       "<title>0&#45;&gt;0</title>\n",
       "<path fill=\"none\" stroke=\"black\" d=\"M53.44,-93.91C248.57,-120.72 1200,-119.02 1200,-88.82 1200,-59.16 282.64,-56.99 64.74,-82.3\"/>\n",
       "<polygon fill=\"black\" stroke=\"black\" points=\"64.42,-78.82 54.94,-83.54 65.3,-85.76 64.42,-78.82\"/>\n",
       "<text text-anchor=\"middle\" x=\"1239.75\" y=\"-84.14\" font-family=\"Times,serif\" font-size=\"14.00\">en:en:&#45;5.51</text>\n",
       "</g>\n",
       "<!-- 0&#45;&gt;0 -->\n",
       "<g id=\"edge17\" class=\"edge\">\n",
       "<title>0&#45;&gt;0</title>\n",
       "<path fill=\"none\" stroke=\"black\" d=\"M53.15,-93.96C256.27,-122.72 1279.5,-121.01 1279.5,-88.82 1279.5,-57.18 290.95,-54.98 64.28,-82.23\"/>\n",
       "<polygon fill=\"black\" stroke=\"black\" points=\"64.12,-78.72 54.65,-83.48 65.02,-85.66 64.12,-78.72\"/>\n",
       "<text text-anchor=\"middle\" x=\"1323\" y=\"-84.14\" font-family=\"Times,serif\" font-size=\"14.00\">gcl:gcl:&#45;4.85</text>\n",
       "</g>\n",
       "<!-- 0&#45;&gt;0 -->\n",
       "<g id=\"edge18\" class=\"edge\">\n",
       "<title>0&#45;&gt;0</title>\n",
       "<path fill=\"none\" stroke=\"black\" d=\"M53.07,-94.02C265.01,-124.73 1366.5,-122.99 1366.5,-88.82 1366.5,-55.21 301.28,-52.98 64.35,-82.11\"/>\n",
       "<polygon fill=\"black\" stroke=\"black\" points=\"64.02,-78.62 54.57,-83.41 64.95,-85.56 64.02,-78.62\"/>\n",
       "<text text-anchor=\"middle\" x=\"1398\" y=\"-84.14\" font-family=\"Times,serif\" font-size=\"14.00\">g:g:&#45;5.46</text>\n",
       "</g>\n",
       "<!-- 0&#45;&gt;0 -->\n",
       "<g id=\"edge19\" class=\"edge\">\n",
       "<title>0&#45;&gt;0</title>\n",
       "<path fill=\"none\" stroke=\"black\" d=\"M53.01,-94.11C271.9,-126.73 1429.5,-124.96 1429.5,-88.82 1429.5,-53.26 308.91,-50.97 64.31,-81.97\"/>\n",
       "<polygon fill=\"black\" stroke=\"black\" points=\"63.94,-78.49 54.51,-83.32 64.89,-85.43 63.94,-78.49\"/>\n",
       "<text text-anchor=\"middle\" x=\"1458.75\" y=\"-84.14\" font-family=\"Times,serif\" font-size=\"14.00\">r:r:&#45;3.58</text>\n",
       "</g>\n",
       "<!-- 0&#45;&gt;0 -->\n",
       "<g id=\"edge20\" class=\"edge\">\n",
       "<title>0&#45;&gt;0</title>\n",
       "<path fill=\"none\" stroke=\"black\" d=\"M53.16,-94.23C279.19,-128.73 1488,-126.92 1488,-88.82 1488,-51.31 316.67,-48.97 64.46,-81.81\"/>\n",
       "<polygon fill=\"black\" stroke=\"black\" points=\"64.07,-78.33 54.66,-83.19 65.05,-85.27 64.07,-78.33\"/>\n",
       "<text text-anchor=\"middle\" x=\"1522.5\" y=\"-84.14\" font-family=\"Times,serif\" font-size=\"14.00\">w:w:&#45;4.22</text>\n",
       "</g>\n",
       "<!-- 0&#45;&gt;0 -->\n",
       "<g id=\"edge21\" class=\"edge\">\n",
       "<title>0&#45;&gt;0</title>\n",
       "<path fill=\"none\" stroke=\"black\" d=\"M52.94,-94.28C285.82,-130.73 1557,-128.91 1557,-88.82 1557,-49.33 324.01,-46.97 64.22,-81.73\"/>\n",
       "<polygon fill=\"black\" stroke=\"black\" points=\"63.83,-78.25 54.44,-83.14 64.83,-85.17 63.83,-78.25\"/>\n",
       "<text text-anchor=\"middle\" x=\"1596\" y=\"-84.14\" font-family=\"Times,serif\" font-size=\"14.00\">ao:ao:&#45;3.66</text>\n",
       "</g>\n",
       "<!-- 0&#45;&gt;0 -->\n",
       "<g id=\"edge22\" class=\"edge\">\n",
       "<title>0&#45;&gt;0</title>\n",
       "<path fill=\"none\" stroke=\"black\" d=\"M53.03,-94.36C294.1,-132.73 1635,-130.88 1635,-88.82 1635,-47.37 333.1,-44.97 64.33,-81.61\"/>\n",
       "<polygon fill=\"black\" stroke=\"black\" points=\"63.92,-78.13 54.53,-83.05 64.93,-85.06 63.92,-78.13\"/>\n",
       "<text text-anchor=\"middle\" x=\"1674.75\" y=\"-84.14\" font-family=\"Times,serif\" font-size=\"14.00\">dx:dx:&#45;5.20</text>\n",
       "</g>\n",
       "<!-- 0&#45;&gt;0 -->\n",
       "<g id=\"edge23\" class=\"edge\">\n",
       "<title>0&#45;&gt;0</title>\n",
       "<path fill=\"none\" stroke=\"black\" d=\"M53.05,-94.43C302.1,-134.74 1714.5,-132.86 1714.5,-88.82 1714.5,-45.4 341.82,-42.96 64.33,-81.52\"/>\n",
       "<polygon fill=\"black\" stroke=\"black\" points=\"63.92,-78.04 54.55,-82.98 64.96,-84.96 63.92,-78.04\"/>\n",
       "<text text-anchor=\"middle\" x=\"1760.25\" y=\"-84.14\" font-family=\"Times,serif\" font-size=\"14.00\">axr:axr:&#45;3.93</text>\n",
       "</g>\n",
       "<!-- 0&#45;&gt;0 -->\n",
       "<g id=\"edge24\" class=\"edge\">\n",
       "<title>0&#45;&gt;0</title>\n",
       "<path fill=\"none\" stroke=\"black\" d=\"M53.05,-94.48C310.65,-136.74 1806,-134.85 1806,-88.82 1806,-43.42 351.26,-40.96 64.3,-81.45\"/>\n",
       "<polygon fill=\"black\" stroke=\"black\" points=\"63.9,-77.97 54.54,-82.93 64.95,-84.89 63.9,-77.97\"/>\n",
       "<text text-anchor=\"middle\" x=\"1833\" y=\"-84.14\" font-family=\"Times,serif\" font-size=\"14.00\">l:l:&#45;3.70</text>\n",
       "</g>\n",
       "<!-- 0&#45;&gt;0 -->\n",
       "<g id=\"edge25\" class=\"edge\">\n",
       "<title>0&#45;&gt;0</title>\n",
       "<path fill=\"none\" stroke=\"black\" d=\"M52.78,-94.52C315.8,-138.74 1860,-136.84 1860,-88.82 1860,-41.43 356.25,-38.95 63.84,-81.4\"/>\n",
       "<polygon fill=\"black\" stroke=\"black\" points=\"63.61,-77.89 54.27,-82.89 64.69,-84.8 63.61,-77.89\"/>\n",
       "<text text-anchor=\"middle\" x=\"1890.75\" y=\"-84.14\" font-family=\"Times,serif\" font-size=\"14.00\">y:y:&#45;4.83</text>\n",
       "</g>\n",
       "<!-- 0&#45;&gt;0 -->\n",
       "<g id=\"edge26\" class=\"edge\">\n",
       "<title>0&#45;&gt;0</title>\n",
       "<path fill=\"none\" stroke=\"black\" d=\"M52.89,-94.6C322.85,-140.74 1921.5,-138.81 1921.5,-88.82 1921.5,-39.48 364.73,-36.95 64.25,-81.23\"/>\n",
       "<polygon fill=\"black\" stroke=\"black\" points=\"63.71,-77.77 54.38,-82.8 64.81,-84.69 63.71,-77.77\"/>\n",
       "<text text-anchor=\"middle\" x=\"1962\" y=\"-84.14\" font-family=\"Times,serif\" font-size=\"14.00\">uh:uh:&#45;5.85</text>\n",
       "</g>\n",
       "<!-- 0&#45;&gt;0 -->\n",
       "<g id=\"edge27\" class=\"edge\">\n",
       "<title>0&#45;&gt;0</title>\n",
       "<path fill=\"none\" stroke=\"black\" d=\"M53.03,-94.68C331.14,-142.74 2002.5,-140.79 2002.5,-88.82 2002.5,-37.51 373.31,-34.95 64.29,-81.15\"/>\n",
       "<polygon fill=\"black\" stroke=\"black\" points=\"63.85,-77.68 54.53,-82.72 64.95,-84.59 63.85,-77.68\"/>\n",
       "<text text-anchor=\"middle\" x=\"2034\" y=\"-84.14\" font-family=\"Times,serif\" font-size=\"14.00\">n:n:&#45;3.61</text>\n",
       "</g>\n",
       "<!-- 0&#45;&gt;0 -->\n",
       "<g id=\"edge28\" class=\"edge\">\n",
       "<title>0&#45;&gt;0</title>\n",
       "<path fill=\"none\" stroke=\"black\" d=\"M53.05,-94.75C337.84,-144.74 2065.5,-142.77 2065.5,-88.82 2065.5,-35.53 379.77,-32.95 64.12,-81.08\"/>\n",
       "<polygon fill=\"black\" stroke=\"black\" points=\"63.85,-77.58 54.54,-82.65 64.98,-84.49 63.85,-77.58\"/>\n",
       "<text text-anchor=\"middle\" x=\"2104.5\" y=\"-84.14\" font-family=\"Times,serif\" font-size=\"14.00\">ae:ae:&#45;3.17</text>\n",
       "</g>\n",
       "<!-- 0&#45;&gt;0 -->\n",
       "<g id=\"edge29\" class=\"edge\">\n",
       "<title>0&#45;&gt;0</title>\n",
       "<path fill=\"none\" stroke=\"black\" d=\"M52.63,-94.72C343.56,-146.75 2143.5,-144.78 2143.5,-88.82 2143.5,-33.54 387.24,-30.95 63.95,-81.03\"/>\n",
       "<polygon fill=\"black\" stroke=\"black\" points=\"63.42,-77.58 54.12,-82.67 64.56,-84.48 63.42,-77.58\"/>\n",
       "<text text-anchor=\"middle\" x=\"2179.5\" y=\"-84.14\" font-family=\"Times,serif\" font-size=\"14.00\">m:m:&#45;4.08</text>\n",
       "</g>\n",
       "<!-- 0&#45;&gt;0 -->\n",
       "<g id=\"edge30\" class=\"edge\">\n",
       "<title>0&#45;&gt;0</title>\n",
       "<path fill=\"none\" stroke=\"black\" d=\"M52.57,-94.76C350.35,-148.75 2215.5,-146.77 2215.5,-88.82 2215.5,-31.55 393.81,-28.94 63.68,-81\"/>\n",
       "<polygon fill=\"black\" stroke=\"black\" points=\"63.34,-77.51 54.07,-82.62 64.51,-84.41 63.34,-77.51\"/>\n",
       "<text text-anchor=\"middle\" x=\"2254.5\" y=\"-84.14\" font-family=\"Times,serif\" font-size=\"14.00\">oy:oy:&#45;4.86</text>\n",
       "</g>\n",
       "<!-- 0&#45;&gt;0 -->\n",
       "<g id=\"edge31\" class=\"edge\">\n",
       "<title>0&#45;&gt;0</title>\n",
       "<path fill=\"none\" stroke=\"black\" d=\"M52.95,-94.87C359.23,-150.75 2293.5,-148.73 2293.5,-88.82 2293.5,-29.59 403.37,-26.94 64.13,-80.86\"/>\n",
       "<polygon fill=\"black\" stroke=\"black\" points=\"63.71,-77.38 54.44,-82.51 64.89,-84.28 63.71,-77.38\"/>\n",
       "<text text-anchor=\"middle\" x=\"2332.5\" y=\"-84.14\" font-family=\"Times,serif\" font-size=\"14.00\">ax:ax:&#45;4.40</text>\n",
       "</g>\n",
       "<!-- 0&#45;&gt;0 -->\n",
       "<g id=\"edge32\" class=\"edge\">\n",
       "<title>0&#45;&gt;0</title>\n",
       "<path fill=\"none\" stroke=\"black\" d=\"M52.82,-94.89C365.95,-152.75 2371.5,-150.72 2371.5,-88.82 2371.5,-27.61 410.75,-24.94 64.01,-80.82\"/>\n",
       "<polygon fill=\"black\" stroke=\"black\" points=\"63.57,-77.34 54.31,-82.49 64.76,-84.24 63.57,-77.34\"/>\n",
       "<text text-anchor=\"middle\" x=\"2412\" y=\"-84.14\" font-family=\"Times,serif\" font-size=\"14.00\">dh:dh:&#45;4.89</text>\n",
       "</g>\n",
       "<!-- 0&#45;&gt;0 -->\n",
       "<g id=\"edge33\" class=\"edge\">\n",
       "<title>0&#45;&gt;0</title>\n",
       "<path fill=\"none\" stroke=\"black\" d=\"M52.65,-94.9C372.59,-154.75 2452.5,-152.72 2452.5,-88.82 2452.5,-25.61 418.04,-22.94 63.83,-80.78\"/>\n",
       "<polygon fill=\"black\" stroke=\"black\" points=\"63.39,-77.31 54.14,-82.47 64.6,-84.2 63.39,-77.31\"/>\n",
       "<text text-anchor=\"middle\" x=\"2493\" y=\"-84.14\" font-family=\"Times,serif\" font-size=\"14.00\">tcl:tcl:&#45;3.66</text>\n",
       "</g>\n",
       "<!-- 0&#45;&gt;0 -->\n",
       "<g id=\"edge34\" class=\"edge\">\n",
       "<title>0&#45;&gt;0</title>\n",
       "<path fill=\"none\" stroke=\"black\" d=\"M52.44,-94.9C378.93,-156.75 2533.5,-154.73 2533.5,-88.82 2533.5,-23.62 424.97,-20.93 63.59,-80.76\"/>\n",
       "<polygon fill=\"black\" stroke=\"black\" points=\"63.16,-77.28 53.93,-82.47 64.38,-84.18 63.16,-77.28\"/>\n",
       "<text text-anchor=\"middle\" x=\"2568.75\" y=\"-84.14\" font-family=\"Times,serif\" font-size=\"14.00\">iy:iy:&#45;3.11</text>\n",
       "</g>\n",
       "<!-- 0&#45;&gt;0 -->\n",
       "<g id=\"edge35\" class=\"edge\">\n",
       "<title>0&#45;&gt;0</title>\n",
       "<path fill=\"none\" stroke=\"black\" d=\"M52.9,-95.03C387.72,-158.75 2604,-156.68 2604,-88.82 2604,-21.67 434.01,-18.93 64.06,-80.62\"/>\n",
       "<polygon fill=\"black\" stroke=\"black\" points=\"63.62,-77.14 54.39,-82.34 64.85,-84.03 63.62,-77.14\"/>\n",
       "<text text-anchor=\"middle\" x=\"2634.75\" y=\"-84.14\" font-family=\"Times,serif\" font-size=\"14.00\">v:v:&#45;4.77</text>\n",
       "</g>\n",
       "<!-- 0&#45;&gt;0 -->\n",
       "<g id=\"edge36\" class=\"edge\">\n",
       "<title>0&#45;&gt;0</title>\n",
       "<path fill=\"none\" stroke=\"black\" d=\"M52.81,-95.06C393.63,-160.75 2665.5,-158.67 2665.5,-88.82 2665.5,-19.68 439.98,-16.93 63.9,-80.58\"/>\n",
       "<polygon fill=\"black\" stroke=\"black\" points=\"63.52,-77.09 54.3,-82.31 64.76,-83.98 63.52,-77.09\"/>\n",
       "<text text-anchor=\"middle\" x=\"2693.25\" y=\"-84.14\" font-family=\"Times,serif\" font-size=\"14.00\">f:f:&#45;4.13</text>\n",
       "</g>\n",
       "<!-- 0&#45;&gt;0 -->\n",
       "<g id=\"edge37\" class=\"edge\">\n",
       "<title>0&#45;&gt;0</title>\n",
       "<path fill=\"none\" stroke=\"black\" d=\"M52.67,-95.08C399.03,-162.76 2721,-160.67 2721,-88.82 2721,-17.7 446.41,-14.93 63.94,-80.5\"/>\n",
       "<polygon fill=\"black\" stroke=\"black\" points=\"63.37,-77.04 54.16,-82.28 64.63,-83.93 63.37,-77.04\"/>\n",
       "<text text-anchor=\"middle\" x=\"2749.5\" y=\"-84.14\" font-family=\"Times,serif\" font-size=\"14.00\">t:t:&#45;4.21</text>\n",
       "</g>\n",
       "<!-- 0&#45;&gt;0 -->\n",
       "<g id=\"edge38\" class=\"edge\">\n",
       "<title>0&#45;&gt;0</title>\n",
       "<path fill=\"none\" stroke=\"black\" d=\"M52.77,-95.14C405.57,-164.76 2778,-162.65 2778,-88.82 2778,-15.73 452.83,-12.93 63.97,-80.42\"/>\n",
       "<polygon fill=\"black\" stroke=\"black\" points=\"63.46,-76.96 54.26,-82.22 64.73,-83.84 63.46,-76.96\"/>\n",
       "<text text-anchor=\"middle\" x=\"2821.5\" y=\"-84.14\" font-family=\"Times,serif\" font-size=\"14.00\">pcl:pcl:&#45;4.34</text>\n",
       "</g>\n",
       "<!-- 0&#45;&gt;0 -->\n",
       "<g id=\"edge39\" class=\"edge\">\n",
       "<title>0&#45;&gt;0</title>\n",
       "<path fill=\"none\" stroke=\"black\" d=\"M52.65,-95.15C412.44,-166.76 2865,-164.65 2865,-88.82 2865,-13.73 460.11,-10.93 63.78,-80.41\"/>\n",
       "<polygon fill=\"black\" stroke=\"black\" points=\"63.33,-76.93 54.14,-82.21 64.61,-83.82 63.33,-76.93\"/>\n",
       "<text text-anchor=\"middle\" x=\"2907.75\" y=\"-84.14\" font-family=\"Times,serif\" font-size=\"14.00\">ow:ow:&#45;3.96</text>\n",
       "</g>\n",
       "<!-- 0&#45;&gt;0 -->\n",
       "<g id=\"edge40\" class=\"edge\">\n",
       "<title>0&#45;&gt;0</title>\n",
       "<path fill=\"none\" stroke=\"black\" d=\"M52.76,-95.2C420.26,-168.76 2950.5,-166.63 2950.5,-88.82 2950.5,-11.75 468.22,-8.93 63.84,-80.35\"/>\n",
       "<polygon fill=\"black\" stroke=\"black\" points=\"63.43,-76.87 54.25,-82.16 64.72,-83.75 63.43,-76.87\"/>\n",
       "<text text-anchor=\"middle\" x=\"2991\" y=\"-84.14\" font-family=\"Times,serif\" font-size=\"14.00\">hh:hh:&#45;5.43</text>\n",
       "</g>\n",
       "<!-- 0&#45;&gt;0 -->\n",
       "<g id=\"edge41\" class=\"edge\">\n",
       "<title>0&#45;&gt;0</title>\n",
       "<path fill=\"none\" stroke=\"black\" d=\"M52.56,-95.19C426.39,-170.76 3031.5,-168.64 3031.5,-88.82 3031.5,-9.76 475.76,-6.92 63.84,-80.31\"/>\n",
       "<polygon fill=\"black\" stroke=\"black\" points=\"63.22,-76.86 54.05,-82.16 64.52,-83.74 63.22,-76.86\"/>\n",
       "<text text-anchor=\"middle\" x=\"3070.5\" y=\"-84.14\" font-family=\"Times,serif\" font-size=\"14.00\">ch:ch:&#45;5.30</text>\n",
       "</g>\n",
       "<!-- 0&#45;&gt;0 -->\n",
       "<g id=\"edge42\" class=\"edge\">\n",
       "<title>0&#45;&gt;0</title>\n",
       "<path fill=\"none\" stroke=\"black\" d=\"M52.6,-95.23C433.49,-172.76 3109.5,-170.62 3109.5,-88.82 3109.5,-7.77 482.91,-4.92 63.79,-80.27\"/>\n",
       "<polygon fill=\"black\" stroke=\"black\" points=\"63.25,-76.81 54.09,-82.12 64.57,-83.68 63.25,-76.81\"/>\n",
       "<text text-anchor=\"middle\" x=\"3153\" y=\"-84.14\" font-family=\"Times,serif\" font-size=\"14.00\">bcl:bcl:&#45;4.77</text>\n",
       "</g>\n",
       "<!-- 0&#45;&gt;0 -->\n",
       "<g id=\"edge43\" class=\"edge\">\n",
       "<title>0&#45;&gt;0</title>\n",
       "<path fill=\"none\" stroke=\"black\" d=\"M52.64,-95.26C440.9,-174.76 3196.5,-172.61 3196.5,-88.82 3196.5,-5.78 490.46,-2.92 63.73,-80.24\"/>\n",
       "<polygon fill=\"black\" stroke=\"black\" points=\"63.28,-76.76 54.12,-82.09 64.6,-83.64 63.28,-76.76\"/>\n",
       "<text text-anchor=\"middle\" x=\"3228\" y=\"-84.14\" font-family=\"Times,serif\" font-size=\"14.00\">b:b:&#45;5.92</text>\n",
       "</g>\n",
       "<!-- 0&#45;&gt;0 -->\n",
       "<g id=\"edge44\" class=\"edge\">\n",
       "<title>0&#45;&gt;0</title>\n",
       "<path fill=\"none\" stroke=\"black\" d=\"M52.6,-95.29C446.97,-176.76 3259.5,-174.61 3259.5,-88.82 3259.5,-3.81 497.55,-0.92 63.88,-80.16\"/>\n",
       "<polygon fill=\"black\" stroke=\"black\" points=\"63.24,-76.72 54.09,-82.06 64.57,-83.59 63.24,-76.72\"/>\n",
       "<text text-anchor=\"middle\" x=\"3298.5\" y=\"-84.14\" font-family=\"Times,serif\" font-size=\"14.00\">aa:aa:&#45;3.63</text>\n",
       "</g>\n",
       "<!-- 0&#45;&gt;0 -->\n",
       "<g id=\"edge45\" class=\"edge\">\n",
       "<title>0&#45;&gt;0</title>\n",
       "<path fill=\"none\" stroke=\"black\" d=\"M52.57,-95.31C453.66,-178.76 3337.5,-176.6 3337.5,-88.82 3337.5,-1.81 504.13,1.08 63.72,-80.14\"/>\n",
       "<polygon fill=\"black\" stroke=\"black\" points=\"63.2,-76.68 54.06,-82.03 64.54,-83.55 63.2,-76.68\"/>\n",
       "<text text-anchor=\"middle\" x=\"3381.75\" y=\"-84.14\" font-family=\"Times,serif\" font-size=\"14.00\">em:em:&#45;7.25</text>\n",
       "</g>\n",
       "<!-- 0&#45;&gt;0 -->\n",
       "<g id=\"edge46\" class=\"edge\">\n",
       "<title>0&#45;&gt;0</title>\n",
       "<path fill=\"none\" stroke=\"black\" d=\"M52.54,-95.33C460.71,-180.76 3426,-178.59 3426,-88.82 3426,0.19 511.17,3.08 63.56,-80.14\"/>\n",
       "<polygon fill=\"black\" stroke=\"black\" points=\"63.16,-76.65 54.02,-82.02 64.51,-83.52 63.16,-76.65\"/>\n",
       "<text text-anchor=\"middle\" x=\"3466.5\" y=\"-84.14\" font-family=\"Times,serif\" font-size=\"14.00\">ng:ng:&#45;5.15</text>\n",
       "</g>\n",
       "<!-- 0&#45;&gt;0 -->\n",
       "<g id=\"edge47\" class=\"edge\">\n",
       "<title>0&#45;&gt;0</title>\n",
       "<path fill=\"none\" stroke=\"black\" d=\"M52.47,-95.34C467.25,-182.77 3507,-180.59 3507,-88.82 3507,2.17 518.98,5.09 63.67,-80.08\"/>\n",
       "<polygon fill=\"black\" stroke=\"black\" points=\"63.08,-76.63 53.95,-82 64.44,-83.49 63.08,-76.63\"/>\n",
       "<text text-anchor=\"middle\" x=\"3546\" y=\"-84.14\" font-family=\"Times,serif\" font-size=\"14.00\">ay:ay:&#45;3.72</text>\n",
       "</g>\n",
       "<!-- 0&#45;&gt;0 -->\n",
       "<g id=\"edge48\" class=\"edge\">\n",
       "<title>0&#45;&gt;0</title>\n",
       "<path fill=\"none\" stroke=\"black\" d=\"M52.69,-95.41C475.07,-184.77 3585,-182.57 3585,-88.82 3585,4.15 526.48,7.09 63.76,-80.02\"/>\n",
       "<polygon fill=\"black\" stroke=\"black\" points=\"63.29,-76.54 54.17,-81.93 64.66,-83.41 63.29,-76.54\"/>\n",
       "<text text-anchor=\"middle\" x=\"3622.5\" y=\"-84.14\" font-family=\"Times,serif\" font-size=\"14.00\">th:th:&#45;5.33</text>\n",
       "</g>\n",
       "<!-- 0&#45;&gt;0 -->\n",
       "<g id=\"edge49\" class=\"edge\">\n",
       "<title>0&#45;&gt;0</title>\n",
       "<path fill=\"none\" stroke=\"black\" d=\"M52.57,-95.41C481.09,-186.77 3660,-184.57 3660,-88.82 3660,6.14 533.64,9.09 63.8,-79.97\"/>\n",
       "<polygon fill=\"black\" stroke=\"black\" points=\"63.17,-76.53 54.05,-81.93 64.54,-83.39 63.17,-76.53\"/>\n",
       "<text text-anchor=\"middle\" x=\"3711.75\" y=\"-84.14\" font-family=\"Times,serif\" font-size=\"14.00\">ax&#45;h:ax&#45;h:&#45;7.04</text>\n",
       "</g>\n",
       "<!-- 0&#45;&gt;0 -->\n",
       "<g id=\"edge50\" class=\"edge\">\n",
       "<title>0&#45;&gt;0</title>\n",
       "<path fill=\"none\" stroke=\"black\" d=\"M52.47,-95.41C488.24,-188.77 3763.5,-186.57 3763.5,-88.82 3763.5,8.15 540.8,11.09 63.55,-79.99\"/>\n",
       "<polygon fill=\"black\" stroke=\"black\" points=\"63.06,-76.52 53.95,-81.93 64.45,-83.38 63.06,-76.52\"/>\n",
       "<text text-anchor=\"middle\" x=\"3802.5\" y=\"-84.14\" font-family=\"Times,serif\" font-size=\"14.00\">ey:ey:&#45;3.89</text>\n",
       "</g>\n",
       "<!-- 0&#45;&gt;0 -->\n",
       "<g id=\"edge51\" class=\"edge\">\n",
       "<title>0&#45;&gt;0</title>\n",
       "<path fill=\"none\" stroke=\"black\" d=\"M52.64,-95.47C495.77,-190.77 3841.5,-188.55 3841.5,-88.82 3841.5,10.11 549.46,13.09 63.91,-79.89\"/>\n",
       "<polygon fill=\"black\" stroke=\"black\" points=\"63.23,-76.45 54.12,-81.87 64.62,-83.31 63.23,-76.45\"/>\n",
       "<text text-anchor=\"middle\" x=\"3873\" y=\"-84.14\" font-family=\"Times,serif\" font-size=\"14.00\">p:p:&#45;4.82</text>\n",
       "</g>\n",
       "<!-- 0&#45;&gt;0 -->\n",
       "<g id=\"edge52\" class=\"edge\">\n",
       "<title>0&#45;&gt;0</title>\n",
       "<path fill=\"none\" stroke=\"black\" d=\"M52.44,-95.45C500.88,-192.77 3904.5,-190.56 3904.5,-88.82 3904.5,12.13 553.85,15.09 63.49,-79.92\"/>\n",
       "<polygon fill=\"black\" stroke=\"black\" points=\"63.01,-76.45 53.92,-81.88 64.42,-83.3 63.01,-76.45\"/>\n",
       "<text text-anchor=\"middle\" x=\"3947.25\" y=\"-84.14\" font-family=\"Times,serif\" font-size=\"14.00\">aw:aw:&#45;4.79</text>\n",
       "</g>\n",
       "<!-- 0&#45;&gt;0 -->\n",
       "<g id=\"edge53\" class=\"edge\">\n",
       "<title>0&#45;&gt;0</title>\n",
       "<path fill=\"none\" stroke=\"black\" d=\"M52.59,-95.5C508.56,-194.77 3990,-192.54 3990,-88.82 3990,14.09 562.74,17.09 63.83,-79.82\"/>\n",
       "<polygon fill=\"black\" stroke=\"black\" points=\"63.16,-76.39 54.07,-81.83 64.57,-83.24 63.16,-76.39\"/>\n",
       "<text text-anchor=\"middle\" x=\"4027.5\" y=\"-84.14\" font-family=\"Times,serif\" font-size=\"14.00\">er:er:&#45;4.08</text>\n",
       "</g>\n",
       "<!-- 0&#45;&gt;0 -->\n",
       "<g id=\"edge54\" class=\"edge\">\n",
       "<title>0&#45;&gt;0</title>\n",
       "<path fill=\"none\" stroke=\"black\" d=\"M52.37,-95.48C513.95,-196.77 4065,-194.55 4065,-88.82 4065,16.11 567.5,19.09 63.38,-79.88\"/>\n",
       "<polygon fill=\"black\" stroke=\"black\" points=\"62.93,-76.39 53.85,-81.85 64.35,-83.25 62.93,-76.39\"/>\n",
       "<text text-anchor=\"middle\" x=\"4104.75\" y=\"-84.14\" font-family=\"Times,serif\" font-size=\"14.00\">nx:nx:&#45;6.23</text>\n",
       "</g>\n",
       "<!-- 0&#45;&gt;0 -->\n",
       "<g id=\"edge55\" class=\"edge\">\n",
       "<title>0&#45;&gt;0</title>\n",
       "<path fill=\"none\" stroke=\"black\" d=\"M52.48,-95.52C521.2,-198.77 4144.5,-196.54 4144.5,-88.82 4144.5,18.08 575.83,21.09 63.67,-79.79\"/>\n",
       "<polygon fill=\"black\" stroke=\"black\" points=\"63.04,-76.34 53.97,-81.8 64.47,-83.19 63.04,-76.34\"/>\n",
       "<text text-anchor=\"middle\" x=\"4174.5\" y=\"-84.14\" font-family=\"Times,serif\" font-size=\"14.00\">z:z:&#45;3.80</text>\n",
       "</g>\n",
       "<!-- 0&#45;&gt;0 -->\n",
       "<g id=\"edge56\" class=\"edge\">\n",
       "<title>0&#45;&gt;0</title>\n",
       "<path fill=\"none\" stroke=\"black\" d=\"M52.56,-95.57C527.58,-200.77 4204.5,-198.52 4204.5,-88.82 4204.5,20.08 581.24,23.1 63.51,-79.77\"/>\n",
       "<polygon fill=\"black\" stroke=\"black\" points=\"63.11,-76.28 54.04,-81.76 64.55,-83.13 63.11,-76.28\"/>\n",
       "<text text-anchor=\"middle\" x=\"4239.75\" y=\"-84.14\" font-family=\"Times,serif\" font-size=\"14.00\">el:el:&#45;5.10</text>\n",
       "</g>\n",
       "<!-- 0&#45;&gt;0 -->\n",
       "<g id=\"edge57\" class=\"edge\">\n",
       "<title>0&#45;&gt;0</title>\n",
       "<path fill=\"none\" stroke=\"black\" d=\"M52.28,-95.53C532.47,-202.77 4275,-200.54 4275,-88.82 4275,22.08 587.09,25.1 63.36,-79.77\"/>\n",
       "<polygon fill=\"black\" stroke=\"black\" points=\"62.83,-76.3 53.77,-81.8 64.27,-83.15 62.83,-76.3\"/>\n",
       "<text text-anchor=\"middle\" x=\"4318.5\" y=\"-84.14\" font-family=\"Times,serif\" font-size=\"14.00\">uw:uw:&#45;5.48</text>\n",
       "</g>\n",
       "<!-- 0&#45;&gt;0 -->\n",
       "<g id=\"edge58\" class=\"edge\">\n",
       "<title>0&#45;&gt;0</title>\n",
       "<path fill=\"none\" stroke=\"black\" d=\"M52.37,-95.56C539.78,-204.77 4362,-202.52 4362,-88.82 4362,24.06 595.56,27.1 63.61,-79.69\"/>\n",
       "<polygon fill=\"black\" stroke=\"black\" points=\"62.91,-76.26 53.85,-81.76 64.36,-83.11 62.91,-76.26\"/>\n",
       "<text text-anchor=\"middle\" x=\"4401\" y=\"-84.14\" font-family=\"Times,serif\" font-size=\"14.00\">zh:zh:&#45;7.05</text>\n",
       "</g>\n",
       "<!-- 0&#45;&gt;0 -->\n",
       "<g id=\"edge59\" class=\"edge\">\n",
       "<title>0&#45;&gt;0</title>\n",
       "<path fill=\"none\" stroke=\"black\" d=\"M52.43,-95.6C546.66,-206.77 4440,-204.51 4440,-88.82 4440,26.06 601.59,29.1 63.44,-79.69\"/>\n",
       "<polygon fill=\"black\" stroke=\"black\" points=\"62.96,-76.22 53.91,-81.72 64.42,-83.06 62.96,-76.22\"/>\n",
       "<text text-anchor=\"middle\" x=\"4488.75\" y=\"-84.14\" font-family=\"Times,serif\" font-size=\"14.00\">eng:eng:&#45;8.42</text>\n",
       "</g>\n",
       "</g>\n",
       "</svg>\n"
      ],
      "text/plain": [
       "<graphviz.graphs.Digraph at 0x762c719a1a00>"
      ]
     },
     "execution_count": 84,
     "metadata": {},
     "output_type": "execute_result"
    }
   ],
   "source": [
    "def create_t_wfst(prior_file='resources/lab4/phone.priors', phones_fname='exp/phones.txt'):\n",
    "    \"\"\"Create T.wfst. just transduce AM probability to AM likelihood (Bayes theorem)\n",
    "    \"\"\"\n",
    "    symbols = SymbolsMap.from_file(phones_fname)\n",
    "    t_fst = WFST(isymbols=symbols, osymbols=symbols)\n",
    "    s = t_fst.get_start()\n",
    "    t_fst.set_final(s)\n",
    "    with open(prior_file) as f:\n",
    "        for ph, prior in map(str.split, f.readlines()):\n",
    "            log_prior = np.log(float(prior))\n",
    "            ph_id = symbols.get_id(ph)\n",
    "            t_fst.add_arc(s, Arc(ph_id, ph_id, log_prior, s))\n",
    "    return t_fst\n",
    "create_t_wfst().to_dot()"
   ]
  },
  {
   "cell_type": "markdown",
   "metadata": {},
   "source": [
    "# L transducer\n",
    "\n",
    "Lwfst - это WFST, который преобразует входные последовательности фонем в слова.\n",
    "\n",
    "Например, `pau pau ae1 ae1 ae1 ae1 ae1 ae1 r pau pau pau y y y y eh1 s s s pau` -> `air yes`\n",
    "\n",
    "Чтобы контролировать количество слов в выходной гипотезе, в L добавляется два веса: \n",
    "* word_insertion_penalty - штраф за добавление слова \n",
    "* stay_in_silence_penalty - штраф за пропуск паузы (фонемы pau)\n",
    "\n",
    "Пример Lwfst, построенного для слов `'em` `-knacks`, с параметрами word_insertion_penalty=0.5, stay_in_silence_penalty=0.01\n",
    "\n",
    "![image](./resources/lab4/L_example.svg)\n",
    "\n",
    "Фонема паузы pau обрабатывается особым способом: L.fst может пропускать ее, не генерируя ничего на выходе. Также у окончания каждой транскрипции слова есть две отдельные дуги, возвращающие FST в стартовое состояние. Это нужно для того, чтобы была возможность как обработать подряд идущие дупликаты последней фонемы на конце слова, так и перейти в стартовое состояние всего по одной финальной фонеме. "
   ]
  },
  {
   "cell_type": "code",
   "execution_count": 85,
   "metadata": {},
   "outputs": [
    {
     "data": {
      "image/svg+xml": [
       "<?xml version=\"1.0\" encoding=\"UTF-8\" standalone=\"no\"?>\n",
       "<!DOCTYPE svg PUBLIC \"-//W3C//DTD SVG 1.1//EN\"\n",
       " \"http://www.w3.org/Graphics/SVG/1.1/DTD/svg11.dtd\">\n",
       "<!-- Generated by graphviz version 12.0.0 (20240803.0821)\n",
       " -->\n",
       "<!-- Pages: 1 -->\n",
       "<svg width=\"382pt\" height=\"401pt\"\n",
       " viewBox=\"0.00 0.00 381.75 401.00\" xmlns=\"http://www.w3.org/2000/svg\" xmlns:xlink=\"http://www.w3.org/1999/xlink\">\n",
       "<g id=\"graph0\" class=\"graph\" transform=\"scale(1 1) rotate(0) translate(4 397)\">\n",
       "<polygon fill=\"white\" stroke=\"none\" points=\"-4,4 -4,-397 377.75,-397 377.75,4 -4,4\"/>\n",
       "<!-- 0 -->\n",
       "<g id=\"node1\" class=\"node\">\n",
       "<title>0</title>\n",
       "<ellipse fill=\"none\" stroke=\"black\" cx=\"124\" cy=\"-375\" rx=\"27\" ry=\"18\"/>\n",
       "<text text-anchor=\"middle\" x=\"124\" y=\"-370.32\" font-family=\"Times,serif\" font-size=\"14.00\">0</text>\n",
       "</g>\n",
       "<!-- 0&#45;&gt;0 -->\n",
       "<g id=\"edge1\" class=\"edge\">\n",
       "<title>0&#45;&gt;0</title>\n",
       "<path fill=\"none\" stroke=\"black\" d=\"M148.53,-383.24C159.51,-384.02 169,-381.28 169,-375 169,-371.08 165.29,-368.53 159.83,-367.37\"/>\n",
       "<polygon fill=\"black\" stroke=\"black\" points=\"160.22,-363.89 150.04,-366.84 159.84,-370.88 160.22,-363.89\"/>\n",
       "<text text-anchor=\"middle\" x=\"226.75\" y=\"-370.32\" font-family=\"Times,serif\" font-size=\"14.00\">pau:&lt;eps&gt;:0.01</text>\n",
       "</g>\n",
       "<!-- 1 -->\n",
       "<g id=\"node2\" class=\"node\">\n",
       "<title>1</title>\n",
       "<ellipse fill=\"none\" stroke=\"black\" cx=\"27\" cy=\"-285.75\" rx=\"27\" ry=\"18\"/>\n",
       "<text text-anchor=\"middle\" x=\"27\" y=\"-281.07\" font-family=\"Times,serif\" font-size=\"14.00\">1</text>\n",
       "</g>\n",
       "<!-- 0&#45;&gt;1 -->\n",
       "<g id=\"edge2\" class=\"edge\">\n",
       "<title>0&#45;&gt;1</title>\n",
       "<path fill=\"none\" stroke=\"black\" d=\"M106.16,-361.27C97.5,-354.86 87.09,-346.82 78.25,-339 67.9,-329.85 57.1,-319.05 48.1,-309.65\"/>\n",
       "<polygon fill=\"black\" stroke=\"black\" points=\"50.85,-307.46 41.44,-302.6 45.76,-312.27 50.85,-307.46\"/>\n",
       "<text text-anchor=\"middle\" x=\"130.88\" y=\"-325.7\" font-family=\"Times,serif\" font-size=\"14.00\">ax:&lt;eps&gt;:0.00</text>\n",
       "</g>\n",
       "<!-- 3 -->\n",
       "<g id=\"node4\" class=\"node\">\n",
       "<title>3</title>\n",
       "<ellipse fill=\"none\" stroke=\"black\" cx=\"223\" cy=\"-285.75\" rx=\"27\" ry=\"18\"/>\n",
       "<text text-anchor=\"middle\" x=\"223\" y=\"-281.07\" font-family=\"Times,serif\" font-size=\"14.00\">3</text>\n",
       "</g>\n",
       "<!-- 0&#45;&gt;3 -->\n",
       "<g id=\"edge3\" class=\"edge\">\n",
       "<title>0&#45;&gt;3</title>\n",
       "<path fill=\"none\" stroke=\"black\" d=\"M145.93,-363.92C157.95,-357.76 172.67,-349.12 184,-339 192.68,-331.25 200.68,-321.3 207.14,-312.16\"/>\n",
       "<polygon fill=\"black\" stroke=\"black\" points=\"209.98,-314.21 212.67,-303.97 204.18,-310.3 209.98,-314.21\"/>\n",
       "<text text-anchor=\"middle\" x=\"248.12\" y=\"-325.7\" font-family=\"Times,serif\" font-size=\"14.00\">n:&lt;eps&gt;:0.00</text>\n",
       "</g>\n",
       "<!-- 1&#45;&gt;1 -->\n",
       "<g id=\"edge4\" class=\"edge\">\n",
       "<title>1&#45;&gt;1</title>\n",
       "<path fill=\"none\" stroke=\"black\" d=\"M51.53,-293.99C62.51,-294.77 72,-292.03 72,-285.75 72,-281.83 68.29,-279.28 62.83,-278.12\"/>\n",
       "<polygon fill=\"black\" stroke=\"black\" points=\"63.22,-274.64 53.04,-277.59 62.84,-281.63 63.22,-274.64\"/>\n",
       "<text text-anchor=\"middle\" x=\"124.88\" y=\"-281.07\" font-family=\"Times,serif\" font-size=\"14.00\">ax:&lt;eps&gt;:0.00</text>\n",
       "</g>\n",
       "<!-- 2 -->\n",
       "<g id=\"node3\" class=\"node\">\n",
       "<title>2</title>\n",
       "<ellipse fill=\"none\" stroke=\"black\" cx=\"27\" cy=\"-196.5\" rx=\"27\" ry=\"18\"/>\n",
       "<text text-anchor=\"middle\" x=\"27\" y=\"-191.82\" font-family=\"Times,serif\" font-size=\"14.00\">2</text>\n",
       "</g>\n",
       "<!-- 1&#45;&gt;2 -->\n",
       "<g id=\"edge5\" class=\"edge\">\n",
       "<title>1&#45;&gt;2</title>\n",
       "<path fill=\"none\" stroke=\"black\" d=\"M27,-267.51C27,-255.68 27,-239.7 27,-226\"/>\n",
       "<polygon fill=\"black\" stroke=\"black\" points=\"30.5,-226.22 27,-216.22 23.5,-226.22 30.5,-226.22\"/>\n",
       "<text text-anchor=\"middle\" x=\"78.38\" y=\"-236.45\" font-family=\"Times,serif\" font-size=\"14.00\">m:&lt;eps&gt;:0.00</text>\n",
       "</g>\n",
       "<!-- 2&#45;&gt;2 -->\n",
       "<g id=\"edge6\" class=\"edge\">\n",
       "<title>2&#45;&gt;2</title>\n",
       "<path fill=\"none\" stroke=\"black\" d=\"M51.53,-204.74C62.51,-205.52 72,-202.78 72,-196.5 72,-192.58 68.29,-190.03 62.83,-188.87\"/>\n",
       "<polygon fill=\"black\" stroke=\"black\" points=\"63.22,-185.39 53.04,-188.34 62.84,-192.38 63.22,-185.39\"/>\n",
       "<text text-anchor=\"middle\" x=\"123.38\" y=\"-191.82\" font-family=\"Times,serif\" font-size=\"14.00\">m:&lt;eps&gt;:0.00</text>\n",
       "</g>\n",
       "<!-- 3&#45;&gt;3 -->\n",
       "<g id=\"edge7\" class=\"edge\">\n",
       "<title>3&#45;&gt;3</title>\n",
       "<path fill=\"none\" stroke=\"black\" d=\"M247.53,-293.99C258.51,-294.77 268,-292.03 268,-285.75 268,-281.83 264.29,-279.28 258.83,-278.12\"/>\n",
       "<polygon fill=\"black\" stroke=\"black\" points=\"259.22,-274.64 249.04,-277.59 258.84,-281.63 259.22,-274.64\"/>\n",
       "<text text-anchor=\"middle\" x=\"317.12\" y=\"-281.07\" font-family=\"Times,serif\" font-size=\"14.00\">n:&lt;eps&gt;:0.00</text>\n",
       "</g>\n",
       "<!-- 4 -->\n",
       "<g id=\"node5\" class=\"node\">\n",
       "<title>4</title>\n",
       "<ellipse fill=\"none\" stroke=\"black\" cx=\"223\" cy=\"-196.5\" rx=\"27\" ry=\"18\"/>\n",
       "<text text-anchor=\"middle\" x=\"223\" y=\"-191.82\" font-family=\"Times,serif\" font-size=\"14.00\">4</text>\n",
       "</g>\n",
       "<!-- 3&#45;&gt;4 -->\n",
       "<g id=\"edge8\" class=\"edge\">\n",
       "<title>3&#45;&gt;4</title>\n",
       "<path fill=\"none\" stroke=\"black\" d=\"M223,-267.51C223,-255.68 223,-239.7 223,-226\"/>\n",
       "<polygon fill=\"black\" stroke=\"black\" points=\"226.5,-226.22 223,-216.22 219.5,-226.22 226.5,-226.22\"/>\n",
       "<text text-anchor=\"middle\" x=\"275.88\" y=\"-236.45\" font-family=\"Times,serif\" font-size=\"14.00\">ae:&lt;eps&gt;:0.00</text>\n",
       "</g>\n",
       "<!-- 4&#45;&gt;4 -->\n",
       "<g id=\"edge9\" class=\"edge\">\n",
       "<title>4&#45;&gt;4</title>\n",
       "<path fill=\"none\" stroke=\"black\" d=\"M247.53,-204.74C258.51,-205.52 268,-202.78 268,-196.5 268,-192.58 264.29,-190.03 258.83,-188.87\"/>\n",
       "<polygon fill=\"black\" stroke=\"black\" points=\"259.22,-185.39 249.04,-188.34 258.84,-192.38 259.22,-185.39\"/>\n",
       "<text text-anchor=\"middle\" x=\"320.88\" y=\"-191.82\" font-family=\"Times,serif\" font-size=\"14.00\">ae:&lt;eps&gt;:0.00</text>\n",
       "</g>\n",
       "<!-- 5 -->\n",
       "<g id=\"node6\" class=\"node\">\n",
       "<title>5</title>\n",
       "<ellipse fill=\"none\" stroke=\"black\" cx=\"223\" cy=\"-107.25\" rx=\"27\" ry=\"18\"/>\n",
       "<text text-anchor=\"middle\" x=\"223\" y=\"-102.58\" font-family=\"Times,serif\" font-size=\"14.00\">5</text>\n",
       "</g>\n",
       "<!-- 4&#45;&gt;5 -->\n",
       "<g id=\"edge10\" class=\"edge\">\n",
       "<title>4&#45;&gt;5</title>\n",
       "<path fill=\"none\" stroke=\"black\" d=\"M223,-178.26C223,-166.43 223,-150.45 223,-136.75\"/>\n",
       "<polygon fill=\"black\" stroke=\"black\" points=\"226.5,-136.97 223,-126.97 219.5,-136.97 226.5,-136.97\"/>\n",
       "<text text-anchor=\"middle\" x=\"271.75\" y=\"-147.2\" font-family=\"Times,serif\" font-size=\"14.00\">k:&lt;eps&gt;:0.00</text>\n",
       "</g>\n",
       "<!-- 5&#45;&gt;5 -->\n",
       "<g id=\"edge11\" class=\"edge\">\n",
       "<title>5&#45;&gt;5</title>\n",
       "<path fill=\"none\" stroke=\"black\" d=\"M247.53,-115.49C258.51,-116.27 268,-113.53 268,-107.25 268,-103.33 264.29,-100.78 258.83,-99.62\"/>\n",
       "<polygon fill=\"black\" stroke=\"black\" points=\"259.22,-96.14 249.04,-99.09 258.84,-103.13 259.22,-96.14\"/>\n",
       "<text text-anchor=\"middle\" x=\"316.75\" y=\"-102.58\" font-family=\"Times,serif\" font-size=\"14.00\">k:&lt;eps&gt;:0.00</text>\n",
       "</g>\n",
       "<!-- 6 -->\n",
       "<g id=\"node7\" class=\"node\">\n",
       "<title>6</title>\n",
       "<ellipse fill=\"none\" stroke=\"black\" cx=\"223\" cy=\"-18\" rx=\"27\" ry=\"18\"/>\n",
       "<text text-anchor=\"middle\" x=\"223\" y=\"-13.32\" font-family=\"Times,serif\" font-size=\"14.00\">6</text>\n",
       "</g>\n",
       "<!-- 5&#45;&gt;6 -->\n",
       "<g id=\"edge12\" class=\"edge\">\n",
       "<title>5&#45;&gt;6</title>\n",
       "<path fill=\"none\" stroke=\"black\" d=\"M223,-89.01C223,-77.18 223,-61.2 223,-47.5\"/>\n",
       "<polygon fill=\"black\" stroke=\"black\" points=\"226.5,-47.72 223,-37.72 219.5,-47.72 226.5,-47.72\"/>\n",
       "<text text-anchor=\"middle\" x=\"271.38\" y=\"-57.95\" font-family=\"Times,serif\" font-size=\"14.00\">s:&lt;eps&gt;:0.00</text>\n",
       "</g>\n",
       "<!-- 6&#45;&gt;6 -->\n",
       "<g id=\"edge13\" class=\"edge\">\n",
       "<title>6&#45;&gt;6</title>\n",
       "<path fill=\"none\" stroke=\"black\" d=\"M247.53,-26.24C258.51,-27.02 268,-24.28 268,-18 268,-14.08 264.29,-11.53 258.83,-10.37\"/>\n",
       "<polygon fill=\"black\" stroke=\"black\" points=\"259.22,-6.89 249.04,-9.84 258.84,-13.88 259.22,-6.89\"/>\n",
       "<text text-anchor=\"middle\" x=\"316.38\" y=\"-13.32\" font-family=\"Times,serif\" font-size=\"14.00\">s:&lt;eps&gt;:0.00</text>\n",
       "</g>\n",
       "</g>\n",
       "</svg>\n"
      ],
      "text/plain": [
       "<graphviz.graphs.Digraph at 0x762c713fad30>"
      ]
     },
     "execution_count": 85,
     "metadata": {},
     "output_type": "execute_result"
    }
   ],
   "source": [
    "def create_Lwfst_from_file(dic_fname='timit/TIMITDIC.TXT', \n",
    "                           phones_fname='exp/phones.txt', \n",
    "                           words_fname='exp/words.txt', \n",
    "                           words_limit=-1,\n",
    "                           word_insertion_penalty=0.5, \n",
    "                           stay_in_silence_penalty=0.01):\n",
    "    isymbols = SymbolsMap.from_file(phones_fname)\n",
    "    osymbols = SymbolsMap.from_file(words_fname)\n",
    "    sil_id = isymbols.get_id('pau')\n",
    "    l_wfst = WFST(isymbols=isymbols, osymbols=osymbols)\n",
    "    start = l_wfst.get_start()\n",
    "    ### Пропуск скольких угодно фонем тишины\n",
    "    l_wfst.add_arc(start, Arc(sil_id, 0, stay_in_silence_penalty, start))\n",
    "    # Стартовое состояние также является и финальным\n",
    "    l_wfst.set_final(start)\n",
    "    \n",
    "    for word, trans in load_lexicon_file(dic_fname, words_limit=words_limit):\n",
    "        tran_ids = [isymbols.get_id(t) for t in trans]\n",
    "        word_id = osymbols.get_id(word)\n",
    "        # TODO \n",
    "        # Добавьте последовательные дуги в wfst, определяющие транскрипцию слова\n",
    "        # Все дуги, кроме последней, на выходе имеют <eps>\n",
    "        # Последняя дуга выводит word_id и возвращает конечный автомат в стартовое (оно же финальное) состояние\n",
    "        # Каждая фонема может тянуться от 1 до inf кадров, поэтому помимо переходов в новое состояние, должны быть еще петли \n",
    "        tran_len = len(tran_ids)\n",
    "        state = start\n",
    "        for i in range(len(tran_ids)): \n",
    "            new_state = l_wfst.new_state()\n",
    "            l_wfst.add_arc(state, Arc(tran_ids[i], 0, 0, new_state))\n",
    "            l_wfst.add_arc(new_state, Arc(tran_ids[i], 0, 0, new_state))    \n",
    "            if i == tran_len-1:\n",
    "                l_wfst.add_arc(new_state, Arc(tran_ids[i], word_id, word_insertion_penalty, start))\n",
    "                l_wfst.add_arc(state, Arc(tran_ids[i], word_id, word_insertion_penalty, start))\n",
    "            state = new_state\n",
    "    return l_wfst\n",
    "create_Lwfst_from_file(words_limit=2, word_insertion_penalty=0.5, stay_in_silence_penalty=0.01).to_dot()"
   ]
  },
  {
   "cell_type": "code",
   "execution_count": 86,
   "metadata": {},
   "outputs": [
    {
     "name": "stderr",
     "output_type": "stream",
     "text": [
      "100%|██████████| 100/100 [00:05<00:00, 18.65it/s]"
     ]
    },
    {
     "name": "stdout",
     "output_type": "stream",
     "text": [
      "test 2.a passed\n"
     ]
    },
    {
     "name": "stderr",
     "output_type": "stream",
     "text": [
      "\n"
     ]
    }
   ],
   "source": [
    "def test_l_wfst():\n",
    "    l_wfst = create_Lwfst_from_file(dic_fname='timit/TIMITDIC.TXT', \n",
    "                                    word_insertion_penalty=1.0, stay_in_silence_penalty=0.01)\n",
    "    start = l_wfst.get_start()\n",
    "    hyps = l_wfst.transduce(start, 'pau')\n",
    "    loop_hyp = [(l, w, s) for l, w, s in hyps if s == start]\n",
    "    assert (len(loop_hyp) == 1 \n",
    "            and loop_hyp[0][0] == '<eps>' \n",
    "            and loop_hyp[0][1] == 0.01), f\"{hyps}\\n skip pause test failed\"\n",
    "    # смотрим, что поданная на вход транскрипция корректно переводится в слово\n",
    "    # количество подряд идущих одинаковых фонем постепенно увеличивается от одной до 6\n",
    "    for i, (word, trans) in enumerate(tqdm(load_lexicon_file('timit/TIMITDIC.TXT', words_limit=100), total=100)):\n",
    "        hyps = [('', 0, l_wfst.get_start()), ]\n",
    "        # Breadth First Search\n",
    "        for t in [t for t in trans for _ in range(i//20+1)]:\n",
    "            # t repeated many times\n",
    "            new_hyps = []\n",
    "            for prev_l, prev_w, prev_s in hyps: \n",
    "                new_hyps.extend([(f\"{prev_l} {l}\", prev_w + w, s) for l,w,s in l_wfst.transduce(prev_s, t)])\n",
    "            hyps = new_hyps\n",
    "        # choose only final hyp\n",
    "        # ограничение веса нужно, чтобы отсечь гипотезы где комбинация других слов мапится на теже фонемы\n",
    "        hyps = [(l, w, s) for l, w, s in hyps if l_wfst.final_score(s) != float('inf') and w == 1.0]\n",
    "       \n",
    "        assert len(hyps) == 1 or len(trans) == 1 , f\"Test failed for word \\\"{word}\\\" {hyps=}\"\n",
    "        assert hyps[0][0].replace('<eps>', ' ').split() == [word], f\"Test failed for word {word} {hyps=}\"\n",
    "        assert hyps[0][1] == 1.0, f\"Test failed for word {word} {hyps=}\"\n",
    "        assert hyps[0][2] == start, f\"Test failed for word {word} {hyps=}\"       \n",
    "    print(\"test 2.a passed\")\n",
    "test_l_wfst()"
   ]
  },
  {
   "cell_type": "markdown",
   "metadata": {},
   "source": [
    "# Поиск наилучшей гипотезы распознавания с помощью beam search\n",
    "\n",
    "Для того, чтобы найти результат распознавания с помощью акустической модели и графа распознавания, надо выполнить поиск наилучшей гипотезы в графе. Для поиска лучшего пути будем использовать [лучевой поиск (Beam Search)](https://ru.wikipedia.org/wiki/%D0%9B%D1%83%D1%87%D0%B5%D0%B2%D0%BE%D0%B9_%D0%BF%D0%BE%D0%B8%D1%81%D0%BA). В основе этого алгоритма лежит обход графа в ширину, но на каждом шаге рассматриваются только наиболее \"хорошие\" гипотезы, а остальные уничтожаются. Такая эвристика позволяет значительно ускорить процесс декодирования, но не всегда находит наилучший путь. "
   ]
  },
  {
   "cell_type": "code",
   "execution_count": 87,
   "metadata": {},
   "outputs": [],
   "source": [
    "@dataclass(order=True)\n",
    "class Hypothesis:\n",
    "    # накопленный штраф гипотезы\n",
    "    score: float\n",
    "    # до какого кадра из входной последовательности дошла гипотеза\n",
    "    time: int\n",
    "    # накопленная последовательность слов\n",
    "    words: List[str]\n",
    "    # состояние графа декодирования \n",
    "    state: Any\n"
   ]
  },
  {
   "cell_type": "markdown",
   "metadata": {},
   "source": [
    "### HypothesesKeeper\n",
    "Реализуем специальную коллекцию, которая хранит все гипотезы распознавания и применяет прунинг (удаление ненужных гипотез). \n",
    "Прунинг делится на два типа: \n",
    "#### State pruning \n",
    "Eсли мы можем дойти до состояния X в момент времени T несколькими способами, то для дальнейшей обработки достаточно только наилучшего пути до состояния X. Эта гипотеза гарантированно будет лучше всех других гипотез, проходящих через точку (X, T). \n",
    "#### Beam pruning\n",
    "Эвристика лучевого поиска. Отсекаем все гипотезы, которые хуже, чем лучшая текущая гипотеза плюс beam_size. Вероятность того, что гипотезы с сильно худшим весом вдруг станут наилучшими, крайне мала, поэтому такая эвристика работает достаточно хорошо. \n"
   ]
  },
  {
   "cell_type": "code",
   "execution_count": 88,
   "metadata": {},
   "outputs": [],
   "source": [
    "class HypothesesKeeper:\n",
    "    def __init__(self, init_hyps: List[Hypothesis] = [], beam_size=10):\n",
    "        self.state2hyp = {h.state: h for h in init_hyps}\n",
    "        self.beam_size = beam_size\n",
    "        if len(self.state2hyp) == 0:\n",
    "            self.set_best(None, float('inf'))\n",
    "        else:\n",
    "            min_hyp = min(self.state2hyp.values())\n",
    "            self.set_best(min_hyp.state, min_hyp.score)\n",
    "\n",
    "    def set_best(self, state, score):\n",
    "        self.best_state = state\n",
    "        self.best_score = score\n",
    "        \n",
    "    def get_best_hyp(self) -> Hypothesis:\n",
    "        \"\"\"return the best hyp based on self.best_state\"\"\"   \n",
    "        # TODO \n",
    "        # верните лучшую гипотезу \n",
    "        return self.state2hyp[self.best_state] if self.best_state in self.state2hyp else None \n",
    "        \n",
    "    def prune(self):\n",
    "        self.state2hyp = {s:h for (s, h) in self.state2hyp.items() if not self.is_prunned_by_beam(h.score)}\n",
    "        \n",
    "    def tolist(self) -> List[Hypothesis]:\n",
    "        \"\"\"Return all hypotheses. Apply beam pruning\"\"\"\n",
    "        # TODO \n",
    "        # верните все гипотезы, которые находятся в луче поиска \n",
    "        hyps = list(self.state2hyp.values())\n",
    "        \n",
    "        return [h for h in hyps if h.score <= self.best_score + self.beam_size]\n",
    "        \n",
    "    def is_prunned_by_beam(self, score: float):\n",
    "        \"\"\"Return true if score greater than beam\"\"\"\n",
    "        # TODO \n",
    "        # верните True, если значение score находится вне луча поиска \n",
    "        return True if score > self.best_score + self.beam_size else False\n",
    "        \n",
    "    def is_prunned_by_state(self, state, score):\n",
    "        \"\"\"Returns true if the keeper already has a hyp in the same state and the score of this hyp is lower\"\"\"\n",
    "        # TODO\n",
    "        # верните True, если state уже имеет гипотезу, со скором лучше чем score\n",
    "        if state in self.state2hyp and self.state2hyp[state].score < score:\n",
    "            return True\n",
    "        else: \n",
    "            return False\n",
    "    \n",
    "    def append(self, hyp: Hypothesis):\n",
    "        \"\"\"Append new hyp into collection\"\"\"\n",
    "        if self.is_prunned_by_beam(hyp.score) or self.is_prunned_by_state(hyp.state, hyp.score):\n",
    "            return \n",
    "        self.state2hyp[hyp.state] = hyp\n",
    "        if hyp.score < self.best_score or self.best_state is None:\n",
    "            self.set_best(hyp.state, hyp.score)\n",
    "\n",
    "    def extend(self, hyps):\n",
    "        if isinstance(hyps, HypothesesKeeper):\n",
    "            hyps = hyps.tolist()\n",
    "        for h in hyps:\n",
    "            self.append(h)\n",
    "    \n",
    "    def __len__(self):\n",
    "        return len(self.state2hyp)\n",
    "\n",
    "    def __str__(self):\n",
    "        return '[' + \",\\n\".join(map(str, self.tolist())) + ']'\n",
    "\n",
    "    def describe(self):\n",
    "        # TODO \n",
    "        # посчитайте средний и максимальный скор хранящихся гипотез\n",
    "        \n",
    "        scores = [h.score for h in list(self.state2hyp.values())]\n",
    "        if len(self) == 0:\n",
    "            mean_score = max_score = math.inf\n",
    "        else:\n",
    "            mean_score = np.mean(scores)\n",
    "            max_score = max(scores)\n",
    "       \n",
    "        return (\n",
    "            f\"{len(self)} hyps. \"\n",
    "            f\"Best {self.get_best_hyp()}. \"\n",
    "            f\"Mean score {mean_score:.2f}. \"\n",
    "            f\"Max {max_score:.2f}\"\n",
    "        )"
   ]
  },
  {
   "cell_type": "code",
   "execution_count": 89,
   "metadata": {},
   "outputs": [
    {
     "name": "stdout",
     "output_type": "stream",
     "text": [
      "test 2.b passed!\n"
     ]
    }
   ],
   "source": [
    "def test_hyp_keeper():\n",
    "    hyps = HypothesesKeeper(beam_size=10)\n",
    "    hyps.append(Hypothesis(10, 0, ['a'],  1))\n",
    "    assert len(hyps) == 1 and hyps.best_state == 1 and hyps.best_score == 10, f\"First append doesn't work well\"\n",
    "    hyps.append(Hypothesis(100, 0, ['err'], 2))\n",
    "    assert len(hyps) == 1 and hyps.best_state == 1 and hyps.best_score == 10, f\"Append didn't prune the input\"\n",
    "    \n",
    "    hyps.append(Hypothesis(11, 0, ['b'], 2))\n",
    "    assert len(hyps) == 2 and hyps.best_state == 1 and hyps.best_score == 10, f\"Append doesn't work well\"\n",
    "    hyps.append(Hypothesis(12, 0, ['err2'], 2))\n",
    "    assert len(hyps) == 2 and hyps.state2hyp[2].score == 11, f\"Append didn't prune the input\"\n",
    "    \n",
    "    hyps.append(Hypothesis(0, 0, ['c'], 3))\n",
    "    assert hyps.best_state == 3 and hyps.best_score == 0, f\"Append didn't update best_* attributes\"\n",
    "\n",
    "    hyps_list = hyps.tolist()\n",
    "    assert len(hyps_list) == 2, f\"tolist didn't prune the output\"\n",
    "\n",
    "    hyp = hyps.get_best_hyp()\n",
    "    assert hyp == Hypothesis(0, 0, ['c'], 3), f\"{hyp=}\"\n",
    "    print(\"test 2.b passed!\")\n",
    "test_hyp_keeper()"
   ]
  },
  {
   "cell_type": "code",
   "execution_count": 90,
   "metadata": {},
   "outputs": [],
   "source": [
    "class BeamSearcher:\n",
    "    def __init__(self, am2phone_mapping, graph: AbstractWFST, beam_size=3):\n",
    "        self.am2phone_mapping = am2phone_mapping\n",
    "        self.graph = graph\n",
    "        self.beam_size = beam_size\n",
    "        \n",
    "    def decode(self, phonemes_nll: np.ndarray):\n",
    "        \"\"\"\n",
    "        Decoding input phonemes negative loglikelihood into word level hypothesis\n",
    "        phonemes_logprobs.shape is (Time, num_phones)\n",
    "        \"\"\"\n",
    "        parent_hyps = HypothesesKeeper(init_hyps=[Hypothesis(0, -1, [], self.graph.get_start())], \n",
    "                                       beam_size=self.beam_size)\n",
    "        pbar = tqdm(phonemes_nll)\n",
    "        for new_time, frame_dist in enumerate(pbar):\n",
    "            new_hyps = HypothesesKeeper(beam_size=self.beam_size)\n",
    "            # print(parent_hyps)\n",
    "            for parent_hyp in parent_hyps.tolist():\n",
    "                assert parent_hyp.time + 1 == new_time, f\"Wrong time {new_time=}, \\n{parent_hyp=}\"\n",
    "                # TODO \n",
    "                # Продолжите гипотезу parent_hyp с помощью всех фонем и их вероятностей из frame_dist\n",
    "                # соханите новые гипотезы в new_hyps\n",
    "                # words гипотез не должен содержать <eps> \n",
    "                # score гипотезы равен сумме скора родителя, phone_nll и веса от transduce по графу\n",
    "                for i, phone_nll in enumerate(frame_dist):\n",
    "                    phone = self.am2phone_mapping[i]\n",
    "                    for olabel, transduce_score, nextstate in self.graph.transduce(parent_hyp.state, phone):\n",
    "                        if olabel == '<eps>':\n",
    "                            words = parent_hyp.words\n",
    "                        else: \n",
    "                            words = parent_hyp.words + [olabel]\n",
    "                        ph_hyp = Hypothesis(phone_nll+parent_hyp.score+transduce_score, new_time, words, nextstate)\n",
    "                        new_hyps.append(ph_hyp)\n",
    "            new_hyps.prune()\n",
    "            parent_hyps = new_hyps\n",
    "            statictic_str = parent_hyps.describe()\n",
    "            pbar.set_description(statictic_str, refresh=False)\n",
    "        # TODO \n",
    "        # сформируйте список финальных гипотез\n",
    "        # пройдитесь по parent_hyps и добавьте ко всем гипотезам финальный вес \n",
    "        final_hyps = HypothesesKeeper(beam_size=self.beam_size)\n",
    "        for parent_hyp in parent_hyps.tolist():\n",
    "            final_score = self.graph.final_score(parent_hyp.state)\n",
    "            score = math.inf if final_score == math.inf else parent_hyp.score + final_score\n",
    "            final_hyp = Hypothesis(score, parent_hyp.time, parent_hyp.words, parent_hyp.state)\n",
    "            final_hyps.append(final_hyp)\n",
    "        \n",
    "        print(f\"Found {len(final_hyps)} hypotheses\")\n",
    "        best_hyp = final_hyps.get_best_hyp()\n",
    "        return best_hyp"
   ]
  },
  {
   "cell_type": "code",
   "execution_count": 92,
   "metadata": {},
   "outputs": [
    {
     "name": "stderr",
     "output_type": "stream",
     "text": [
      "1 hyps. Best Hypothesis(score=-96.0, time=2, words=['a', '_', 'a'], state=1). Mean score -96.00. Max -96.00: 100%|██████████| 3/3 [00:00<00:00, 3054.85it/s]\n"
     ]
    },
    {
     "name": "stdout",
     "output_type": "stream",
     "text": [
      "Found 1 hypotheses\n"
     ]
    },
    {
     "name": "stderr",
     "output_type": "stream",
     "text": [
      "1 hyps. Best Hypothesis(score=207.0, time=2, words=['b', '_', 'a'], state=1). Mean score 207.00. Max 207.00: 100%|██████████| 3/3 [00:00<00:00, 4481.09it/s]\n"
     ]
    },
    {
     "name": "stdout",
     "output_type": "stream",
     "text": [
      "Found 1 hypotheses\n"
     ]
    },
    {
     "name": "stderr",
     "output_type": "stream",
     "text": [
      "2 hyps. Best Hypothesis(score=110.0, time=2, words=['a', '_'], state=0). Mean score 112.00. Max 114.00: 100%|██████████| 3/3 [00:00<00:00, 6668.21it/s]\n"
     ]
    },
    {
     "name": "stdout",
     "output_type": "stream",
     "text": [
      "Found 1 hypotheses\n"
     ]
    },
    {
     "name": "stderr",
     "output_type": "stream",
     "text": [
      "2 hyps. Best Hypothesis(score=1110.0, time=2, words=['b', '_', 'a'], state=1). Mean score 1111.50. Max 1113.00: 100%|██████████| 3/3 [00:00<00:00, 10754.63it/s]\n"
     ]
    },
    {
     "name": "stdout",
     "output_type": "stream",
     "text": [
      "Found 1 hypotheses\n"
     ]
    },
    {
     "name": "stderr",
     "output_type": "stream",
     "text": [
      "2 hyps. Best Hypothesis(score=97, time=2, words=[], state=0). Mean score 98.50. Max 100.00: 100%|██████████| 3/3 [00:00<00:00, 8823.92it/s]"
     ]
    },
    {
     "name": "stdout",
     "output_type": "stream",
     "text": [
      "Found 1 hypotheses\n",
      "Test 2.c passed\n"
     ]
    },
    {
     "name": "stderr",
     "output_type": "stream",
     "text": [
      "\n"
     ]
    }
   ],
   "source": [
    "def test_beam_search():\n",
    "    \n",
    "    graph = WFST(isymbols=SymbolsMap(id2symbol=['<eps>', 'pau', 'A', 'B']),\n",
    "                 osymbols=SymbolsMap(id2symbol=['<eps>', 'err', '_', 'a', 'b']))\n",
    "    s = graph.new_state()\n",
    "    graph.add_arc(0, Arc(2, 3, 2.0, s))\n",
    "    graph.add_arc(0, Arc(3, 4, 3.0, s))\n",
    "    graph.add_arc(s, Arc(1, 2, 1.0, 0))\n",
    "    graph.set_final(s)\n",
    "    #display.display(graph.to_dot())\n",
    "                 \n",
    "    searcher = BeamSearcher(am2phone_mapping={0: 'pau', 1: 'A', 2: 'B'}, graph=graph, beam_size=10)\n",
    "    #                   p  A  B\n",
    "    logits = np.array([[-1, -1, -1],\n",
    "                       [0, 0, 0],\n",
    "                       [-100, -100, -100]])\n",
    "    best_hyp = searcher.decode(logits)\n",
    "    assert best_hyp == Hypothesis((-1+2) + (-0+1) + (-100+2) , 2, ['a', '_', 'a'], s), best_hyp\n",
    "    logits = np.array([[1, 4, 1],\n",
    "                       [100, 0, 0],\n",
    "                       [100, 100, 100]])\n",
    "    best_hyp = searcher.decode(logits)\n",
    "    assert best_hyp == Hypothesis((1+3) + (100+1) + (100+2) , 2, ['b', '_', 'a'], s), best_hyp\n",
    "    \n",
    "    searcher.graph.add_arc(0, Arc(2, 0, 5.0, 0))  \n",
    "    logits = np.array([[1, 2, 0],\n",
    "                       [10, 0, 0],\n",
    "                       [100, 100, 100]])\n",
    "    best_hyp = searcher.decode(logits)\n",
    "    assert best_hyp == Hypothesis((2+5) + (0+5) + (100+2) , 2, ['a'], s), best_hyp\n",
    "\n",
    "    logits = np.array([[1, 20, 4], # beam pruning must remove A-loop hypothesis\n",
    "                       [1000, 0, 0],\n",
    "                       [100, 100, 100]])\n",
    "    best_hyp = searcher.decode(logits)\n",
    "    assert best_hyp == Hypothesis((4+3) + (1000+1) + (100+2) , 2, ['b', '_', 'a'], s), best_hyp\n",
    "\n",
    "    searcher.graph.add_arc(0, Arc(3, 0, -1, 0))\n",
    "    logits = np.array([[1, 2, 0],\n",
    "                       [10, 0, 0],\n",
    "                       [100, 100, 100]])\n",
    "    best_hyp = searcher.decode(logits)\n",
    "    assert best_hyp == Hypothesis((0-1) + (0-1) + (100+2) , 2, ['a'], s), best_hyp\n",
    "\n",
    "    print(f\"Test 2.c passed\")\n",
    "test_beam_search()                      "
   ]
  },
  {
   "cell_type": "markdown",
   "metadata": {},
   "source": [
    "### WFST представление нграмной языковой модели \n",
    "Для подсчета языковой модели будем использовать библиотеку kenlm. Данная библиотека позволяет подсчитывать языковую вероятность с помощью нграмной языковой модели. \n",
    "\n",
    "Создадим обертку над kenlm.Model, реализующую интерфейс AbstractWFST"
   ]
  },
  {
   "cell_type": "code",
   "execution_count": 93,
   "metadata": {},
   "outputs": [],
   "source": [
    "class kenlmLikeWFST(AbstractWFST):\n",
    "    \"\"\"Оборачиваем kenlm в унифицированный интерфейс\"\"\"\n",
    "    def __init__(self, lm: kenlm.Model, lmwt_factor=0.01):\n",
    "        self.lm = lm\n",
    "        self.lmwt_factor = lmwt_factor\n",
    "        \n",
    "    def get_start(self):\n",
    "        state = kenlm.State()\n",
    "        self.lm.BeginSentenceWrite(state)\n",
    "        return state\n",
    "        \n",
    "    def final_score(self, state: kenlm.State):\n",
    "        logprob = self.lm.BaseScore(state, \"</s>\", kenlm.State())\n",
    "        return self._log10_to_nll(logprob)\n",
    "        \n",
    "    def _log10_to_nll(self, logprob):\n",
    "        \"\"\"переводим в negative натуральный логарифм \"\"\"\n",
    "        return - np.log(10**logprob)\n",
    "        \n",
    "    def transduce(self, state: kenlm.State, ilabel: str):\n",
    "        assert isinstance(ilabel, str), ilabel\n",
    "        if ilabel == '<eps>':\n",
    "            # skip <eps> input\n",
    "            return [('<eps>', 0, state), ]\n",
    "        state2 = kenlm.State()\n",
    "        logprob = self.lm.BaseScore(state, ilabel, state2)\n",
    "        return [(ilabel, self.lmwt_factor * self._log10_to_nll(logprob), state2), ]\n",
    "    "
   ]
  },
  {
   "cell_type": "markdown",
   "metadata": {},
   "source": [
    "## Запускаем декодирование\n"
   ]
  },
  {
   "cell_type": "code",
   "execution_count": 22,
   "metadata": {},
   "outputs": [],
   "source": [
    "# Заранее подготовленные negative log probability от модели из работы №3\n",
    "with ReadHelper('ark:resources/lab4/test_am_nlogprobs.ark') as am_nlogprob_reader:\n",
    "    am_nlogprobs = {uri: am_logprob  for uri, am_logprob in am_nlogprob_reader}"
   ]
  },
  {
   "cell_type": "code",
   "execution_count": 23,
   "metadata": {},
   "outputs": [
    {
     "name": "stdout",
     "output_type": "stream",
     "text": [
      "She had your dark suit in greasy wash water all year\n"
     ]
    }
   ],
   "source": [
    "# Выбираем один пример для отладки пайплайна\n",
    "example = am_nlogprobs['timit/data/TEST/DR1/FAKS0/SA1']\n",
    "with open('timit/data/TEST/DR1/FAKS0/SA1.TXT') as f:\n",
    "    example_ref = ' '.join(f.read().replace('.', ' ').split()[2:])\n",
    "print(example_ref)"
   ]
  },
  {
   "cell_type": "code",
   "execution_count": 24,
   "metadata": {},
   "outputs": [],
   "source": [
    "t_fst = create_t_wfst()\n",
    "l_fst = create_Lwfst_from_file(stay_in_silence_penalty=0.0, word_insertion_penalty=1.0)"
   ]
  },
  {
   "cell_type": "code",
   "execution_count": 25,
   "metadata": {},
   "outputs": [
    {
     "name": "stderr",
     "output_type": "stream",
     "text": [
      "1 hyps. Best Hypothesis(score=695.0641150122512, time=197, words=[], state=(0, 28541)). Mean score 695.06. Max 695.06: 100%|██████████| 198/198 [00:00<00:00, 212.43it/s] "
     ]
    },
    {
     "name": "stdout",
     "output_type": "stream",
     "text": [
      "Found 1 hypotheses\n",
      "Hypothesis(score=inf, time=197, words=[], state=(0, 28541)) WER:  1.0\n"
     ]
    },
    {
     "name": "stderr",
     "output_type": "stream",
     "text": [
      "\n"
     ]
    }
   ],
   "source": [
    "# пробуем разные варианты\n",
    "ASR = BeamSearcher(am2phone_mapping=AM_PHONES, \n",
    "                   graph=OnTheFlyCompose([t_fst, l_fst]),\n",
    "                   beam_size=0)   \n",
    "hyp = ASR.decode(example)\n",
    "print(hyp, \"WER: \", jiwer.wer(example_ref, ' '.join(hyp.words)))\n",
    "\n",
    "# Hypothesis(score=inf, time=197, words=[], state=(0, 28541)) WER:  1.0"
   ]
  },
  {
   "cell_type": "code",
   "execution_count": 26,
   "metadata": {},
   "outputs": [
    {
     "name": "stderr",
     "output_type": "stream",
     "text": [
      "1 hyps. Best Hypothesis(score=-634.8072872315479, time=197, words=['she', 'had', 'your', 'dark', 'suit', 'in', 'greasy', 'wash', 'water', 'all', 'year'], state=(0, 0)). Mean score -634.81. Max -634.81: 100%|██████████| 198/198 [00:22<00:00,  8.75it/s]      "
     ]
    },
    {
     "name": "stdout",
     "output_type": "stream",
     "text": [
      "Found 1 hypotheses\n",
      "Hypothesis(score=-634.8072872315479, time=197, words=['she', 'had', 'your', 'dark', 'suit', 'in', 'greasy', 'wash', 'water', 'all', 'year'], state=(0, 0)) WER:  0.09090909090909091\n"
     ]
    },
    {
     "name": "stderr",
     "output_type": "stream",
     "text": [
      "\n"
     ]
    }
   ],
   "source": [
    "ASR = BeamSearcher(am2phone_mapping=AM_PHONES, \n",
    "                   graph=OnTheFlyCompose([t_fst, l_fst]),\n",
    "                   beam_size=6)\n",
    "hyp = ASR.decode(example)\n",
    "print(hyp, \"WER: \", jiwer.wer(example_ref, ' '.join(hyp.words)))\n",
    "\n",
    "# Hypothesis(score=-634.8072872315479,\n",
    "# time=197, \n",
    "# words=['she', 'had', 'your', 'dark', 'suit', 'in', 'greasy', 'wash', 'water', 'all', 'year'],\n",
    "# state=(0, 0)) WER:  0.09090909090909091"
   ]
  },
  {
   "cell_type": "code",
   "execution_count": 38,
   "metadata": {},
   "outputs": [
    {
     "name": "stderr",
     "output_type": "stream",
     "text": [
      "Loading the LM will be faster if you build a binary file.\n",
      "Reading /home/chernogor/workspace/nastya/asr_itmo24/resources/lab4/3gram.arpa\n",
      "----5---10---15---20---25---30---35---40---45---50---55---60---65---70---75---80---85---90---95--100\n",
      "The ARPA file is missing <unk>.  Substituting log10 probability -100.\n",
      "****************************************************************************************************\n",
      "1 hyps. Best Hypothesis(score=-626.1311055262096, time=197, words=['she', 'had', 'your', 'dark', 'suit', 'in', 'greasy', 'wash', 'water', 'all', 'year'], state=(0, 0, <kenlm.State object at 0x72e309ed9a30>)). Mean score -626.13. Max -626.13: 100%|██████████| 198/198 [00:34<00:00,  5.76it/s]      "
     ]
    },
    {
     "name": "stdout",
     "output_type": "stream",
     "text": [
      "Found 1 hypotheses\n",
      "Hypothesis(score=-625.5866933483063, time=197, words=['she', 'had', 'your', 'dark', 'suit', 'in', 'greasy', 'wash', 'water', 'all', 'year'], state=(0, 0, <kenlm.State object at 0x72e309ed9a30>)) WER:  0.09090909090909091\n"
     ]
    },
    {
     "name": "stderr",
     "output_type": "stream",
     "text": [
      "\n"
     ]
    }
   ],
   "source": [
    "lm = kenlmLikeWFST(kenlm.LanguageModel('resources/lab4/3gram.arpa'), lmwt_factor=0.2)\n",
    "ASR = BeamSearcher(am2phone_mapping=AM_PHONES, \n",
    "                   graph=OnTheFlyCompose([t_fst, l_fst, lm]),\n",
    "                   beam_size=6)\n",
    "hyp = ASR.decode(example)\n",
    "print(hyp, \"WER: \", jiwer.wer(example_ref, ' '.join(hyp.words)))\n",
    "\n",
    "# Hypothesis(score=-624.2866933483066, \n",
    "# time=197, \n",
    "# words=['she', 'had', 'your', 'dark', 'suit', 'in', 'greasy', 'wash', 'water', 'all', 'year'], \n",
    "# state=(0, 0, <kenlm.State object at 0x7fa93c7c1070>)) WER:  0.09090909090909091"
   ]
  },
  {
   "cell_type": "markdown",
   "metadata": {},
   "source": [
    "### финальное задание\n",
    "Постройте графики зависимости WER на example и времени работы декодирования от таких параметров как: \n",
    "* lmwt_factor\n",
    "* stay_in_silence_penalty\n",
    "* word_insertion_penalty\n",
    "* beam\n",
    "\n",
    "Выберите оптимальные по соотношению WER/time параметры. "
   ]
  },
  {
   "cell_type": "code",
   "execution_count": 32,
   "metadata": {},
   "outputs": [],
   "source": [
    "import itertools \n",
    "import pandas as pd\n",
    "\n",
    "# сетка параметров\n",
    "lmwt_factors = [0.01, 0.1, 1]\n",
    "stay_in_silence_penalties =  [0.1, 0.6, 1.]\n",
    "word_insertion_penalties = [0.5, 1., 2.]\n",
    "beams = [1, 5, 10]\n",
    "\n",
    "grid = itertools.product(lmwt_factors, stay_in_silence_penalties, word_insertion_penalties, beams)\n",
    "\n",
    "# таблица с результатами\n",
    "columns = ['lmwt_factor', 'stay_in_silence_penalty', 'word_insertion_penalty', 'beam', 'WER', 'time']\n",
    "df = pd.DataFrame(columns=columns)"
   ]
  },
  {
   "cell_type": "code",
   "execution_count": 51,
   "id": "5780d93f",
   "metadata": {},
   "outputs": [
    {
     "name": "stderr",
     "output_type": "stream",
     "text": [
      "Loading the LM will be faster if you build a binary file.\n",
      "Reading /home/chernogor/workspace/nastya/asr_itmo24/resources/lab4/3gram.arpa\n",
      "----5---10---15---20---25---30---35---40---45---50---55---60---65---70---75---80---85---90---95--100\n",
      "The ARPA file is missing <unk>.  Substituting log10 probability -100.\n",
      "****************************************************************************************************\n",
      "1 hyps. Best Hypothesis(score=-295.49941458919545, time=197, words=['she', 'had', 'your', 'arc', 'suit', 'ingredient', 'water', 'all', 'year', 'earth'], state=(0, 0, <kenlm.State object at 0x72e2e487b470>)). Mean score -295.50. Max -295.50: 100%|██████████| 198/198 [00:11<00:00, 17.07it/s]\n"
     ]
    },
    {
     "name": "stdout",
     "output_type": "stream",
     "text": [
      "Found 1 hypotheses\n"
     ]
    },
    {
     "name": "stderr",
     "output_type": "stream",
     "text": [
      "Loading the LM will be faster if you build a binary file.\n",
      "Reading /home/chernogor/workspace/nastya/asr_itmo24/resources/lab4/3gram.arpa\n",
      "----5---10---15---20---25---30---35---40---45---50---55---60---65---70---75---80---85---90---95--100\n",
      "The ARPA file is missing <unk>.  Substituting log10 probability -100.\n",
      "****************************************************************************************************\n",
      "1 hyps. Best Hypothesis(score=-635.918670667037, time=197, words=['she', 'had', 'you', 'earn', 'dark', 'suit', 'in', 'greasy', 'wash', 'water', 'all', 'year'], state=(0, 0, <kenlm.State object at 0x72e2d1a75830>)). Mean score -635.92. Max -635.92: 100%|██████████| 198/198 [00:43<00:00,  4.57it/s]       \n"
     ]
    },
    {
     "name": "stdout",
     "output_type": "stream",
     "text": [
      "Found 1 hypotheses\n"
     ]
    },
    {
     "name": "stderr",
     "output_type": "stream",
     "text": [
      "Loading the LM will be faster if you build a binary file.\n",
      "Reading /home/chernogor/workspace/nastya/asr_itmo24/resources/lab4/3gram.arpa\n",
      "----5---10---15---20---25---30---35---40---45---50---55---60---65---70---75---80---85---90---95--100\n",
      "The ARPA file is missing <unk>.  Substituting log10 probability -100.\n",
      "****************************************************************************************************\n",
      "766 hyps. Best Hypothesis(score=-643.9429014459575, time=197, words=['she', 'had', 'you', 'earn', 'dark', 'suit', 'in', 'greasy', 'wash', 'water', 'awe', 'lawyer'], state=(0, 0, <kenlm.State object at 0x72e2e904abf0>)). Mean score -635.35. Max -633.97: 100%|██████████| 198/198 [06:24<00:00,  1.94s/it] \n",
      "Loading the LM will be faster if you build a binary file.\n",
      "Reading /home/chernogor/workspace/nastya/asr_itmo24/resources/lab4/3gram.arpa\n",
      "----5---10---15---20---25---30---35---40---45---50---55---60---65---70---75---80---85---90---95--100\n"
     ]
    },
    {
     "name": "stdout",
     "output_type": "stream",
     "text": [
      "Found 6 hypotheses\n"
     ]
    },
    {
     "name": "stderr",
     "output_type": "stream",
     "text": [
      "The ARPA file is missing <unk>.  Substituting log10 probability -100.\n",
      "****************************************************************************************************\n",
      "1 hyps. Best Hypothesis(score=697.9641150122512, time=197, words=[], state=(0, 28541, <kenlm.State object at 0x72e2b96858b0>)). Mean score 697.96. Max 697.96: 100%|██████████| 198/198 [00:01<00:00, 176.02it/s]  \n"
     ]
    },
    {
     "name": "stdout",
     "output_type": "stream",
     "text": [
      "Found 1 hypotheses\n"
     ]
    },
    {
     "name": "stderr",
     "output_type": "stream",
     "text": [
      "Loading the LM will be faster if you build a binary file.\n",
      "Reading /home/chernogor/workspace/nastya/asr_itmo24/resources/lab4/3gram.arpa\n",
      "----5---10---15---20---25---30---35---40---45---50---55---60---65---70---75---80---85---90---95--100\n",
      "The ARPA file is missing <unk>.  Substituting log10 probability -100.\n",
      "****************************************************************************************************\n",
      "1 hyps. Best Hypothesis(score=-630.1084781462808, time=197, words=['she', 'had', 'your', 'dark', 'suit', 'in', 'greasy', 'wash', 'water', 'all', 'year'], state=(0, 0, <kenlm.State object at 0x72e2c0fcf430>)). Mean score -630.11. Max -630.11: 100%|██████████| 198/198 [00:33<00:00,  5.83it/s]      \n"
     ]
    },
    {
     "name": "stdout",
     "output_type": "stream",
     "text": [
      "Found 1 hypotheses\n"
     ]
    },
    {
     "name": "stderr",
     "output_type": "stream",
     "text": [
      "Loading the LM will be faster if you build a binary file.\n",
      "Reading /home/chernogor/workspace/nastya/asr_itmo24/resources/lab4/3gram.arpa\n",
      "----5---10---15---20---25---30---35---40---45---50---55---60---65---70---75---80---85---90---95--100\n",
      "The ARPA file is missing <unk>.  Substituting log10 probability -100.\n",
      "****************************************************************************************************\n",
      "766 hyps. Best Hypothesis(score=-638.1327089252014, time=197, words=['she', 'had', 'your', 'dark', 'suit', 'in', 'greasy', 'wash', 'water', 'awe', 'lawyer'], state=(0, 0, <kenlm.State object at 0x72e2d49fc030>)). Mean score -629.53. Max -628.16: 100%|██████████| 198/198 [05:10<00:00,  1.57s/it] \n"
     ]
    },
    {
     "name": "stdout",
     "output_type": "stream",
     "text": [
      "Found 6 hypotheses\n"
     ]
    },
    {
     "name": "stderr",
     "output_type": "stream",
     "text": [
      "Loading the LM will be faster if you build a binary file.\n",
      "Reading /home/chernogor/workspace/nastya/asr_itmo24/resources/lab4/3gram.arpa\n",
      "----5---10---15---20---25---30---35---40---45---50---55---60---65---70---75---80---85---90---95--100\n",
      "The ARPA file is missing <unk>.  Substituting log10 probability -100.\n",
      "****************************************************************************************************\n",
      "1 hyps. Best Hypothesis(score=697.9641150122512, time=197, words=[], state=(0, 28541, <kenlm.State object at 0x72e2de2c6530>)). Mean score 697.96. Max 697.96: 100%|██████████| 198/198 [00:00<00:00, 208.36it/s]  \n"
     ]
    },
    {
     "name": "stdout",
     "output_type": "stream",
     "text": [
      "Found 1 hypotheses\n"
     ]
    },
    {
     "name": "stderr",
     "output_type": "stream",
     "text": [
      "Loading the LM will be faster if you build a binary file.\n",
      "Reading /home/chernogor/workspace/nastya/asr_itmo24/resources/lab4/3gram.arpa\n",
      "----5---10---15---20---25---30---35---40---45---50---55---60---65---70---75---80---85---90---95--100\n",
      "The ARPA file is missing <unk>.  Substituting log10 probability -100.\n",
      "****************************************************************************************************\n",
      "1 hyps. Best Hypothesis(score=-619.1084781462807, time=197, words=['she', 'had', 'your', 'dark', 'suit', 'in', 'greasy', 'wash', 'water', 'all', 'year'], state=(0, 0, <kenlm.State object at 0x72e2d700b9f0>)). Mean score -619.11. Max -619.11: 100%|██████████| 198/198 [00:26<00:00,  7.41it/s]      \n"
     ]
    },
    {
     "name": "stdout",
     "output_type": "stream",
     "text": [
      "Found 1 hypotheses\n"
     ]
    },
    {
     "name": "stderr",
     "output_type": "stream",
     "text": [
      "Loading the LM will be faster if you build a binary file.\n",
      "Reading /home/chernogor/workspace/nastya/asr_itmo24/resources/lab4/3gram.arpa\n",
      "----5---10---15---20---25---30---35---40---45---50---55---60---65---70---75---80---85---90---95--100\n",
      "The ARPA file is missing <unk>.  Substituting log10 probability -100.\n",
      "****************************************************************************************************\n",
      "762 hyps. Best Hypothesis(score=-627.1327089252013, time=197, words=['she', 'had', 'your', 'dark', 'suit', 'in', 'greasy', 'wash', 'water', 'awe', 'lawyer'], state=(0, 0, <kenlm.State object at 0x72e2c0788d30>)). Mean score -618.53. Max -617.16: 100%|██████████| 198/198 [02:55<00:00,  1.13it/s] \n"
     ]
    },
    {
     "name": "stdout",
     "output_type": "stream",
     "text": [
      "Found 2 hypotheses\n"
     ]
    },
    {
     "name": "stderr",
     "output_type": "stream",
     "text": [
      "Loading the LM will be faster if you build a binary file.\n",
      "Reading /home/chernogor/workspace/nastya/asr_itmo24/resources/lab4/3gram.arpa\n",
      "----5---10---15---20---25---30---35---40---45---50---55---60---65---70---75---80---85---90---95--100\n",
      "The ARPA file is missing <unk>.  Substituting log10 probability -100.\n",
      "****************************************************************************************************\n",
      "1 hyps. Best Hypothesis(score=-279.4994145891956, time=197, words=['she', 'had', 'your', 'arc', 'suit', 'ingredient', 'water', 'all', 'year', 'earth'], state=(0, 0, <kenlm.State object at 0x72e2ddce1630>)). Mean score -279.50. Max -279.50: 100%|██████████| 198/198 [00:09<00:00, 21.77it/s]\n"
     ]
    },
    {
     "name": "stdout",
     "output_type": "stream",
     "text": [
      "Found 1 hypotheses\n"
     ]
    },
    {
     "name": "stderr",
     "output_type": "stream",
     "text": [
      "Loading the LM will be faster if you build a binary file.\n",
      "Reading /home/chernogor/workspace/nastya/asr_itmo24/resources/lab4/3gram.arpa\n",
      "----5---10---15---20---25---30---35---40---45---50---55---60---65---70---75---80---85---90---95--100\n",
      "  0%|          | 0/198 [00:00<?, ?it/s]The ARPA file is missing <unk>.  Substituting log10 probability -100.\n",
      "****************************************************************************************************\n",
      "1 hyps. Best Hypothesis(score=-614.9186706670367, time=197, words=['she', 'had', 'you', 'earn', 'dark', 'suit', 'in', 'greasy', 'wash', 'water', 'all', 'year'], state=(0, 0, <kenlm.State object at 0x72e2c079fc30>)). Mean score -614.92. Max -614.92: 100%|██████████| 198/198 [00:40<00:00,  4.85it/s]      \n"
     ]
    },
    {
     "name": "stdout",
     "output_type": "stream",
     "text": [
      "Found 1 hypotheses\n"
     ]
    },
    {
     "name": "stderr",
     "output_type": "stream",
     "text": [
      "Loading the LM will be faster if you build a binary file.\n",
      "Reading /home/chernogor/workspace/nastya/asr_itmo24/resources/lab4/3gram.arpa\n",
      "----5---10---15---20---25---30---35---40---45---50---55---60---65---70---75---80---85---90---95--100\n",
      "The ARPA file is missing <unk>.  Substituting log10 probability -100.\n",
      "****************************************************************************************************\n",
      "942 hyps. Best Hypothesis(score=-623.9034897793364, time=197, words=['she', 'had', 'you', 'earn', 'dark', 'suit', 'in', 'greasy', 'wash', 'water', 'awe', 'lawyer'], state=(0, 0, <kenlm.State object at 0x72e2c2014770>)). Mean score -615.46. Max -613.97: 100%|██████████| 198/198 [06:23<00:00,  1.94s/it] \n",
      "Loading the LM will be faster if you build a binary file.\n",
      "Reading /home/chernogor/workspace/nastya/asr_itmo24/resources/lab4/3gram.arpa\n",
      "----5---10---15---20---25---30---35---40---45---50---55---60---65---70---75---80---85---90---95--100\n",
      "The ARPA file is missing <unk>.  Substituting log10 probability -100.\n",
      "****************************************************************************************************\n"
     ]
    },
    {
     "name": "stdout",
     "output_type": "stream",
     "text": [
      "Found 6 hypotheses\n"
     ]
    },
    {
     "name": "stderr",
     "output_type": "stream",
     "text": [
      "1 hyps. Best Hypothesis(score=712.4641150122513, time=197, words=[], state=(0, 28541, <kenlm.State object at 0x72e2e906f530>)). Mean score 712.46. Max 712.46: 100%|██████████| 198/198 [00:01<00:00, 133.49it/s]  \n",
      "Loading the LM will be faster if you build a binary file.\n",
      "Reading /home/chernogor/workspace/nastya/asr_itmo24/resources/lab4/3gram.arpa\n",
      "----5---10---15---20---25---30---35---40---45---50---55---60---65---70---75---80---85---90---95--100\n",
      "The ARPA file is missing <unk>.  Substituting log10 probability -100.\n",
      "****************************************************************************************************\n"
     ]
    },
    {
     "name": "stdout",
     "output_type": "stream",
     "text": [
      "Found 1 hypotheses\n"
     ]
    },
    {
     "name": "stderr",
     "output_type": "stream",
     "text": [
      "1 hyps. Best Hypothesis(score=-609.1084781462805, time=197, words=['she', 'had', 'your', 'dark', 'suit', 'in', 'greasy', 'wash', 'water', 'all', 'year'], state=(0, 0, <kenlm.State object at 0x72e2ddb1b5f0>)). Mean score -609.11. Max -609.11: 100%|██████████| 198/198 [00:32<00:00,  6.01it/s]      \n",
      "Loading the LM will be faster if you build a binary file.\n",
      "Reading /home/chernogor/workspace/nastya/asr_itmo24/resources/lab4/3gram.arpa\n",
      "----5---10---15---20---25---30---35---40---45---50---55---60---65---70---75---80---85---90---95--100\n"
     ]
    },
    {
     "name": "stdout",
     "output_type": "stream",
     "text": [
      "Found 1 hypotheses\n"
     ]
    },
    {
     "name": "stderr",
     "output_type": "stream",
     "text": [
      "The ARPA file is missing <unk>.  Substituting log10 probability -100.\n",
      "****************************************************************************************************\n",
      "940 hyps. Best Hypothesis(score=-618.0932972585802, time=197, words=['she', 'had', 'your', 'dark', 'suit', 'in', 'greasy', 'wash', 'water', 'awe', 'lawyer'], state=(0, 0, <kenlm.State object at 0x72e30aee7770>)). Mean score -609.65. Max -608.16: 100%|██████████| 198/198 [05:10<00:00,  1.57s/it] \n"
     ]
    },
    {
     "name": "stdout",
     "output_type": "stream",
     "text": [
      "Found 5 hypotheses\n"
     ]
    },
    {
     "name": "stderr",
     "output_type": "stream",
     "text": [
      "Loading the LM will be faster if you build a binary file.\n",
      "Reading /home/chernogor/workspace/nastya/asr_itmo24/resources/lab4/3gram.arpa\n",
      "----5---10---15---20---25---30---35---40---45---50---55---60---65---70---75---80---85---90---95--100\n",
      "The ARPA file is missing <unk>.  Substituting log10 probability -100.\n",
      "****************************************************************************************************\n",
      "1 hyps. Best Hypothesis(score=712.4641150122513, time=197, words=[], state=(0, 28541, <kenlm.State object at 0x72e2e47e8f30>)). Mean score 712.46. Max 712.46: 100%|██████████| 198/198 [00:00<00:00, 206.12it/s]  \n"
     ]
    },
    {
     "name": "stdout",
     "output_type": "stream",
     "text": [
      "Found 1 hypotheses\n"
     ]
    },
    {
     "name": "stderr",
     "output_type": "stream",
     "text": [
      "Loading the LM will be faster if you build a binary file.\n",
      "Reading /home/chernogor/workspace/nastya/asr_itmo24/resources/lab4/3gram.arpa\n",
      "----5---10---15---20---25---30---35---40---45---50---55---60---65---70---75---80---85---90---95--100\n",
      "The ARPA file is missing <unk>.  Substituting log10 probability -100.\n",
      "****************************************************************************************************\n",
      "1 hyps. Best Hypothesis(score=-598.1084781462806, time=197, words=['she', 'had', 'your', 'dark', 'suit', 'in', 'greasy', 'wash', 'water', 'all', 'year'], state=(0, 0, <kenlm.State object at 0x72e2e458f9b0>)). Mean score -598.11. Max -598.11: 100%|██████████| 198/198 [00:26<00:00,  7.34it/s]      \n",
      "Loading the LM will be faster if you build a binary file.\n",
      "Reading /home/chernogor/workspace/nastya/asr_itmo24/resources/lab4/3gram.arpa\n",
      "----5---10---15---20---25---30---35---40---45---50---55---60---65---70---75---80---85---90---95--100\n",
      "The ARPA file is missing <unk>.  Substituting log10 probability -100.\n",
      "****************************************************************************************************\n"
     ]
    },
    {
     "name": "stdout",
     "output_type": "stream",
     "text": [
      "Found 1 hypotheses\n"
     ]
    },
    {
     "name": "stderr",
     "output_type": "stream",
     "text": [
      "938 hyps. Best Hypothesis(score=-607.09329725858, time=197, words=['she', 'had', 'your', 'dark', 'suit', 'in', 'greasy', 'wash', 'water', 'awe', 'lawyer'], state=(0, 0, <kenlm.State object at 0x72e2e47f8b30>)). Mean score -598.65. Max -597.16: 100%|██████████| 198/198 [03:00<00:00,  1.10it/s]   \n"
     ]
    },
    {
     "name": "stdout",
     "output_type": "stream",
     "text": [
      "Found 3 hypotheses\n"
     ]
    },
    {
     "name": "stderr",
     "output_type": "stream",
     "text": [
      "Loading the LM will be faster if you build a binary file.\n",
      "Reading /home/chernogor/workspace/nastya/asr_itmo24/resources/lab4/3gram.arpa\n",
      "----5---10---15---20---25---30---35---40---45---50---55---60---65---70---75---80---85---90---95--100\n",
      "The ARPA file is missing <unk>.  Substituting log10 probability -100.\n",
      "****************************************************************************************************\n",
      "1 hyps. Best Hypothesis(score=-266.69941458919544, time=197, words=['she', 'had', 'your', 'arc', 'suit', 'ingredient', 'water', 'all', 'year', 'earth'], state=(0, 0, <kenlm.State object at 0x72e30ac8c8b0>)). Mean score -266.70. Max -266.70: 100%|██████████| 198/198 [00:09<00:00, 21.94it/s]\n"
     ]
    },
    {
     "name": "stdout",
     "output_type": "stream",
     "text": [
      "Found 1 hypotheses\n"
     ]
    },
    {
     "name": "stderr",
     "output_type": "stream",
     "text": [
      "Loading the LM will be faster if you build a binary file.\n",
      "Reading /home/chernogor/workspace/nastya/asr_itmo24/resources/lab4/3gram.arpa\n",
      "----5---10---15---20---25---30---35---40---45---50---55---60---65---70---75---80---85---90---95--100\n",
      "The ARPA file is missing <unk>.  Substituting log10 probability -100.\n",
      "****************************************************************************************************\n",
      "1 hyps. Best Hypothesis(score=-598.118670667037, time=197, words=['she', 'had', 'you', 'earn', 'dark', 'suit', 'in', 'greasy', 'wash', 'water', 'all', 'year'], state=(0, 0, <kenlm.State object at 0x72e2bb5e47f0>)). Mean score -598.12. Max -598.12: 100%|██████████| 198/198 [00:41<00:00,  4.77it/s]       \n"
     ]
    },
    {
     "name": "stdout",
     "output_type": "stream",
     "text": [
      "Found 1 hypotheses\n"
     ]
    },
    {
     "name": "stderr",
     "output_type": "stream",
     "text": [
      "Loading the LM will be faster if you build a binary file.\n",
      "Reading /home/chernogor/workspace/nastya/asr_itmo24/resources/lab4/3gram.arpa\n",
      "----5---10---15---20---25---30---35---40---45---50---55---60---65---70---75---80---85---90---95--100\n",
      "The ARPA file is missing <unk>.  Substituting log10 probability -100.\n",
      "****************************************************************************************************\n",
      "965 hyps. Best Hypothesis(score=-607.9034897793365, time=197, words=['she', 'had', 'you', 'earn', 'dark', 'suit', 'in', 'greasy', 'wash', 'water', 'awe', 'lawyer'], state=(0, 0, <kenlm.State object at 0x72e2de2a71b0>)). Mean score -599.81. Max -597.94: 100%|██████████| 198/198 [06:25<00:00,  1.95s/it] \n"
     ]
    },
    {
     "name": "stdout",
     "output_type": "stream",
     "text": [
      "Found 6 hypotheses\n"
     ]
    },
    {
     "name": "stderr",
     "output_type": "stream",
     "text": [
      "Loading the LM will be faster if you build a binary file.\n",
      "Reading /home/chernogor/workspace/nastya/asr_itmo24/resources/lab4/3gram.arpa\n",
      "----5---10---15---20---25---30---35---40---45---50---55---60---65---70---75---80---85---90---95--100\n",
      "The ARPA file is missing <unk>.  Substituting log10 probability -100.\n",
      "****************************************************************************************************\n",
      "1 hyps. Best Hypothesis(score=724.0641150122512, time=197, words=[], state=(0, 28541, <kenlm.State object at 0x72e2ba0866b0>)). Mean score 724.06. Max 724.06: 100%|██████████| 198/198 [00:00<00:00, 207.95it/s]  \n",
      "Loading the LM will be faster if you build a binary file.\n",
      "Reading /home/chernogor/workspace/nastya/asr_itmo24/resources/lab4/3gram.arpa\n",
      "----5---10---15---20---25---30---35---40---45---50---55---60---65---70---75---80---85---90---95--100\n",
      "The ARPA file is missing <unk>.  Substituting log10 probability -100.\n",
      "****************************************************************************************************\n"
     ]
    },
    {
     "name": "stdout",
     "output_type": "stream",
     "text": [
      "Found 1 hypotheses\n"
     ]
    },
    {
     "name": "stderr",
     "output_type": "stream",
     "text": [
      "1 hyps. Best Hypothesis(score=-592.3084781462809, time=197, words=['she', 'had', 'your', 'dark', 'suit', 'in', 'greasy', 'wash', 'water', 'all', 'year'], state=(0, 0, <kenlm.State object at 0x72e30aee8730>)). Mean score -592.31. Max -592.31: 100%|██████████| 198/198 [00:31<00:00,  6.37it/s]      \n"
     ]
    },
    {
     "name": "stdout",
     "output_type": "stream",
     "text": [
      "Found 1 hypotheses\n"
     ]
    },
    {
     "name": "stderr",
     "output_type": "stream",
     "text": [
      "Loading the LM will be faster if you build a binary file.\n",
      "Reading /home/chernogor/workspace/nastya/asr_itmo24/resources/lab4/3gram.arpa\n",
      "----5---10---15---20---25---30---35---40---45---50---55---60---65---70---75---80---85---90---95--100\n",
      "The ARPA file is missing <unk>.  Substituting log10 probability -100.\n",
      "****************************************************************************************************\n",
      "965 hyps. Best Hypothesis(score=-602.0932972585803, time=197, words=['she', 'had', 'your', 'dark', 'suit', 'in', 'greasy', 'wash', 'water', 'awe', 'lawyer'], state=(0, 0, <kenlm.State object at 0x72e3095f3e30>)). Mean score -594.00. Max -592.13: 100%|██████████| 198/198 [04:56<00:00,  1.50s/it] \n",
      "Loading the LM will be faster if you build a binary file.\n",
      "Reading /home/chernogor/workspace/nastya/asr_itmo24/resources/lab4/3gram.arpa\n",
      "----5---10---15---20---25---30---35---40---45---50---55---60---65---70---75---80---85---90---95--100\n",
      "The ARPA file is missing <unk>.  Substituting log10 probability -100.\n",
      "****************************************************************************************************\n"
     ]
    },
    {
     "name": "stdout",
     "output_type": "stream",
     "text": [
      "Found 5 hypotheses\n"
     ]
    },
    {
     "name": "stderr",
     "output_type": "stream",
     "text": [
      "1 hyps. Best Hypothesis(score=724.0641150122512, time=197, words=[], state=(0, 28541, <kenlm.State object at 0x72e30870b930>)). Mean score 724.06. Max 724.06: 100%|██████████| 198/198 [00:01<00:00, 144.80it/s]  \n"
     ]
    },
    {
     "name": "stdout",
     "output_type": "stream",
     "text": [
      "Found 1 hypotheses\n"
     ]
    },
    {
     "name": "stderr",
     "output_type": "stream",
     "text": [
      "Loading the LM will be faster if you build a binary file.\n",
      "Reading /home/chernogor/workspace/nastya/asr_itmo24/resources/lab4/3gram.arpa\n",
      "----5---10---15---20---25---30---35---40---45---50---55---60---65---70---75---80---85---90---95--100\n",
      "The ARPA file is missing <unk>.  Substituting log10 probability -100.\n",
      "****************************************************************************************************\n",
      "1 hyps. Best Hypothesis(score=-581.3084781462808, time=197, words=['she', 'had', 'your', 'dark', 'suit', 'in', 'greasy', 'wash', 'water', 'all', 'year'], state=(0, 0, <kenlm.State object at 0x72e2d777b570>)). Mean score -581.31. Max -581.31: 100%|██████████| 198/198 [00:24<00:00,  8.15it/s]      \n"
     ]
    },
    {
     "name": "stdout",
     "output_type": "stream",
     "text": [
      "Found 1 hypotheses\n"
     ]
    },
    {
     "name": "stderr",
     "output_type": "stream",
     "text": [
      "Loading the LM will be faster if you build a binary file.\n",
      "Reading /home/chernogor/workspace/nastya/asr_itmo24/resources/lab4/3gram.arpa\n",
      "----5---10---15---20---25---30---35---40---45---50---55---60---65---70---75---80---85---90---95--100\n",
      "The ARPA file is missing <unk>.  Substituting log10 probability -100.\n",
      "****************************************************************************************************\n",
      "962 hyps. Best Hypothesis(score=-591.0932972585802, time=197, words=['she', 'had', 'your', 'dark', 'suit', 'in', 'greasy', 'wash', 'water', 'awe', 'lawyer'], state=(0, 0, <kenlm.State object at 0x72e3089d9d30>)). Mean score -583.00. Max -581.13: 100%|██████████| 198/198 [02:51<00:00,  1.16it/s] \n"
     ]
    },
    {
     "name": "stdout",
     "output_type": "stream",
     "text": [
      "Found 3 hypotheses\n"
     ]
    },
    {
     "name": "stderr",
     "output_type": "stream",
     "text": [
      "Loading the LM will be faster if you build a binary file.\n",
      "Reading /home/chernogor/workspace/nastya/asr_itmo24/resources/lab4/3gram.arpa\n",
      "----5---10---15---20---25---30---35---40---45---50---55---60---65---70---75---80---85---90---95--100\n",
      "The ARPA file is missing <unk>.  Substituting log10 probability -100.\n",
      "****************************************************************************************************\n",
      "1 hyps. Best Hypothesis(score=517.9489115011572, time=197, words=['she', 'had'], state=(0, 36343, <kenlm.State object at 0x72e2ff9d0330>)). Mean score 517.95. Max 517.95: 100%|██████████| 198/198 [00:01<00:00, 115.37it/s] \n"
     ]
    },
    {
     "name": "stdout",
     "output_type": "stream",
     "text": [
      "Found 1 hypotheses\n"
     ]
    },
    {
     "name": "stderr",
     "output_type": "stream",
     "text": [
      "Loading the LM will be faster if you build a binary file.\n",
      "Reading /home/chernogor/workspace/nastya/asr_itmo24/resources/lab4/3gram.arpa\n",
      "----5---10---15---20---25---30---35---40---45---50---55---60---65---70---75---80---85---90---95--100\n",
      "The ARPA file is missing <unk>.  Substituting log10 probability -100.\n",
      "****************************************************************************************************\n",
      "1 hyps. Best Hypothesis(score=-631.1191963788787, time=197, words=['she', 'had', 'your', 'dark', 'suit', 'in', 'greasy', 'wash', 'water', 'all', 'year'], state=(0, 0, <kenlm.State object at 0x72e2d23b7830>)). Mean score -631.12. Max -631.12: 100%|██████████| 198/198 [00:26<00:00,  7.40it/s]      \n"
     ]
    },
    {
     "name": "stdout",
     "output_type": "stream",
     "text": [
      "Found 1 hypotheses\n"
     ]
    },
    {
     "name": "stderr",
     "output_type": "stream",
     "text": [
      "Loading the LM will be faster if you build a binary file.\n",
      "Reading /home/chernogor/workspace/nastya/asr_itmo24/resources/lab4/3gram.arpa\n",
      "----5---10---15---20---25---30---35---40---45---50---55---60---65---70---75---80---85---90---95--100\n",
      "The ARPA file is missing <unk>.  Substituting log10 probability -100.\n",
      "****************************************************************************************************\n",
      "764 hyps. Best Hypothesis(score=-638.4437235342165, time=197, words=['she', 'had', 'your', 'dark', 'suit', 'in', 'greasy', 'wash', 'water', 'all', 'lawyer'], state=(0, 0, <kenlm.State object at 0x72e30afcf1b0>)). Mean score -629.85. Max -628.48: 100%|██████████| 198/198 [04:18<00:00,  1.31s/it] \n",
      "Loading the LM will be faster if you build a binary file.\n",
      "Reading /home/chernogor/workspace/nastya/asr_itmo24/resources/lab4/3gram.arpa\n",
      "----5---10---15---20---25---30---35---40---45---50---55---60---65---70---75---80---85---90---95--100\n"
     ]
    },
    {
     "name": "stdout",
     "output_type": "stream",
     "text": [
      "Found 4 hypotheses\n"
     ]
    },
    {
     "name": "stderr",
     "output_type": "stream",
     "text": [
      "The ARPA file is missing <unk>.  Substituting log10 probability -100.\n",
      "****************************************************************************************************\n",
      "1 hyps. Best Hypothesis(score=697.9641150122512, time=197, words=[], state=(0, 28541, <kenlm.State object at 0x72e2ffa7ce70>)). Mean score 697.96. Max 697.96: 100%|██████████| 198/198 [00:01<00:00, 137.66it/s] \n"
     ]
    },
    {
     "name": "stdout",
     "output_type": "stream",
     "text": [
      "Found 1 hypotheses\n"
     ]
    },
    {
     "name": "stderr",
     "output_type": "stream",
     "text": [
      "Loading the LM will be faster if you build a binary file.\n",
      "Reading /home/chernogor/workspace/nastya/asr_itmo24/resources/lab4/3gram.arpa\n",
      "----5---10---15---20---25---30---35---40---45---50---55---60---65---70---75---80---85---90---95--100\n",
      "The ARPA file is missing <unk>.  Substituting log10 probability -100.\n",
      "****************************************************************************************************\n",
      "1 hyps. Best Hypothesis(score=-625.6191963788787, time=197, words=['she', 'had', 'your', 'dark', 'suit', 'in', 'greasy', 'wash', 'water', 'all', 'year'], state=(0, 0, <kenlm.State object at 0x72e2ffca2970>)). Mean score -625.62. Max -625.62: 100%|██████████| 198/198 [00:25<00:00,  7.90it/s]      \n"
     ]
    },
    {
     "name": "stdout",
     "output_type": "stream",
     "text": [
      "Found 1 hypotheses\n"
     ]
    },
    {
     "name": "stderr",
     "output_type": "stream",
     "text": [
      "Loading the LM will be faster if you build a binary file.\n",
      "Reading /home/chernogor/workspace/nastya/asr_itmo24/resources/lab4/3gram.arpa\n",
      "----5---10---15---20---25---30---35---40---45---50---55---60---65---70---75---80---85---90---95--100\n",
      "The ARPA file is missing <unk>.  Substituting log10 probability -100.\n",
      "****************************************************************************************************\n",
      "764 hyps. Best Hypothesis(score=-632.9437235342165, time=197, words=['she', 'had', 'your', 'dark', 'suit', 'in', 'greasy', 'wash', 'water', 'all', 'lawyer'], state=(0, 0, <kenlm.State object at 0x72e3083e41b0>)). Mean score -624.34. Max -622.98: 100%|██████████| 198/198 [03:12<00:00,  1.03it/s] \n",
      "Loading the LM will be faster if you build a binary file.\n",
      "Reading /home/chernogor/workspace/nastya/asr_itmo24/resources/lab4/3gram.arpa\n",
      "----5---10---15---20---25---30---35---40---45---50---55---60---65---70---75---80---85---90---95--100\n",
      "The ARPA file is missing <unk>.  Substituting log10 probability -100.\n",
      "****************************************************************************************************\n"
     ]
    },
    {
     "name": "stdout",
     "output_type": "stream",
     "text": [
      "Found 4 hypotheses\n"
     ]
    },
    {
     "name": "stderr",
     "output_type": "stream",
     "text": [
      "1 hyps. Best Hypothesis(score=697.9641150122512, time=197, words=[], state=(0, 28541, <kenlm.State object at 0x72e2d4b491f0>)). Mean score 697.96. Max 697.96: 100%|██████████| 198/198 [00:01<00:00, 135.76it/s]  \n",
      "Loading the LM will be faster if you build a binary file.\n",
      "Reading /home/chernogor/workspace/nastya/asr_itmo24/resources/lab4/3gram.arpa\n",
      "----5---10---15---20---25---30---35---40---45---50---55---60---65---70---75---80---85---90---95--100\n",
      "The ARPA file is missing <unk>.  Substituting log10 probability -100.\n",
      "****************************************************************************************************\n"
     ]
    },
    {
     "name": "stdout",
     "output_type": "stream",
     "text": [
      "Found 1 hypotheses\n"
     ]
    },
    {
     "name": "stderr",
     "output_type": "stream",
     "text": [
      "1 hyps. Best Hypothesis(score=-614.6191963788785, time=197, words=['she', 'had', 'your', 'dark', 'suit', 'in', 'greasy', 'wash', 'water', 'all', 'year'], state=(0, 0, <kenlm.State object at 0x72e2d733c1b0>)). Mean score -614.62. Max -614.62: 100%|██████████| 198/198 [00:17<00:00, 11.58it/s]\n"
     ]
    },
    {
     "name": "stdout",
     "output_type": "stream",
     "text": [
      "Found 1 hypotheses\n"
     ]
    },
    {
     "name": "stderr",
     "output_type": "stream",
     "text": [
      "Loading the LM will be faster if you build a binary file.\n",
      "Reading /home/chernogor/workspace/nastya/asr_itmo24/resources/lab4/3gram.arpa\n",
      "----5---10---15---20---25---30---35---40---45---50---55---60---65---70---75---80---85---90---95--100\n",
      "The ARPA file is missing <unk>.  Substituting log10 probability -100.\n",
      "****************************************************************************************************\n",
      "762 hyps. Best Hypothesis(score=-621.9437235342164, time=197, words=['she', 'had', 'your', 'dark', 'suit', 'in', 'greasy', 'wash', 'water', 'all', 'lawyer'], state=(0, 0, <kenlm.State object at 0x72e2d4fcbeb0>)). Mean score -613.34. Max -611.98: 100%|██████████| 198/198 [02:02<00:00,  1.62it/s] \n",
      "Loading the LM will be faster if you build a binary file.\n",
      "Reading /home/chernogor/workspace/nastya/asr_itmo24/resources/lab4/3gram.arpa\n",
      "----5---10---15---20---25---30---35---40---45---50---55---60---65---70---75---80---85---90---95--100\n",
      "The ARPA file is missing <unk>.  Substituting log10 probability -100.\n",
      "****************************************************************************************************\n"
     ]
    },
    {
     "name": "stdout",
     "output_type": "stream",
     "text": [
      "Found 2 hypotheses\n"
     ]
    },
    {
     "name": "stderr",
     "output_type": "stream",
     "text": [
      "1 hyps. Best Hypothesis(score=532.4489115011575, time=197, words=['she', 'had'], state=(0, 36343, <kenlm.State object at 0x72e2ddfc6a30>)). Mean score 532.45. Max 532.45: 100%|██████████| 198/198 [00:02<00:00, 89.31it/s]   \n",
      "Loading the LM will be faster if you build a binary file.\n",
      "Reading /home/chernogor/workspace/nastya/asr_itmo24/resources/lab4/3gram.arpa\n",
      "----5---10---15---20---25---30---35---40---45---50---55---60---65---70---75---80---85---90---95--100\n"
     ]
    },
    {
     "name": "stdout",
     "output_type": "stream",
     "text": [
      "Found 1 hypotheses\n"
     ]
    },
    {
     "name": "stderr",
     "output_type": "stream",
     "text": [
      "The ARPA file is missing <unk>.  Substituting log10 probability -100.\n",
      "****************************************************************************************************\n",
      "1 hyps. Best Hypothesis(score=-610.1191963788784, time=197, words=['she', 'had', 'your', 'dark', 'suit', 'in', 'greasy', 'wash', 'water', 'all', 'year'], state=(0, 0, <kenlm.State object at 0x72e2e4b0b2f0>)). Mean score -610.12. Max -610.12: 100%|██████████| 198/198 [00:27<00:00,  7.17it/s]      \n"
     ]
    },
    {
     "name": "stdout",
     "output_type": "stream",
     "text": [
      "Found 1 hypotheses\n"
     ]
    },
    {
     "name": "stderr",
     "output_type": "stream",
     "text": [
      "Loading the LM will be faster if you build a binary file.\n",
      "Reading /home/chernogor/workspace/nastya/asr_itmo24/resources/lab4/3gram.arpa\n",
      "----5---10---15---20---25---30---35---40---45---50---55---60---65---70---75---80---85---90---95--100\n",
      "  0%|          | 0/198 [00:00<?, ?it/s]The ARPA file is missing <unk>.  Substituting log10 probability -100.\n",
      "****************************************************************************************************\n",
      "939 hyps. Best Hypothesis(score=-618.4043118675953, time=197, words=['she', 'had', 'your', 'dark', 'suit', 'in', 'greasy', 'wash', 'water', 'all', 'lawyer'], state=(0, 0, <kenlm.State object at 0x72e2c1fea8f0>)). Mean score -609.96. Max -608.47: 100%|██████████| 198/198 [04:22<00:00,  1.32s/it] \n"
     ]
    },
    {
     "name": "stdout",
     "output_type": "stream",
     "text": [
      "Found 4 hypotheses\n"
     ]
    },
    {
     "name": "stderr",
     "output_type": "stream",
     "text": [
      "Loading the LM will be faster if you build a binary file.\n",
      "Reading /home/chernogor/workspace/nastya/asr_itmo24/resources/lab4/3gram.arpa\n",
      "----5---10---15---20---25---30---35---40---45---50---55---60---65---70---75---80---85---90---95--100\n",
      "The ARPA file is missing <unk>.  Substituting log10 probability -100.\n",
      "****************************************************************************************************\n",
      "1 hyps. Best Hypothesis(score=712.4641150122513, time=197, words=[], state=(0, 28541, <kenlm.State object at 0x72e2e48ca730>)). Mean score 712.46. Max 712.46: 100%|██████████| 198/198 [00:00<00:00, 220.50it/s]  \n",
      "Loading the LM will be faster if you build a binary file.\n",
      "Reading /home/chernogor/workspace/nastya/asr_itmo24/resources/lab4/3gram.arpa\n",
      "----5---10---15---20---25---30---35---40---45---50---55---60---65---70---75---80---85---90---95--100\n",
      "The ARPA file is missing <unk>.  Substituting log10 probability -100.\n",
      "****************************************************************************************************\n"
     ]
    },
    {
     "name": "stdout",
     "output_type": "stream",
     "text": [
      "Found 1 hypotheses\n"
     ]
    },
    {
     "name": "stderr",
     "output_type": "stream",
     "text": [
      "1 hyps. Best Hypothesis(score=-604.6191963788784, time=197, words=['she', 'had', 'your', 'dark', 'suit', 'in', 'greasy', 'wash', 'water', 'all', 'year'], state=(0, 0, <kenlm.State object at 0x72e2ffb25fb0>)). Mean score -604.62. Max -604.62: 100%|██████████| 198/198 [00:25<00:00,  7.77it/s]      \n"
     ]
    },
    {
     "name": "stdout",
     "output_type": "stream",
     "text": [
      "Found 1 hypotheses\n"
     ]
    },
    {
     "name": "stderr",
     "output_type": "stream",
     "text": [
      "Loading the LM will be faster if you build a binary file.\n",
      "Reading /home/chernogor/workspace/nastya/asr_itmo24/resources/lab4/3gram.arpa\n",
      "----5---10---15---20---25---30---35---40---45---50---55---60---65---70---75---80---85---90---95--100\n",
      "The ARPA file is missing <unk>.  Substituting log10 probability -100.\n",
      "****************************************************************************************************\n",
      "938 hyps. Best Hypothesis(score=-612.9043118675953, time=197, words=['she', 'had', 'your', 'dark', 'suit', 'in', 'greasy', 'wash', 'water', 'all', 'lawyer'], state=(0, 0, <kenlm.State object at 0x72e2e4580230>)). Mean score -604.46. Max -602.97: 100%|██████████| 198/198 [03:15<00:00,  1.01it/s] \n"
     ]
    },
    {
     "name": "stdout",
     "output_type": "stream",
     "text": [
      "Found 3 hypotheses\n"
     ]
    },
    {
     "name": "stderr",
     "output_type": "stream",
     "text": [
      "Loading the LM will be faster if you build a binary file.\n",
      "Reading /home/chernogor/workspace/nastya/asr_itmo24/resources/lab4/3gram.arpa\n",
      "----5---10---15---20---25---30---35---40---45---50---55---60---65---70---75---80---85---90---95--100\n",
      "The ARPA file is missing <unk>.  Substituting log10 probability -100.\n",
      "****************************************************************************************************\n",
      "1 hyps. Best Hypothesis(score=712.4641150122513, time=197, words=[], state=(0, 28541, <kenlm.State object at 0x72e2d49d1fb0>)). Mean score 712.46. Max 712.46: 100%|██████████| 198/198 [00:00<00:00, 217.30it/s]  \n"
     ]
    },
    {
     "name": "stdout",
     "output_type": "stream",
     "text": [
      "Found 1 hypotheses\n"
     ]
    },
    {
     "name": "stderr",
     "output_type": "stream",
     "text": [
      "Loading the LM will be faster if you build a binary file.\n",
      "Reading /home/chernogor/workspace/nastya/asr_itmo24/resources/lab4/3gram.arpa\n",
      "----5---10---15---20---25---30---35---40---45---50---55---60---65---70---75---80---85---90---95--100\n",
      "The ARPA file is missing <unk>.  Substituting log10 probability -100.\n",
      "****************************************************************************************************\n",
      "1 hyps. Best Hypothesis(score=-593.6191963788784, time=197, words=['she', 'had', 'your', 'dark', 'suit', 'in', 'greasy', 'wash', 'water', 'all', 'year'], state=(0, 0, <kenlm.State object at 0x72e2ffb33470>)). Mean score -593.62. Max -593.62: 100%|██████████| 198/198 [00:17<00:00, 11.55it/s] \n",
      "Loading the LM will be faster if you build a binary file.\n",
      "Reading /home/chernogor/workspace/nastya/asr_itmo24/resources/lab4/3gram.arpa\n",
      "----5---10---15---20---25---30---35---40---45---50---55---60---65---70---75---80---85---90---95--100\n"
     ]
    },
    {
     "name": "stdout",
     "output_type": "stream",
     "text": [
      "Found 1 hypotheses\n"
     ]
    },
    {
     "name": "stderr",
     "output_type": "stream",
     "text": [
      "The ARPA file is missing <unk>.  Substituting log10 probability -100.\n",
      "****************************************************************************************************\n",
      "937 hyps. Best Hypothesis(score=-601.9043118675952, time=197, words=['she', 'had', 'your', 'dark', 'suit', 'in', 'greasy', 'wash', 'water', 'all', 'lawyer'], state=(0, 0, <kenlm.State object at 0x72e309696370>)). Mean score -593.46. Max -591.97: 100%|██████████| 198/198 [02:05<00:00,  1.57it/s] \n",
      "Loading the LM will be faster if you build a binary file.\n",
      "Reading /home/chernogor/workspace/nastya/asr_itmo24/resources/lab4/3gram.arpa\n",
      "----5---10---15---20---25---30---35---40---45---50---55---60---65---70---75---80---85---90---95--100\n"
     ]
    },
    {
     "name": "stdout",
     "output_type": "stream",
     "text": [
      "Found 2 hypotheses\n"
     ]
    },
    {
     "name": "stderr",
     "output_type": "stream",
     "text": [
      "The ARPA file is missing <unk>.  Substituting log10 probability -100.\n",
      "****************************************************************************************************\n",
      "1 hyps. Best Hypothesis(score=544.0489115011576, time=197, words=['she', 'had'], state=(0, 36343, <kenlm.State object at 0x72e30a8d56f0>)). Mean score 544.05. Max 544.05: 100%|██████████| 198/198 [00:02<00:00, 90.45it/s]   \n"
     ]
    },
    {
     "name": "stdout",
     "output_type": "stream",
     "text": [
      "Found 1 hypotheses\n"
     ]
    },
    {
     "name": "stderr",
     "output_type": "stream",
     "text": [
      "Loading the LM will be faster if you build a binary file.\n",
      "Reading /home/chernogor/workspace/nastya/asr_itmo24/resources/lab4/3gram.arpa\n",
      "----5---10---15---20---25---30---35---40---45---50---55---60---65---70---75---80---85---90---95--100\n",
      "The ARPA file is missing <unk>.  Substituting log10 probability -100.\n",
      "****************************************************************************************************\n",
      "1 hyps. Best Hypothesis(score=-593.3191963788787, time=197, words=['she', 'had', 'your', 'dark', 'suit', 'in', 'greasy', 'wash', 'water', 'all', 'year'], state=(0, 0, <kenlm.State object at 0x72e308376d70>)). Mean score -593.32. Max -593.32: 100%|██████████| 198/198 [00:27<00:00,  7.21it/s]      \n",
      "Loading the LM will be faster if you build a binary file.\n",
      "Reading /home/chernogor/workspace/nastya/asr_itmo24/resources/lab4/3gram.arpa\n",
      "----5---10---15---20---25---30---35---40---45---50---55---60---65---70---75---80---85---90---95--100\n"
     ]
    },
    {
     "name": "stdout",
     "output_type": "stream",
     "text": [
      "Found 1 hypotheses\n"
     ]
    },
    {
     "name": "stderr",
     "output_type": "stream",
     "text": [
      "The ARPA file is missing <unk>.  Substituting log10 probability -100.\n",
      "****************************************************************************************************\n",
      "965 hyps. Best Hypothesis(score=-602.4043118675955, time=197, words=['she', 'had', 'your', 'dark', 'suit', 'in', 'greasy', 'wash', 'water', 'all', 'lawyer'], state=(0, 0, <kenlm.State object at 0x72e2ddfd34b0>)). Mean score -594.31. Max -592.44: 100%|██████████| 198/198 [04:28<00:00,  1.36s/it] \n",
      "Loading the LM will be faster if you build a binary file.\n",
      "Reading /home/chernogor/workspace/nastya/asr_itmo24/resources/lab4/3gram.arpa\n",
      "----5---10---15---20---25---30---35---40---45---50---55---60---65---70---75---80---85---90---95--100\n",
      "The ARPA file is missing <unk>.  Substituting log10 probability -100.\n",
      "****************************************************************************************************\n"
     ]
    },
    {
     "name": "stdout",
     "output_type": "stream",
     "text": [
      "Found 5 hypotheses\n"
     ]
    },
    {
     "name": "stderr",
     "output_type": "stream",
     "text": [
      "1 hyps. Best Hypothesis(score=724.0641150122512, time=197, words=[], state=(0, 28541, <kenlm.State object at 0x72e3080190b0>)). Mean score 724.06. Max 724.06: 100%|██████████| 198/198 [00:00<00:00, 226.35it/s]  \n"
     ]
    },
    {
     "name": "stdout",
     "output_type": "stream",
     "text": [
      "Found 1 hypotheses\n"
     ]
    },
    {
     "name": "stderr",
     "output_type": "stream",
     "text": [
      "Loading the LM will be faster if you build a binary file.\n",
      "Reading /home/chernogor/workspace/nastya/asr_itmo24/resources/lab4/3gram.arpa\n",
      "----5---10---15---20---25---30---35---40---45---50---55---60---65---70---75---80---85---90---95--100\n",
      "The ARPA file is missing <unk>.  Substituting log10 probability -100.\n",
      "****************************************************************************************************\n",
      "1 hyps. Best Hypothesis(score=-587.8191963788787, time=197, words=['she', 'had', 'your', 'dark', 'suit', 'in', 'greasy', 'wash', 'water', 'all', 'year'], state=(0, 0, <kenlm.State object at 0x72e2d2438870>)). Mean score -587.82. Max -587.82: 100%|██████████| 198/198 [00:25<00:00,  7.76it/s]      \n"
     ]
    },
    {
     "name": "stdout",
     "output_type": "stream",
     "text": [
      "Found 1 hypotheses\n"
     ]
    },
    {
     "name": "stderr",
     "output_type": "stream",
     "text": [
      "Loading the LM will be faster if you build a binary file.\n",
      "Reading /home/chernogor/workspace/nastya/asr_itmo24/resources/lab4/3gram.arpa\n",
      "----5---10---15---20---25---30---35---40---45---50---55---60---65---70---75---80---85---90---95--100\n",
      "The ARPA file is missing <unk>.  Substituting log10 probability -100.\n",
      "****************************************************************************************************\n",
      "962 hyps. Best Hypothesis(score=-596.9043118675954, time=197, words=['she', 'had', 'your', 'dark', 'suit', 'in', 'greasy', 'wash', 'water', 'all', 'lawyer'], state=(0, 0, <kenlm.State object at 0x72e2de145e70>)). Mean score -588.81. Max -586.94: 100%|██████████| 198/198 [03:19<00:00,  1.01s/it] \n"
     ]
    },
    {
     "name": "stdout",
     "output_type": "stream",
     "text": [
      "Found 3 hypotheses\n"
     ]
    },
    {
     "name": "stderr",
     "output_type": "stream",
     "text": [
      "Loading the LM will be faster if you build a binary file.\n",
      "Reading /home/chernogor/workspace/nastya/asr_itmo24/resources/lab4/3gram.arpa\n",
      "----5---10---15---20---25---30---35---40---45---50---55---60---65---70---75---80---85---90---95--100\n",
      "The ARPA file is missing <unk>.  Substituting log10 probability -100.\n",
      "****************************************************************************************************\n",
      "1 hyps. Best Hypothesis(score=724.0641150122512, time=197, words=[], state=(0, 28541, <kenlm.State object at 0x72e2d24e0df0>)). Mean score 724.06. Max 724.06: 100%|██████████| 198/198 [00:00<00:00, 217.45it/s]  \n"
     ]
    },
    {
     "name": "stdout",
     "output_type": "stream",
     "text": [
      "Found 1 hypotheses\n"
     ]
    },
    {
     "name": "stderr",
     "output_type": "stream",
     "text": [
      "Loading the LM will be faster if you build a binary file.\n",
      "Reading /home/chernogor/workspace/nastya/asr_itmo24/resources/lab4/3gram.arpa\n",
      "----5---10---15---20---25---30---35---40---45---50---55---60---65---70---75---80---85---90---95--100\n",
      "The ARPA file is missing <unk>.  Substituting log10 probability -100.\n",
      "****************************************************************************************************\n",
      "1 hyps. Best Hypothesis(score=-576.8191963788787, time=197, words=['she', 'had', 'your', 'dark', 'suit', 'in', 'greasy', 'wash', 'water', 'all', 'year'], state=(0, 0, <kenlm.State object at 0x72e2ffa72d70>)). Mean score -576.82. Max -576.82: 100%|██████████| 198/198 [00:17<00:00, 11.36it/s] \n",
      "Loading the LM will be faster if you build a binary file.\n",
      "Reading /home/chernogor/workspace/nastya/asr_itmo24/resources/lab4/3gram.arpa\n",
      "----5---10---15---20---25---30---35---40---45---50---55---60---65---70---75---80---85---90---95--100\n"
     ]
    },
    {
     "name": "stdout",
     "output_type": "stream",
     "text": [
      "Found 1 hypotheses\n"
     ]
    },
    {
     "name": "stderr",
     "output_type": "stream",
     "text": [
      "The ARPA file is missing <unk>.  Substituting log10 probability -100.\n",
      "****************************************************************************************************\n",
      "962 hyps. Best Hypothesis(score=-585.9043118675954, time=197, words=['she', 'had', 'your', 'dark', 'suit', 'in', 'greasy', 'wash', 'water', 'all', 'lawyer'], state=(0, 0, <kenlm.State object at 0x72e308270db0>)). Mean score -577.81. Max -575.94: 100%|██████████| 198/198 [02:08<00:00,  1.55it/s] \n"
     ]
    },
    {
     "name": "stdout",
     "output_type": "stream",
     "text": [
      "Found 2 hypotheses\n"
     ]
    },
    {
     "name": "stderr",
     "output_type": "stream",
     "text": [
      "Loading the LM will be faster if you build a binary file.\n",
      "Reading /home/chernogor/workspace/nastya/asr_itmo24/resources/lab4/3gram.arpa\n",
      "----5---10---15---20---25---30---35---40---45---50---55---60---65---70---75---80---85---90---95--100\n",
      "The ARPA file is missing <unk>.  Substituting log10 probability -100.\n",
      "****************************************************************************************************\n",
      "1 hyps. Best Hypothesis(score=697.9641150122512, time=197, words=[], state=(0, 28541, <kenlm.State object at 0x72e2c0409d30>)). Mean score 697.96. Max 697.96: 100%|██████████| 198/198 [00:00<00:00, 209.09it/s]  \n",
      "Loading the LM will be faster if you build a binary file.\n",
      "Reading /home/chernogor/workspace/nastya/asr_itmo24/resources/lab4/3gram.arpa\n",
      "----5---10---15---20---25---30---35---40---45---50---55---60---65---70---75---80---85---90---95--100\n"
     ]
    },
    {
     "name": "stdout",
     "output_type": "stream",
     "text": [
      "Found 1 hypotheses\n"
     ]
    },
    {
     "name": "stderr",
     "output_type": "stream",
     "text": [
      "The ARPA file is missing <unk>.  Substituting log10 probability -100.\n",
      "****************************************************************************************************\n",
      "2 hyps. Best Hypothesis(score=604.3899567682955, time=197, words=['she', 'had'], state=(0, 36310, <kenlm.State object at 0x72e308a85cb0>)). Mean score 605.11. Max 605.82: 100%|██████████| 198/198 [00:02<00:00, 72.99it/s]    \n"
     ]
    },
    {
     "name": "stdout",
     "output_type": "stream",
     "text": [
      "Found 2 hypotheses\n"
     ]
    },
    {
     "name": "stderr",
     "output_type": "stream",
     "text": [
      "Loading the LM will be faster if you build a binary file.\n",
      "Reading /home/chernogor/workspace/nastya/asr_itmo24/resources/lab4/3gram.arpa\n",
      "----5---10---15---20---25---30---35---40---45---50---55---60---65---70---75---80---85---90---95--100\n",
      "The ARPA file is missing <unk>.  Substituting log10 probability -100.\n",
      "****************************************************************************************************\n",
      "3 hyps. Best Hypothesis(score=-519.9067356303901, time=197, words=['she', 'had', 'used', 'dark', 'suit', 'in', 'greasy', 'wash', 'water', 'all'], state=(0, 18055, <kenlm.State object at 0x72e2bbf76830>)). Mean score -519.90. Max -519.90: 100%|██████████| 198/198 [00:39<00:00,  5.05it/s]   \n",
      "Loading the LM will be faster if you build a binary file.\n",
      "Reading /home/chernogor/workspace/nastya/asr_itmo24/resources/lab4/3gram.arpa\n",
      "----5---10---15---20---25---30---35---40---45---50---55---60---65---70---75---80---85---90---95--100\n"
     ]
    },
    {
     "name": "stdout",
     "output_type": "stream",
     "text": [
      "Found 3 hypotheses\n"
     ]
    },
    {
     "name": "stderr",
     "output_type": "stream",
     "text": [
      "  0%|          | 0/198 [00:00<?, ?it/s]The ARPA file is missing <unk>.  Substituting log10 probability -100.\n",
      "****************************************************************************************************\n",
      "1 hyps. Best Hypothesis(score=697.9641150122512, time=197, words=[], state=(0, 28541, <kenlm.State object at 0x72e2c06512f0>)). Mean score 697.96. Max 697.96: 100%|██████████| 198/198 [00:01<00:00, 141.52it/s] \n"
     ]
    },
    {
     "name": "stdout",
     "output_type": "stream",
     "text": [
      "Found 1 hypotheses\n"
     ]
    },
    {
     "name": "stderr",
     "output_type": "stream",
     "text": [
      "Loading the LM will be faster if you build a binary file.\n",
      "Reading /home/chernogor/workspace/nastya/asr_itmo24/resources/lab4/3gram.arpa\n",
      "----5---10---15---20---25---30---35---40---45---50---55---60---65---70---75---80---85---90---95--100\n",
      "The ARPA file is missing <unk>.  Substituting log10 probability -100.\n",
      "****************************************************************************************************\n",
      "2 hyps. Best Hypothesis(score=605.3899567682954, time=197, words=['she', 'had'], state=(0, 36310, <kenlm.State object at 0x72e2ffb4d870>)). Mean score 606.11. Max 606.82: 100%|██████████| 198/198 [00:02<00:00, 92.56it/s]    \n"
     ]
    },
    {
     "name": "stdout",
     "output_type": "stream",
     "text": [
      "Found 2 hypotheses\n"
     ]
    },
    {
     "name": "stderr",
     "output_type": "stream",
     "text": [
      "Loading the LM will be faster if you build a binary file.\n",
      "Reading /home/chernogor/workspace/nastya/asr_itmo24/resources/lab4/3gram.arpa\n",
      "----5---10---15---20---25---30---35---40---45---50---55---60---65---70---75---80---85---90---95--100\n",
      "The ARPA file is missing <unk>.  Substituting log10 probability -100.\n",
      "****************************************************************************************************\n",
      "3 hyps. Best Hypothesis(score=-514.90673563039, time=197, words=['she', 'had', 'used', 'dark', 'suit', 'in', 'greasy', 'wash', 'water', 'all'], state=(0, 18055, <kenlm.State object at 0x72e2ff862fb0>)). Mean score -514.90. Max -514.90: 100%|██████████| 198/198 [00:35<00:00,  5.60it/s]     \n"
     ]
    },
    {
     "name": "stdout",
     "output_type": "stream",
     "text": [
      "Found 3 hypotheses\n"
     ]
    },
    {
     "name": "stderr",
     "output_type": "stream",
     "text": [
      "Loading the LM will be faster if you build a binary file.\n",
      "Reading /home/chernogor/workspace/nastya/asr_itmo24/resources/lab4/3gram.arpa\n",
      "----5---10---15---20---25---30---35---40---45---50---55---60---65---70---75---80---85---90---95--100\n",
      "The ARPA file is missing <unk>.  Substituting log10 probability -100.\n",
      "****************************************************************************************************\n",
      "1 hyps. Best Hypothesis(score=697.9641150122512, time=197, words=[], state=(0, 28541, <kenlm.State object at 0x72e2bab81cf0>)). Mean score 697.96. Max 697.96: 100%|██████████| 198/198 [00:00<00:00, 222.17it/s]  \n"
     ]
    },
    {
     "name": "stdout",
     "output_type": "stream",
     "text": [
      "Found 1 hypotheses\n"
     ]
    },
    {
     "name": "stderr",
     "output_type": "stream",
     "text": [
      "Loading the LM will be faster if you build a binary file.\n",
      "Reading /home/chernogor/workspace/nastya/asr_itmo24/resources/lab4/3gram.arpa\n",
      "----5---10---15---20---25---30---35---40---45---50---55---60---65---70---75---80---85---90---95--100\n",
      "The ARPA file is missing <unk>.  Substituting log10 probability -100.\n",
      "****************************************************************************************************\n",
      "1 hyps. Best Hypothesis(score=662.7090014395726, time=197, words=[], state=(0, 28558, <kenlm.State object at 0x72e2d1f54570>)). Mean score 662.71. Max 662.71: 100%|██████████| 198/198 [00:01<00:00, 128.43it/s]  \n",
      "Loading the LM will be faster if you build a binary file.\n",
      "Reading /home/chernogor/workspace/nastya/asr_itmo24/resources/lab4/3gram.arpa\n",
      "----5---10---15---20---25---30---35---40---45---50---55---60---65---70---75---80---85---90---95--100\n",
      "The ARPA file is missing <unk>.  Substituting log10 probability -100.\n",
      "****************************************************************************************************\n"
     ]
    },
    {
     "name": "stdout",
     "output_type": "stream",
     "text": [
      "Found 1 hypotheses\n"
     ]
    },
    {
     "name": "stderr",
     "output_type": "stream",
     "text": [
      "4 hyps. Best Hypothesis(score=607.3899567682954, time=197, words=['she', 'had'], state=(0, 36310, <kenlm.State object at 0x72e2ddcb3eb0>)). Mean score 609.04. Max 610.59: 100%|██████████| 198/198 [00:14<00:00, 13.98it/s]   \n"
     ]
    },
    {
     "name": "stdout",
     "output_type": "stream",
     "text": [
      "Found 4 hypotheses\n"
     ]
    },
    {
     "name": "stderr",
     "output_type": "stream",
     "text": [
      "Loading the LM will be faster if you build a binary file.\n",
      "Reading /home/chernogor/workspace/nastya/asr_itmo24/resources/lab4/3gram.arpa\n",
      "----5---10---15---20---25---30---35---40---45---50---55---60---65---70---75---80---85---90---95--100\n",
      "The ARPA file is missing <unk>.  Substituting log10 probability -100.\n",
      "****************************************************************************************************\n",
      "1 hyps. Best Hypothesis(score=712.4641150122513, time=197, words=[], state=(0, 28541, <kenlm.State object at 0x72e2d1baaa70>)). Mean score 712.46. Max 712.46: 100%|██████████| 198/198 [00:00<00:00, 199.51it/s]  \n"
     ]
    },
    {
     "name": "stdout",
     "output_type": "stream",
     "text": [
      "Found 1 hypotheses\n"
     ]
    },
    {
     "name": "stderr",
     "output_type": "stream",
     "text": [
      "Loading the LM will be faster if you build a binary file.\n",
      "Reading /home/chernogor/workspace/nastya/asr_itmo24/resources/lab4/3gram.arpa\n",
      "----5---10---15---20---25---30---35---40---45---50---55---60---65---70---75---80---85---90---95--100\n",
      "The ARPA file is missing <unk>.  Substituting log10 probability -100.\n",
      "****************************************************************************************************\n",
      "2 hyps. Best Hypothesis(score=618.8899567682955, time=197, words=['she', 'had'], state=(0, 36310, <kenlm.State object at 0x72e30a02f030>)). Mean score 619.61. Max 620.32: 100%|██████████| 198/198 [00:02<00:00, 74.12it/s]    \n"
     ]
    },
    {
     "name": "stdout",
     "output_type": "stream",
     "text": [
      "Found 2 hypotheses\n"
     ]
    },
    {
     "name": "stderr",
     "output_type": "stream",
     "text": [
      "Loading the LM will be faster if you build a binary file.\n",
      "Reading /home/chernogor/workspace/nastya/asr_itmo24/resources/lab4/3gram.arpa\n",
      "----5---10---15---20---25---30---35---40---45---50---55---60---65---70---75---80---85---90---95--100\n",
      "The ARPA file is missing <unk>.  Substituting log10 probability -100.\n",
      "****************************************************************************************************\n",
      "3 hyps. Best Hypothesis(score=-504.4067356303898, time=197, words=['she', 'had', 'used', 'dark', 'suit', 'in', 'greasy', 'wash', 'water', 'all'], state=(0, 18055, <kenlm.State object at 0x72e2c0153130>)). Mean score -504.40. Max -504.40: 100%|██████████| 198/198 [00:41<00:00,  4.79it/s]  \n"
     ]
    },
    {
     "name": "stdout",
     "output_type": "stream",
     "text": [
      "Found 3 hypotheses\n"
     ]
    },
    {
     "name": "stderr",
     "output_type": "stream",
     "text": [
      "Loading the LM will be faster if you build a binary file.\n",
      "Reading /home/chernogor/workspace/nastya/asr_itmo24/resources/lab4/3gram.arpa\n",
      "----5---10---15---20---25---30---35---40---45---50---55---60---65---70---75---80---85---90---95--100\n",
      "The ARPA file is missing <unk>.  Substituting log10 probability -100.\n",
      "****************************************************************************************************\n",
      "1 hyps. Best Hypothesis(score=712.4641150122513, time=197, words=[], state=(0, 28541, <kenlm.State object at 0x72e309d8ad70>)). Mean score 712.46. Max 712.46: 100%|██████████| 198/198 [00:00<00:00, 214.63it/s]  \n"
     ]
    },
    {
     "name": "stdout",
     "output_type": "stream",
     "text": [
      "Found 1 hypotheses\n"
     ]
    },
    {
     "name": "stderr",
     "output_type": "stream",
     "text": [
      "Loading the LM will be faster if you build a binary file.\n",
      "Reading /home/chernogor/workspace/nastya/asr_itmo24/resources/lab4/3gram.arpa\n",
      "----5---10---15---20---25---30---35---40---45---50---55---60---65---70---75---80---85---90---95--100\n",
      "The ARPA file is missing <unk>.  Substituting log10 probability -100.\n",
      "****************************************************************************************************\n",
      "2 hyps. Best Hypothesis(score=619.8899567682955, time=197, words=['she', 'had'], state=(0, 36310, <kenlm.State object at 0x72e2c31b30f0>)). Mean score 620.61. Max 621.32: 100%|██████████| 198/198 [00:02<00:00, 73.19it/s]    \n"
     ]
    },
    {
     "name": "stdout",
     "output_type": "stream",
     "text": [
      "Found 2 hypotheses\n"
     ]
    },
    {
     "name": "stderr",
     "output_type": "stream",
     "text": [
      "Loading the LM will be faster if you build a binary file.\n",
      "Reading /home/chernogor/workspace/nastya/asr_itmo24/resources/lab4/3gram.arpa\n",
      "----5---10---15---20---25---30---35---40---45---50---55---60---65---70---75---80---85---90---95--100\n",
      "The ARPA file is missing <unk>.  Substituting log10 probability -100.\n",
      "****************************************************************************************************\n",
      "3 hyps. Best Hypothesis(score=-499.4067356303898, time=197, words=['she', 'had', 'used', 'dark', 'suit', 'in', 'greasy', 'wash', 'water', 'all'], state=(0, 18055, <kenlm.State object at 0x72e2c06b7c30>)). Mean score -499.40. Max -499.40: 100%|██████████| 198/198 [00:37<00:00,  5.28it/s]   \n"
     ]
    },
    {
     "name": "stdout",
     "output_type": "stream",
     "text": [
      "Found 3 hypotheses\n"
     ]
    },
    {
     "name": "stderr",
     "output_type": "stream",
     "text": [
      "Loading the LM will be faster if you build a binary file.\n",
      "Reading /home/chernogor/workspace/nastya/asr_itmo24/resources/lab4/3gram.arpa\n",
      "----5---10---15---20---25---30---35---40---45---50---55---60---65---70---75---80---85---90---95--100\n",
      "The ARPA file is missing <unk>.  Substituting log10 probability -100.\n",
      "****************************************************************************************************\n",
      "1 hyps. Best Hypothesis(score=712.4641150122513, time=197, words=[], state=(0, 28541, <kenlm.State object at 0x72e309d8ad70>)). Mean score 712.46. Max 712.46: 100%|██████████| 198/198 [00:00<00:00, 216.30it/s]  \n",
      "Loading the LM will be faster if you build a binary file.\n",
      "Reading /home/chernogor/workspace/nastya/asr_itmo24/resources/lab4/3gram.arpa\n",
      "----5---10---15---20---25---30---35---40---45---50---55---60---65---70---75---80---85---90---95--100\n",
      "The ARPA file is missing <unk>.  Substituting log10 probability -100.\n",
      "****************************************************************************************************\n"
     ]
    },
    {
     "name": "stdout",
     "output_type": "stream",
     "text": [
      "Found 1 hypotheses\n"
     ]
    },
    {
     "name": "stderr",
     "output_type": "stream",
     "text": [
      "1 hyps. Best Hypothesis(score=677.2090014395727, time=197, words=[], state=(0, 28558, <kenlm.State object at 0x72e2c0ba99f0>)). Mean score 677.21. Max 677.21: 100%|██████████| 198/198 [00:01<00:00, 134.88it/s]  \n"
     ]
    },
    {
     "name": "stdout",
     "output_type": "stream",
     "text": [
      "Found 1 hypotheses\n"
     ]
    },
    {
     "name": "stderr",
     "output_type": "stream",
     "text": [
      "Loading the LM will be faster if you build a binary file.\n",
      "Reading /home/chernogor/workspace/nastya/asr_itmo24/resources/lab4/3gram.arpa\n",
      "----5---10---15---20---25---30---35---40---45---50---55---60---65---70---75---80---85---90---95--100\n",
      "The ARPA file is missing <unk>.  Substituting log10 probability -100.\n",
      "****************************************************************************************************\n",
      "4 hyps. Best Hypothesis(score=621.8899567682955, time=197, words=['she', 'had'], state=(0, 36310, <kenlm.State object at 0x72e3088fcf70>)). Mean score 623.54. Max 625.09: 100%|██████████| 198/198 [00:16<00:00, 12.02it/s]    \n",
      "Loading the LM will be faster if you build a binary file.\n",
      "Reading /home/chernogor/workspace/nastya/asr_itmo24/resources/lab4/3gram.arpa\n",
      "----5---10---15---20---25---30---35---40---45---50---55---60---65---70---75---80---85---90---95--100\n",
      "The ARPA file is missing <unk>.  Substituting log10 probability -100.\n",
      "****************************************************************************************************\n"
     ]
    },
    {
     "name": "stdout",
     "output_type": "stream",
     "text": [
      "Found 4 hypotheses\n"
     ]
    },
    {
     "name": "stderr",
     "output_type": "stream",
     "text": [
      "1 hyps. Best Hypothesis(score=724.0641150122512, time=197, words=[], state=(0, 28541, <kenlm.State object at 0x72e2ddc52eb0>)). Mean score 724.06. Max 724.06: 100%|██████████| 198/198 [00:01<00:00, 136.08it/s]  \n"
     ]
    },
    {
     "name": "stdout",
     "output_type": "stream",
     "text": [
      "Found 1 hypotheses\n"
     ]
    },
    {
     "name": "stderr",
     "output_type": "stream",
     "text": [
      "Loading the LM will be faster if you build a binary file.\n",
      "Reading /home/chernogor/workspace/nastya/asr_itmo24/resources/lab4/3gram.arpa\n",
      "----5---10---15---20---25---30---35---40---45---50---55---60---65---70---75---80---85---90---95--100\n",
      "The ARPA file is missing <unk>.  Substituting log10 probability -100.\n",
      "****************************************************************************************************\n",
      "2 hyps. Best Hypothesis(score=630.4899567682955, time=197, words=['she', 'had'], state=(0, 36310, <kenlm.State object at 0x72e2d4b1fcb0>)). Mean score 631.21. Max 631.92: 100%|██████████| 198/198 [00:02<00:00, 89.37it/s]   \n"
     ]
    },
    {
     "name": "stdout",
     "output_type": "stream",
     "text": [
      "Found 2 hypotheses\n"
     ]
    },
    {
     "name": "stderr",
     "output_type": "stream",
     "text": [
      "Loading the LM will be faster if you build a binary file.\n",
      "Reading /home/chernogor/workspace/nastya/asr_itmo24/resources/lab4/3gram.arpa\n",
      "----5---10---15---20---25---30---35---40---45---50---55---60---65---70---75---80---85---90---95--100\n",
      "The ARPA file is missing <unk>.  Substituting log10 probability -100.\n",
      "****************************************************************************************************\n",
      "3 hyps. Best Hypothesis(score=-492.0067356303894, time=197, words=['she', 'had', 'used', 'dark', 'suit', 'in', 'greasy', 'wash', 'water', 'all'], state=(0, 18055, <kenlm.State object at 0x72e2dddc0130>)). Mean score -492.00. Max -492.00: 100%|██████████| 198/198 [00:44<00:00,  4.48it/s]   \n"
     ]
    },
    {
     "name": "stdout",
     "output_type": "stream",
     "text": [
      "Found 3 hypotheses\n"
     ]
    },
    {
     "name": "stderr",
     "output_type": "stream",
     "text": [
      "Loading the LM will be faster if you build a binary file.\n",
      "Reading /home/chernogor/workspace/nastya/asr_itmo24/resources/lab4/3gram.arpa\n",
      "----5---10---15---20---25---30---35---40---45---50---55---60---65---70---75---80---85---90---95--100\n",
      "The ARPA file is missing <unk>.  Substituting log10 probability -100.\n",
      "****************************************************************************************************\n",
      "1 hyps. Best Hypothesis(score=724.0641150122512, time=197, words=[], state=(0, 28541, <kenlm.State object at 0x72e2ff86baf0>)). Mean score 724.06. Max 724.06: 100%|██████████| 198/198 [00:00<00:00, 231.37it/s]  \n"
     ]
    },
    {
     "name": "stdout",
     "output_type": "stream",
     "text": [
      "Found 1 hypotheses\n"
     ]
    },
    {
     "name": "stderr",
     "output_type": "stream",
     "text": [
      "Loading the LM will be faster if you build a binary file.\n",
      "Reading /home/chernogor/workspace/nastya/asr_itmo24/resources/lab4/3gram.arpa\n",
      "----5---10---15---20---25---30---35---40---45---50---55---60---65---70---75---80---85---90---95--100\n",
      "The ARPA file is missing <unk>.  Substituting log10 probability -100.\n",
      "****************************************************************************************************\n",
      "2 hyps. Best Hypothesis(score=631.4899567682955, time=197, words=['she', 'had'], state=(0, 36310, <kenlm.State object at 0x72e2d4896e30>)). Mean score 632.21. Max 632.92: 100%|██████████| 198/198 [00:02<00:00, 90.53it/s]   \n"
     ]
    },
    {
     "name": "stdout",
     "output_type": "stream",
     "text": [
      "Found 2 hypotheses\n"
     ]
    },
    {
     "name": "stderr",
     "output_type": "stream",
     "text": [
      "Loading the LM will be faster if you build a binary file.\n",
      "Reading /home/chernogor/workspace/nastya/asr_itmo24/resources/lab4/3gram.arpa\n",
      "----5---10---15---20---25---30---35---40---45---50---55---60---65---70---75---80---85---90---95--100\n",
      "The ARPA file is missing <unk>.  Substituting log10 probability -100.\n",
      "****************************************************************************************************\n",
      "3 hyps. Best Hypothesis(score=-487.00673563038924, time=197, words=['she', 'had', 'used', 'dark', 'suit', 'in', 'greasy', 'wash', 'water', 'all'], state=(0, 18055, <kenlm.State object at 0x72e308c0cef0>)). Mean score -487.00. Max -487.00: 100%|██████████| 198/198 [00:40<00:00,  4.90it/s]  \n"
     ]
    },
    {
     "name": "stdout",
     "output_type": "stream",
     "text": [
      "Found 3 hypotheses\n"
     ]
    },
    {
     "name": "stderr",
     "output_type": "stream",
     "text": [
      "Loading the LM will be faster if you build a binary file.\n",
      "Reading /home/chernogor/workspace/nastya/asr_itmo24/resources/lab4/3gram.arpa\n",
      "----5---10---15---20---25---30---35---40---45---50---55---60---65---70---75---80---85---90---95--100\n",
      "The ARPA file is missing <unk>.  Substituting log10 probability -100.\n",
      "****************************************************************************************************\n",
      "1 hyps. Best Hypothesis(score=724.0641150122512, time=197, words=[], state=(0, 28541, <kenlm.State object at 0x72e2b9683070>)). Mean score 724.06. Max 724.06: 100%|██████████| 198/198 [00:00<00:00, 221.68it/s]  \n",
      "Loading the LM will be faster if you build a binary file.\n",
      "Reading /home/chernogor/workspace/nastya/asr_itmo24/resources/lab4/3gram.arpa\n",
      "----5---10---15---20---25---30---35---40---45---50---55---60---65---70---75---80---85---90---95--100\n",
      "The ARPA file is missing <unk>.  Substituting log10 probability -100.\n",
      "****************************************************************************************************\n"
     ]
    },
    {
     "name": "stdout",
     "output_type": "stream",
     "text": [
      "Found 1 hypotheses\n"
     ]
    },
    {
     "name": "stderr",
     "output_type": "stream",
     "text": [
      "1 hyps. Best Hypothesis(score=688.8090014395729, time=197, words=[], state=(0, 28558, <kenlm.State object at 0x72e2ff92a670>)). Mean score 688.81. Max 688.81: 100%|██████████| 198/198 [00:01<00:00, 129.24it/s]  \n"
     ]
    },
    {
     "name": "stdout",
     "output_type": "stream",
     "text": [
      "Found 1 hypotheses\n"
     ]
    },
    {
     "name": "stderr",
     "output_type": "stream",
     "text": [
      "Loading the LM will be faster if you build a binary file.\n",
      "Reading /home/chernogor/workspace/nastya/asr_itmo24/resources/lab4/3gram.arpa\n",
      "----5---10---15---20---25---30---35---40---45---50---55---60---65---70---75---80---85---90---95--100\n",
      "The ARPA file is missing <unk>.  Substituting log10 probability -100.\n",
      "****************************************************************************************************\n",
      "4 hyps. Best Hypothesis(score=633.4899567682957, time=197, words=['she', 'had'], state=(0, 36310, <kenlm.State object at 0x72e2d1aa1530>)). Mean score 635.14. Max 636.69: 100%|██████████| 198/198 [00:18<00:00, 10.50it/s]    "
     ]
    },
    {
     "name": "stdout",
     "output_type": "stream",
     "text": [
      "Found 4 hypotheses\n"
     ]
    },
    {
     "name": "stderr",
     "output_type": "stream",
     "text": [
      "\n"
     ]
    }
   ],
   "source": [
    "for parameters in grid:\n",
    "    # задаем гиперпараметры\n",
    "    lmwt_factor, silence_penalty, insertion_penalty, beam_size = parameters\n",
    "    \n",
    "    # собираем систему распознавания\n",
    "    t_fst = create_t_wfst()\n",
    "    l_fst = create_Lwfst_from_file(stay_in_silence_penalty=silence_penalty, word_insertion_penalty=insertion_penalty)\n",
    "    lm = kenlmLikeWFST(kenlm.LanguageModel('resources/lab4/3gram.arpa'), lmwt_factor=lmwt_factor)\n",
    "    graph=OnTheFlyCompose([t_fst, l_fst, lm])\n",
    "    model = BeamSearcher(AM_PHONES, graph, beam_size=beam_size)\n",
    "    \n",
    "    # запускаем распознавание и подсчитываем время\n",
    "    start_time = time.time()\n",
    "    hyp = model.decode(example)\n",
    "    end_time = time.time() - start_time\n",
    "\n",
    "    # считаем WER\n",
    "    wer = jiwer.wer(example_ref, ' '.join(hyp.words))\n",
    "\n",
    "    df.loc[len(df)] = [lmwt_factor,\n",
    "                       silence_penalty,\n",
    "                       insertion_penalty,\n",
    "                       beam_size,\n",
    "                       wer,\n",
    "                       end_time\n",
    "                       ]\n",
    "    df.to_csv('asr_results_for_grid.csv', index=False)"
   ]
  },
  {
   "cell_type": "code",
   "execution_count": 52,
   "id": "3896a4e7",
   "metadata": {},
   "outputs": [
    {
     "data": {
      "text/html": [
       "<div>\n",
       "<style scoped>\n",
       "    .dataframe tbody tr th:only-of-type {\n",
       "        vertical-align: middle;\n",
       "    }\n",
       "\n",
       "    .dataframe tbody tr th {\n",
       "        vertical-align: top;\n",
       "    }\n",
       "\n",
       "    .dataframe thead th {\n",
       "        text-align: right;\n",
       "    }\n",
       "</style>\n",
       "<table border=\"1\" class=\"dataframe\">\n",
       "  <thead>\n",
       "    <tr style=\"text-align: right;\">\n",
       "      <th></th>\n",
       "      <th>lmwt_factor</th>\n",
       "      <th>stay_in_silence_penalty</th>\n",
       "      <th>word_insertion_penalty</th>\n",
       "      <th>beam</th>\n",
       "      <th>WER</th>\n",
       "      <th>time</th>\n",
       "    </tr>\n",
       "  </thead>\n",
       "  <tbody>\n",
       "    <tr>\n",
       "      <th>0</th>\n",
       "      <td>0.01</td>\n",
       "      <td>0.1</td>\n",
       "      <td>0.5</td>\n",
       "      <td>1.0</td>\n",
       "      <td>0.545455</td>\n",
       "      <td>11.604112</td>\n",
       "    </tr>\n",
       "    <tr>\n",
       "      <th>1</th>\n",
       "      <td>0.01</td>\n",
       "      <td>0.1</td>\n",
       "      <td>0.5</td>\n",
       "      <td>5.0</td>\n",
       "      <td>0.272727</td>\n",
       "      <td>43.363127</td>\n",
       "    </tr>\n",
       "    <tr>\n",
       "      <th>2</th>\n",
       "      <td>0.01</td>\n",
       "      <td>0.1</td>\n",
       "      <td>0.5</td>\n",
       "      <td>10.0</td>\n",
       "      <td>0.454545</td>\n",
       "      <td>384.204354</td>\n",
       "    </tr>\n",
       "    <tr>\n",
       "      <th>3</th>\n",
       "      <td>0.01</td>\n",
       "      <td>0.1</td>\n",
       "      <td>1.0</td>\n",
       "      <td>1.0</td>\n",
       "      <td>1.000000</td>\n",
       "      <td>1.129070</td>\n",
       "    </tr>\n",
       "    <tr>\n",
       "      <th>4</th>\n",
       "      <td>0.01</td>\n",
       "      <td>0.1</td>\n",
       "      <td>1.0</td>\n",
       "      <td>5.0</td>\n",
       "      <td>0.090909</td>\n",
       "      <td>33.943615</td>\n",
       "    </tr>\n",
       "    <tr>\n",
       "      <th>...</th>\n",
       "      <td>...</td>\n",
       "      <td>...</td>\n",
       "      <td>...</td>\n",
       "      <td>...</td>\n",
       "      <td>...</td>\n",
       "      <td>...</td>\n",
       "    </tr>\n",
       "    <tr>\n",
       "      <th>76</th>\n",
       "      <td>1.00</td>\n",
       "      <td>1.0</td>\n",
       "      <td>1.0</td>\n",
       "      <td>5.0</td>\n",
       "      <td>0.909091</td>\n",
       "      <td>2.190797</td>\n",
       "    </tr>\n",
       "    <tr>\n",
       "      <th>77</th>\n",
       "      <td>1.00</td>\n",
       "      <td>1.0</td>\n",
       "      <td>1.0</td>\n",
       "      <td>10.0</td>\n",
       "      <td>0.272727</td>\n",
       "      <td>40.426142</td>\n",
       "    </tr>\n",
       "    <tr>\n",
       "      <th>78</th>\n",
       "      <td>1.00</td>\n",
       "      <td>1.0</td>\n",
       "      <td>2.0</td>\n",
       "      <td>1.0</td>\n",
       "      <td>1.000000</td>\n",
       "      <td>0.896842</td>\n",
       "    </tr>\n",
       "    <tr>\n",
       "      <th>79</th>\n",
       "      <td>1.00</td>\n",
       "      <td>1.0</td>\n",
       "      <td>2.0</td>\n",
       "      <td>5.0</td>\n",
       "      <td>1.000000</td>\n",
       "      <td>1.536338</td>\n",
       "    </tr>\n",
       "    <tr>\n",
       "      <th>80</th>\n",
       "      <td>1.00</td>\n",
       "      <td>1.0</td>\n",
       "      <td>2.0</td>\n",
       "      <td>10.0</td>\n",
       "      <td>0.909091</td>\n",
       "      <td>18.856268</td>\n",
       "    </tr>\n",
       "  </tbody>\n",
       "</table>\n",
       "<p>81 rows × 6 columns</p>\n",
       "</div>"
      ],
      "text/plain": [
       "    lmwt_factor  stay_in_silence_penalty  word_insertion_penalty  beam  \\\n",
       "0          0.01                      0.1                     0.5   1.0   \n",
       "1          0.01                      0.1                     0.5   5.0   \n",
       "2          0.01                      0.1                     0.5  10.0   \n",
       "3          0.01                      0.1                     1.0   1.0   \n",
       "4          0.01                      0.1                     1.0   5.0   \n",
       "..          ...                      ...                     ...   ...   \n",
       "76         1.00                      1.0                     1.0   5.0   \n",
       "77         1.00                      1.0                     1.0  10.0   \n",
       "78         1.00                      1.0                     2.0   1.0   \n",
       "79         1.00                      1.0                     2.0   5.0   \n",
       "80         1.00                      1.0                     2.0  10.0   \n",
       "\n",
       "         WER        time  \n",
       "0   0.545455   11.604112  \n",
       "1   0.272727   43.363127  \n",
       "2   0.454545  384.204354  \n",
       "3   1.000000    1.129070  \n",
       "4   0.090909   33.943615  \n",
       "..       ...         ...  \n",
       "76  0.909091    2.190797  \n",
       "77  0.272727   40.426142  \n",
       "78  1.000000    0.896842  \n",
       "79  1.000000    1.536338  \n",
       "80  0.909091   18.856268  \n",
       "\n",
       "[81 rows x 6 columns]"
      ]
     },
     "execution_count": 52,
     "metadata": {},
     "output_type": "execute_result"
    }
   ],
   "source": [
    "df.to_csv('asr_results_for_grid.csv', index=False)\n",
    "df = pd.read_csv('asr_results_for_grid.csv')\n",
    "df"
   ]
  },
  {
   "cell_type": "code",
   "execution_count": 59,
   "id": "21729cec",
   "metadata": {},
   "outputs": [],
   "source": [
    "# считаем сколько раз встретилось каждое значение WER при каждом значении параметра\n",
    "c1 = df[['lmwt_factor', 'WER', 'time']].groupby(['lmwt_factor', 'WER']).count().reset_index()\n",
    "c2 = df[['stay_in_silence_penalty', 'WER', 'time']].groupby(['stay_in_silence_penalty', 'WER']).count().reset_index()\n",
    "c3 = df[['word_insertion_penalty', 'WER', 'time']].groupby(['word_insertion_penalty', 'WER']).count().reset_index()\n",
    "c4 = df[['beam', 'WER', 'time']].groupby(['beam', 'WER']).count().reset_index()\n"
   ]
  },
  {
   "cell_type": "code",
   "execution_count": 61,
   "id": "f426901d",
   "metadata": {},
   "outputs": [
    {
     "data": {
      "image/png": "[encoded data removed]",
      "text/plain": [
       "<Figure size 1200x1000 with 4 Axes>"
      ]
     },
     "metadata": {},
     "output_type": "display_data"
    }
   ],
   "source": [
    "# зависимость WER от значений параметров\n",
    "import pandas as pd\n",
    "import matplotlib.pyplot as plt \n",
    "import seaborn as sns\n",
    "\n",
    "df = pd.read_csv('asr_results_for_grid.csv')\n",
    "plt.figure(figsize=(12, 10))\n",
    "\n",
    "plt.subplot(2, 2, 1)\n",
    "plt.scatter(c1['lmwt_factor'], c1['WER'], s=c1['time']*10)\n",
    "plt.title('WER depencdence on lmwt_factor')\n",
    "plt.xlabel('lmwt_factor')\n",
    "plt.ylabel('WER')\n",
    "\n",
    "plt.subplot(2, 2, 2)\n",
    "plt.scatter(c2['stay_in_silence_penalty'], c2['WER'], s=c2['time']*10)\n",
    "plt.title('WER dependence on stay_in_silence_penalty')\n",
    "plt.xlabel('stay_in_silence_penalty')\n",
    "plt.ylabel('WER')\n",
    "\n",
    "plt.subplot(2, 2, 3)\n",
    "plt.scatter(c3['word_insertion_penalty'], c3['WER'], s=c3['time']*10)\n",
    "plt.title('WER dependence on word_insertion_penalty')\n",
    "plt.xlabel('word_insertion_penalty')\n",
    "plt.ylabel('WER')\n",
    "\n",
    "plt.subplot(2, 2, 4)\n",
    "plt.scatter(c4['beam'], c4['WER'], s=c4['time']*10)\n",
    "plt.title('WER dependence on beam')\n",
    "plt.xlabel('beam')\n",
    "plt.ylabel('WER')\n",
    "\n",
    "plt.show()"
   ]
  },
  {
   "cell_type": "code",
   "execution_count": 66,
   "id": "0e900db4",
   "metadata": {},
   "outputs": [
    {
     "data": {
      "image/png": "[encoded data removed]",
      "text/plain": [
       "<Figure size 1200x1000 with 4 Axes>"
      ]
     },
     "metadata": {},
     "output_type": "display_data"
    }
   ],
   "source": [
    "# зависимость time от значений параметров\n",
    "import pandas as pd\n",
    "import matplotlib.pyplot as plt \n",
    "import seaborn as sns\n",
    "\n",
    "df = pd.read_csv('asr_results_for_grid.csv')\n",
    "plt.figure(figsize=(12, 10))\n",
    "\n",
    "plt.subplot(2, 2, 1)\n",
    "plt.scatter(df['lmwt_factor'], df['time'])\n",
    "plt.title('Time depencdence on lmwt_factor')\n",
    "plt.xlabel('lmwt_factor')\n",
    "plt.ylabel('time')\n",
    "\n",
    "plt.subplot(2, 2, 2)\n",
    "plt.scatter(df['stay_in_silence_penalty'], df['time'])\n",
    "plt.title('Time dependence on stay_in_silence_penalty')\n",
    "plt.xlabel('stay_in_silence_penalty')\n",
    "plt.ylabel('time')\n",
    "\n",
    "plt.subplot(2, 2, 3)\n",
    "plt.scatter(df['word_insertion_penalty'], df['time'])\n",
    "plt.title('Time dependence on word_insertion_penalty')\n",
    "plt.xlabel('word_insertion_penalty')\n",
    "plt.ylabel('time')\n",
    "\n",
    "plt.subplot(2, 2, 4)\n",
    "plt.scatter(df['beam'], df['WER'])\n",
    "plt.title('Time dependence on beam')\n",
    "plt.xlabel('beam')\n",
    "plt.ylabel('time')\n",
    "\n",
    "plt.show()"
   ]
  },
  {
   "cell_type": "code",
   "execution_count": 71,
   "id": "fa3fcba8",
   "metadata": {},
   "outputs": [
    {
     "data": {
      "text/plain": [
       "lmwt_factor                 0.100000\n",
       "stay_in_silence_penalty     0.600000\n",
       "word_insertion_penalty      2.000000\n",
       "beam                        5.000000\n",
       "WER                         0.090909\n",
       "time                       17.144319\n",
       "Name: 43, dtype: float64"
      ]
     },
     "execution_count": 71,
     "metadata": {},
     "output_type": "execute_result"
    }
   ],
   "source": [
    "# Лучшие значения параметров \n",
    "sorted_df = df.sort_values(by=['WER', 'time'])\n",
    "params = sorted_df.iloc[1]\n",
    "params"
   ]
  },
  {
   "cell_type": "markdown",
   "metadata": {},
   "source": [
    "# Дополнительное задание (2 балла)\n",
    "Декодируйте всю коллекцию am_nlogprobs с подобраными ранее параметрами и посчитайте WER на этой выборке\n"
   ]
  },
  {
   "cell_type": "code",
   "execution_count": 102,
   "metadata": {},
   "outputs": [
    {
     "name": "stderr",
     "output_type": "stream",
     "text": [
      "Loading the LM will be faster if you build a binary file.\n",
      "Reading /home/chernogor/workspace/nastya/asr_itmo24/resources/lab4/3gram.arpa\n",
      "----5---10---15---20---25---30---35---40---45---50---55---60---65---70---75---80---85---90---95--100\n",
      "The ARPA file is missing <unk>.  Substituting log10 probability -100.\n",
      "****************************************************************************************************\n",
      "1 hyps. Best Hypothesis(score=-593.6191963788784, time=197, words=['she', 'had', 'your', 'dark', 'suit', 'in', 'greasy', 'wash', 'water', 'all', 'year'], state=(0, 0, <kenlm.State object at 0x762cc545c8f0>)). Mean score -593.62. Max -593.62: 100%|██████████| 198/198 [00:19<00:00, 10.10it/s]\n",
      "  2%|▎         | 1/40 [00:19<12:44, 19.61s/it]"
     ]
    },
    {
     "name": "stdout",
     "output_type": "stream",
     "text": [
      "Found 1 hypotheses\n"
     ]
    },
    {
     "name": "stderr",
     "output_type": "stream",
     "text": [
      "2 hyps. Best Hypothesis(score=-329.94546579679064, time=180, words=['own', 'ask', 'meeting', 'care', 'reinforce', 'guy', 'cat'], state=(0, 0, <kenlm.State object at 0x762ca4e204f0>)). Mean score -329.33. Max -328.72: 100%|██████████| 181/181 [00:13<00:00, 13.04it/s]\n",
      "  5%|▌         | 2/40 [00:33<10:17, 16.25s/it]"
     ]
    },
    {
     "name": "stdout",
     "output_type": "stream",
     "text": [
      "Found 2 hypotheses\n"
     ]
    },
    {
     "name": "stderr",
     "output_type": "stream",
     "text": [
      "1 hyps. Best Hypothesis(score=-705.7206153802963, time=247, words=['his', 'calf', 'tin', 'was', 'thin', 'none', 'haggard', 'end', 'is', 'beautiful', 'boots', 'warningly', 'chastity'], state=(0, 0, <kenlm.State object at 0x762ca59317f0>)). Mean score -705.72. Max -705.72: 100%|██████████| 248/248 [00:21<00:00, 11.29it/s]\n",
      "  8%|▊         | 3/40 [00:55<11:37, 18.86s/it]"
     ]
    },
    {
     "name": "stdout",
     "output_type": "stream",
     "text": [
      "Found 1 hypotheses\n"
     ]
    },
    {
     "name": "stderr",
     "output_type": "stream",
     "text": [
      "1 hyps. Best Hypothesis(score=-622.2035357138501, time=174, words=['the', 'reasons', 'fullness', 'tie', \"i've\", 'seemed', 'foolish', 'now'], state=(0, 0, <kenlm.State object at 0x762cc4ed9fb0>)). Mean score -622.20. Max -622.20: 100%|██████████| 175/175 [00:19<00:00,  9.15it/s]\n",
      " 10%|█         | 4/40 [01:14<11:22, 18.97s/it]"
     ]
    },
    {
     "name": "stdout",
     "output_type": "stream",
     "text": [
      "Found 1 hypotheses\n"
     ]
    },
    {
     "name": "stderr",
     "output_type": "stream",
     "text": [
      "1 hyps. Best Hypothesis(score=-580.3066236351415, time=186, words=['production', 'may', 'fall', 'far', 'below', 'expectations'], state=(0, 0, <kenlm.State object at 0x762c97f03cb0>)). Mean score -580.31. Max -580.31: 100%|██████████| 187/187 [00:11<00:00, 15.88it/s]\n",
      " 12%|█▎        | 5/40 [01:26<09:33, 16.38s/it]"
     ]
    },
    {
     "name": "stdout",
     "output_type": "stream",
     "text": [
      "Found 1 hypotheses\n"
     ]
    },
    {
     "name": "stderr",
     "output_type": "stream",
     "text": [
      "1 hyps. Best Hypothesis(score=-471.3329617360277, time=164, words=['pizzerias', 'are', 'convenient', 'fur', 'a', 'quick', 'lunch'], state=(0, 0, <kenlm.State object at 0x762ca23c2bb0>)). Mean score -471.33. Max -471.33: 100%|██████████| 165/165 [00:16<00:00, 10.07it/s]\n",
      " 15%|█▌        | 6/40 [01:42<09:16, 16.38s/it]"
     ]
    },
    {
     "name": "stdout",
     "output_type": "stream",
     "text": [
      "Found 1 hypotheses\n"
     ]
    },
    {
     "name": "stderr",
     "output_type": "stream",
     "text": [
      "3 hyps. Best Hypothesis(score=-196.580702650814, time=153, words=['put', 'the', 'butcher', 'bought', 'table', 'a'], state=(0, 20851, <kenlm.State object at 0x762ca50e8970>)). Mean score -193.88. Max -191.61: 100%|██████████| 154/154 [00:14<00:00, 10.77it/s]  \n",
      " 18%|█▊        | 7/40 [01:57<08:38, 15.70s/it]"
     ]
    },
    {
     "name": "stdout",
     "output_type": "stream",
     "text": [
      "Found 3 hypotheses\n"
     ]
    },
    {
     "name": "stderr",
     "output_type": "stream",
     "text": [
      "1 hyps. Best Hypothesis(score=-566.6963543078914, time=175, words=['drop', 'five', 'forms', 'in', 'the', 'box', 'before', 'you', 'go', 'out'], state=(0, 0, <kenlm.State object at 0x762ca50fcaf0>)). Mean score -566.70. Max -566.70: 100%|██████████| 176/176 [00:20<00:00,  8.60it/s]\n",
      " 20%|██        | 8/40 [02:17<09:10, 17.22s/it]"
     ]
    },
    {
     "name": "stdout",
     "output_type": "stream",
     "text": [
      "Found 1 hypotheses\n"
     ]
    },
    {
     "name": "stderr",
     "output_type": "stream",
     "text": [
      "14 hyps. Best Hypothesis(score=-283.18801920589317, time=166, words=['her', 'wardrobe', 'concessionaire', 'only', 'skirts', 'unbound'], state=(0, 31623, <kenlm.State object at 0x762cac2f96f0>)). Mean score -280.21. Max -278.19: 100%|██████████| 167/167 [00:29<00:00,  5.67it/s]\n",
      " 22%|██▎       | 9/40 [02:47<10:52, 21.05s/it]"
     ]
    },
    {
     "name": "stdout",
     "output_type": "stream",
     "text": [
      "Found 14 hypotheses\n"
     ]
    },
    {
     "name": "stderr",
     "output_type": "stream",
     "text": [
      "515 hyps. Best Hypothesis(score=-120.87472684011912, time=121, words=['elderly', 'people', 'are', 'often', 'negotiations'], state=(0, 7948, <kenlm.State object at 0x762ca50bda70>)). Mean score -119.43. Max -116.13: 100%|██████████| 122/122 [00:15<00:00,  7.68it/s]\n",
      " 25%|██▌       | 10/40 [03:02<09:43, 19.46s/it]"
     ]
    },
    {
     "name": "stdout",
     "output_type": "stream",
     "text": [
      "Found 515 hypotheses\n"
     ]
    },
    {
     "name": "stderr",
     "output_type": "stream",
     "text": [
      "1 hyps. Best Hypothesis(score=-763.4040708623778, time=262, words=['she', 'head', 'your', 'arc', 'suit', 'in', 'greasy', 'wash', 'ward', 'a', 'all', 'year'], state=(0, 0, <kenlm.State object at 0x762ca50a0ef0>)). Mean score -763.40. Max -763.40: 100%|██████████| 263/263 [00:30<00:00,  8.64it/s]\n",
      " 28%|██▊       | 11/40 [03:33<11:01, 22.83s/it]"
     ]
    },
    {
     "name": "stdout",
     "output_type": "stream",
     "text": [
      "Found 1 hypotheses\n"
     ]
    },
    {
     "name": "stderr",
     "output_type": "stream",
     "text": [
      "2 hyps. Best Hypothesis(score=-615.8481934231547, time=206, words=[\"don't\", 'ask', 'meeting', 'carry', 'enjoy', 'oily', 'rag', 'lie', 'that'], state=(0, 0, <kenlm.State object at 0x762cbb893370>)). Mean score -615.79. Max -615.73: 100%|██████████| 207/207 [00:21<00:00,  9.74it/s]\n",
      " 30%|███       | 12/40 [03:54<10:25, 22.35s/it]"
     ]
    },
    {
     "name": "stdout",
     "output_type": "stream",
     "text": [
      "Found 2 hypotheses\n"
     ]
    },
    {
     "name": "stderr",
     "output_type": "stream",
     "text": [
      "1 hyps. Best Hypothesis(score=-672.9435806168367, time=219, words=['husky', 'young', 'men', 'he', 'said', 'with', 'thaw', 'distaste'], state=(0, 0, <kenlm.State object at 0x762cc492c3b0>)). Mean score -672.94. Max -672.94: 100%|██████████| 220/220 [00:19<00:00, 11.30it/s]\n",
      " 32%|███▎      | 13/40 [04:14<09:39, 21.48s/it]"
     ]
    },
    {
     "name": "stdout",
     "output_type": "stream",
     "text": [
      "Found 1 hypotheses\n"
     ]
    },
    {
     "name": "stderr",
     "output_type": "stream",
     "text": [
      "267 hyps. Best Hypothesis(score=-488.1748300089738, time=228, words=['hum', 'how', 'unhurried', \"they've\", 'lush', 'divorce', 'see', 'hen', 'last'], state=(0, 0, <kenlm.State object at 0x762cc5233db0>)). Mean score -484.27. Max -484.25: 100%|██████████| 229/229 [00:31<00:00,  7.26it/s]\n",
      " 35%|███▌      | 14/40 [04:45<10:37, 24.52s/it]"
     ]
    },
    {
     "name": "stdout",
     "output_type": "stream",
     "text": [
      "Found 1 hypotheses\n"
     ]
    },
    {
     "name": "stderr",
     "output_type": "stream",
     "text": [
      "2 hyps. Best Hypothesis(score=-810.5337472804041, time=370, words=['fuss', 'therapy', 'bullet', 'fish', 'a', 'news', 'see', 'is', 'achieved', 'gathering', 'expense', 'of', 'actual', \"experiment's\"], state=(0, 0, <kenlm.State object at 0x762cac397e70>)). Mean score -810.53. Max -810.53: 100%|██████████| 371/371 [00:47<00:00,  7.85it/s]\n",
      " 38%|███▊      | 15/40 [05:32<13:04, 31.38s/it]"
     ]
    },
    {
     "name": "stdout",
     "output_type": "stream",
     "text": [
      "Found 2 hypotheses\n"
     ]
    },
    {
     "name": "stderr",
     "output_type": "stream",
     "text": [
      "1 hyps. Best Hypothesis(score=-408.07664941567197, time=135, words=['objects', 'made', 'of', 'pewter', 'of', 'bugle', 'a', 'fall'], state=(0, 0, <kenlm.State object at 0x762cac40efb0>)). Mean score -408.08. Max -408.08: 100%|██████████| 136/136 [00:13<00:00,  9.84it/s]\n",
      " 40%|████      | 16/40 [05:46<10:26, 26.10s/it]"
     ]
    },
    {
     "name": "stdout",
     "output_type": "stream",
     "text": [
      "Found 1 hypotheses\n"
     ]
    },
    {
     "name": "stderr",
     "output_type": "stream",
     "text": [
      "2 hyps. Best Hypothesis(score=-667.096627077637, time=220, words=['the', 'morning', 'blew', 'a', 'gun', 'this', 'piled', 'a', 'web', 'glistening', 'knowed', 'in', 'the', 'sun'], state=(0, 0, <kenlm.State object at 0x762ca5c569b0>)). Mean score -667.07. Max -667.04: 100%|██████████| 221/221 [00:53<00:00,  4.16it/s]\n",
      " 42%|████▎     | 17/40 [06:39<13:07, 34.24s/it]"
     ]
    },
    {
     "name": "stdout",
     "output_type": "stream",
     "text": [
      "Found 2 hypotheses\n"
     ]
    },
    {
     "name": "stderr",
     "output_type": "stream",
     "text": [
      "4 hyps. Best Hypothesis(score=-687.3691111899539, time=209, words=['cheap', 'stockings', 'run', 'the', 'first', 'time', 'them', 'on', 'do'], state=(0, 0, <kenlm.State object at 0x762ca5cba430>)). Mean score -686.94. Max -686.38: 100%|██████████| 210/210 [00:28<00:00,  7.30it/s]\n",
      " 45%|████▌     | 18/40 [07:08<11:57, 32.59s/it]"
     ]
    },
    {
     "name": "stdout",
     "output_type": "stream",
     "text": [
      "Found 4 hypotheses\n"
     ]
    },
    {
     "name": "stderr",
     "output_type": "stream",
     "text": [
      "1 hyps. Best Hypothesis(score=-643.7631175976733, time=200, words=[\"don't\", 'do', 'chop', 'leisure', 'early', 'dish', 'is'], state=(0, 0, <kenlm.State object at 0x762ca5bc8db0>)). Mean score -643.76. Max -643.76: 100%|██████████| 201/201 [00:14<00:00, 14.08it/s]\n",
      " 48%|████▊     | 19/40 [07:23<09:29, 27.10s/it]"
     ]
    },
    {
     "name": "stdout",
     "output_type": "stream",
     "text": [
      "Found 1 hypotheses\n"
     ]
    },
    {
     "name": "stderr",
     "output_type": "stream",
     "text": [
      "1 hyps. Best Hypothesis(score=-595.0764187883722, time=191, words=['cow', 'see', 'a', 'makes', 'bones', 'entity', 'thought', 'wrong'], state=(0, 0, <kenlm.State object at 0x762ca5bb1670>)). Mean score -595.08. Max -595.08: 100%|██████████| 192/192 [00:34<00:00,  5.62it/s]\n",
      " 50%|█████     | 20/40 [07:57<09:44, 29.22s/it]"
     ]
    },
    {
     "name": "stdout",
     "output_type": "stream",
     "text": [
      "Found 1 hypotheses\n"
     ]
    },
    {
     "name": "stderr",
     "output_type": "stream",
     "text": [
      "1 hyps. Best Hypothesis(score=-517.3158141209051, time=188, words=['she', 'had', 'derived', 'arc', 'suit', 'in', 'greasy', 'wash', 'water', 'all', 'year'], state=(0, 0, <kenlm.State object at 0x762ca5b93c70>)). Mean score -517.32. Max -517.32: 100%|██████████| 189/189 [00:18<00:00, 10.29it/s]\n",
      " 52%|█████▎    | 21/40 [08:15<08:13, 25.97s/it]"
     ]
    },
    {
     "name": "stdout",
     "output_type": "stream",
     "text": [
      "Found 1 hypotheses\n"
     ]
    },
    {
     "name": "stderr",
     "output_type": "stream",
     "text": [
      "1 hyps. Best Hypothesis(score=-223.1908464203949, time=146, words=[\"don't\", 'ask', 'meeting', 'kerosene', 'angular', 'cat'], state=(0, 0, <kenlm.State object at 0x762ca5b138b0>)). Mean score -223.19. Max -223.19: 100%|██████████| 147/147 [00:09<00:00, 15.99it/s]\n",
      " 55%|█████▌    | 22/40 [08:24<06:16, 20.94s/it]"
     ]
    },
    {
     "name": "stdout",
     "output_type": "stream",
     "text": [
      "Found 1 hypotheses\n"
     ]
    },
    {
     "name": "stderr",
     "output_type": "stream",
     "text": [
      "1 hyps. Best Hypothesis(score=-438.53423583199225, time=274, words=['in', 'wage', 'negotiations', 'these', 'knowed', 'establish', 'agony', 'zealous', 'unit', 'assistant'], state=(0, 0, <kenlm.State object at 0x762ca5b0c6b0>)). Mean score -438.53. Max -438.53: 100%|██████████| 275/275 [00:12<00:00, 22.42it/s]\n",
      " 57%|█████▊    | 23/40 [08:37<05:11, 18.34s/it]"
     ]
    },
    {
     "name": "stdout",
     "output_type": "stream",
     "text": [
      "Found 1 hypotheses\n"
     ]
    },
    {
     "name": "stderr",
     "output_type": "stream",
     "text": [
      "267 hyps. Best Hypothesis(score=-520.1422152297441, time=168, words=['heave', 'on', 'those', 'ropes', 'the', \"boat's\", 'come', 'unstuck'], state=(0, 0, <kenlm.State object at 0x762ca4d31270>)). Mean score -515.96. Max -515.95: 100%|██████████| 169/169 [00:30<00:00,  5.57it/s]\n",
      " 60%|██████    | 24/40 [09:07<05:51, 21.94s/it]"
     ]
    },
    {
     "name": "stdout",
     "output_type": "stream",
     "text": [
      "Found 1 hypotheses\n"
     ]
    },
    {
     "name": "stderr",
     "output_type": "stream",
     "text": [
      "1 hyps. Best Hypothesis(score=-626.2266007109777, time=208, words=['materials', 'surrounded', 'my', 'lincoln', 'lay', 'red', 'wide', 'tore', 'buff'], state=(0, 0, <kenlm.State object at 0x762ca4c4e070>)). Mean score -626.23. Max -626.23: 100%|██████████| 209/209 [00:26<00:00,  7.91it/s]\n",
      " 62%|██████▎   | 25/40 [09:33<05:49, 23.29s/it]"
     ]
    },
    {
     "name": "stdout",
     "output_type": "stream",
     "text": [
      "Found 1 hypotheses\n"
     ]
    },
    {
     "name": "stderr",
     "output_type": "stream",
     "text": [
      "1 hyps. Best Hypothesis(score=-388.3327054736631, time=144, words=['artificial', 'intelligence', 'society', 'real'], state=(0, 0, <kenlm.State object at 0x762ca4ca0270>)). Mean score -388.33. Max -388.33: 100%|██████████| 145/145 [00:18<00:00,  7.72it/s] \n",
      " 65%|██████▌   | 26/40 [09:52<05:07, 21.94s/it]"
     ]
    },
    {
     "name": "stdout",
     "output_type": "stream",
     "text": [
      "Found 1 hypotheses\n"
     ]
    },
    {
     "name": "stderr",
     "output_type": "stream",
     "text": [
      "5 hyps. Best Hypothesis(score=-336.45772798580015, time=108, words=['a', 'small', 'boy', 'pulled', 'warm', 'on', 'hook', 'to'], state=(0, 0, <kenlm.State object at 0x762ca2812ef0>)). Mean score -335.94. Max -335.26: 100%|██████████| 109/109 [00:17<00:00,  6.29it/s]\n",
      " 68%|██████▊   | 27/40 [10:09<04:27, 20.56s/it]"
     ]
    },
    {
     "name": "stdout",
     "output_type": "stream",
     "text": [
      "Found 5 hypotheses\n"
     ]
    },
    {
     "name": "stderr",
     "output_type": "stream",
     "text": [
      "2 hyps. Best Hypothesis(score=-430.1137200892192, time=123, words=['a', 'chosen', 'few', 'wool', 'be', 'come', 'generals'], state=(0, 0, <kenlm.State object at 0x762ca4cfe3f0>)). Mean score -430.08. Max -430.04: 100%|██████████| 124/124 [00:18<00:00,  6.57it/s]\n",
      " 70%|███████   | 28/40 [10:28<04:00, 20.06s/it]"
     ]
    },
    {
     "name": "stdout",
     "output_type": "stream",
     "text": [
      "Found 2 hypotheses\n"
     ]
    },
    {
     "name": "stderr",
     "output_type": "stream",
     "text": [
      "1 hyps. Best Hypothesis(score=-493.0851240705969, time=174, words=['only', 'the', 'most', 'accomplish', 'are', 'this', 'obtain', 'pop', 'ya', 'leather', 'ease'], state=(0, 0, <kenlm.State object at 0x762ca28be170>)). Mean score -493.09. Max -493.09: 100%|██████████| 175/175 [00:30<00:00,  5.74it/s]\n",
      " 72%|███████▎  | 29/40 [10:59<04:15, 23.19s/it]"
     ]
    },
    {
     "name": "stdout",
     "output_type": "stream",
     "text": [
      "Found 1 hypotheses\n"
     ]
    },
    {
     "name": "stderr",
     "output_type": "stream",
     "text": [
      "1 hyps. Best Hypothesis(score=-351.51562213746826, time=189, words=['the', 'fish', 'began', 'topography', 'together', 'surface', 'of', 'the', 'small', 'wake'], state=(0, 0, <kenlm.State object at 0x762ca4c743b0>)). Mean score -351.52. Max -351.52: 100%|██████████| 190/190 [00:22<00:00,  8.56it/s]\n",
      " 75%|███████▌  | 30/40 [11:21<03:49, 22.90s/it]"
     ]
    },
    {
     "name": "stdout",
     "output_type": "stream",
     "text": [
      "Found 1 hypotheses\n"
     ]
    },
    {
     "name": "stderr",
     "output_type": "stream",
     "text": [
      "1 hyps. Best Hypothesis(score=-392.30608101347786, time=185, words=['she', 'head', 'your', 'dark', 'suit', 'together', 'wash', 'water', 'all', 'year'], state=(0, 0, <kenlm.State object at 0x762ca2842c30>)). Mean score -392.31. Max -392.31: 100%|██████████| 186/186 [00:17<00:00, 10.93it/s]\n",
      " 78%|███████▊  | 31/40 [11:38<03:10, 21.14s/it]"
     ]
    },
    {
     "name": "stdout",
     "output_type": "stream",
     "text": [
      "Found 1 hypotheses\n"
     ]
    },
    {
     "name": "stderr",
     "output_type": "stream",
     "text": [
      "329 hyps. Best Hypothesis(score=-83.98691899967774, time=171, words=[\"don't\", 'ask', 'meeting', 'kerosene', 'agricultural'], state=(0, 31869, <kenlm.State object at 0x762ca27b29b0>)). Mean score -83.30. Max -79.24: 100%|██████████| 172/172 [00:08<00:00, 20.22it/s]\n",
      " 80%|████████  | 32/40 [11:47<02:18, 17.35s/it]"
     ]
    },
    {
     "name": "stdout",
     "output_type": "stream",
     "text": [
      "Found 329 hypotheses\n"
     ]
    },
    {
     "name": "stderr",
     "output_type": "stream",
     "text": [
      "1 hyps. Best Hypothesis(score=-474.11014985560564, time=171, words=['dances', 'alternated', 'with', 'thump', 'or', 'spoken', 'verses'], state=(0, 0, <kenlm.State object at 0x762ca2757cf0>)). Mean score -474.11. Max -474.11: 100%|██████████| 172/172 [00:27<00:00,  6.19it/s]\n",
      " 82%|████████▎ | 33/40 [12:14<02:23, 20.49s/it]"
     ]
    },
    {
     "name": "stdout",
     "output_type": "stream",
     "text": [
      "Found 1 hypotheses\n"
     ]
    },
    {
     "name": "stderr",
     "output_type": "stream",
     "text": [
      "1 hyps. Best Hypothesis(score=-440.5445512019705, time=145, words=['wife', 'author', 'ran', 'him', 'off', 'year', 'sixty', 'years', 'ago'], state=(0, 0, <kenlm.State object at 0x762ca26705b0>)). Mean score -440.54. Max -440.54: 100%|██████████| 146/146 [00:37<00:00,  3.89it/s] \n",
      " 85%|████████▌ | 34/40 [12:52<02:33, 25.61s/it]"
     ]
    },
    {
     "name": "stdout",
     "output_type": "stream",
     "text": [
      "Found 1 hypotheses\n"
     ]
    },
    {
     "name": "stderr",
     "output_type": "stream",
     "text": [
      "267 hyps. Best Hypothesis(score=-749.5718889509678, time=303, words=['here', 'he', 'is', 'quite', 'persuasively', 'even', 'verses', 'modified', 'mean', 'essential', 'slyness'], state=(0, 0, <kenlm.State object at 0x762ca27395f0>)). Mean score -744.75. Max -744.73: 100%|██████████| 304/304 [00:30<00:00,  9.97it/s]\n",
      " 88%|████████▊ | 35/40 [13:23<02:15, 27.09s/it]"
     ]
    },
    {
     "name": "stdout",
     "output_type": "stream",
     "text": [
      "Found 1 hypotheses\n"
     ]
    },
    {
     "name": "stderr",
     "output_type": "stream",
     "text": [
      "28 hyps. Best Hypothesis(score=-428.9928779606144, time=144, words=['the', \"cat's\", 'meow', 'always', 'hurts', 'my', 'use'], state=(0, 0, <kenlm.State object at 0x762ca25a3130>)). Mean score -424.87. Max -424.59: 100%|██████████| 145/145 [00:33<00:00,  4.29it/s]\n",
      " 90%|█████████ | 36/40 [13:56<01:56, 29.12s/it]"
     ]
    },
    {
     "name": "stdout",
     "output_type": "stream",
     "text": [
      "Found 2 hypotheses\n"
     ]
    },
    {
     "name": "stderr",
     "output_type": "stream",
     "text": [
      "1 hyps. Best Hypothesis(score=-478.9902217639668, time=194, words=['cliff', 'was', 'soothed', 'by', 'the', 'look', 'sherbet', 'snips', \"i've\", 'job'], state=(0, 0, <kenlm.State object at 0x762ca250cb30>)). Mean score -478.99. Max -478.99: 100%|██████████| 195/195 [00:27<00:00,  7.12it/s]\n",
      " 92%|█████████▎| 37/40 [14:24<01:25, 28.61s/it]"
     ]
    },
    {
     "name": "stdout",
     "output_type": "stream",
     "text": [
      "Found 1 hypotheses\n"
     ]
    },
    {
     "name": "stderr",
     "output_type": "stream",
     "text": [
      "1 hyps. Best Hypothesis(score=-675.8804401977246, time=288, words=['each', 'untimely', 'think', 'come', 'wash', 'psychopath', 'sighing', 'with', 'thimble', 'age', 'cow', 'nevada', 'heating', 'zig-zagged', \"'em\", 'part'], state=(0, 0, <kenlm.State object at 0x762ca24de370>)). Mean score -675.88. Max -675.88: 100%|██████████| 289/289 [00:36<00:00,  7.83it/s]\n",
      " 95%|█████████▌| 38/40 [15:01<01:02, 31.11s/it]"
     ]
    },
    {
     "name": "stdout",
     "output_type": "stream",
     "text": [
      "Found 1 hypotheses\n"
     ]
    },
    {
     "name": "stderr",
     "output_type": "stream",
     "text": [
      "1 hyps. Best Hypothesis(score=-496.1795561469332, time=149, words=['chain', 'may', 'earn', 'more', 'money', 'by', 'working', 'the', 'hard'], state=(0, 0, <kenlm.State object at 0x762c97cd8ab0>)). Mean score -496.18. Max -496.18: 100%|██████████| 150/150 [00:21<00:00,  7.08it/s]\n",
      " 98%|█████████▊| 39/40 [15:22<00:28, 28.13s/it]"
     ]
    },
    {
     "name": "stdout",
     "output_type": "stream",
     "text": [
      "Found 1 hypotheses\n"
     ]
    },
    {
     "name": "stderr",
     "output_type": "stream",
     "text": [
      "1 hyps. Best Hypothesis(score=-474.80012677082044, time=159, words=['youngsters', 'love', 'common', 'candy', 'eggs', 'treats'], state=(0, 0, <kenlm.State object at 0x762ca2654cb0>)). Mean score -474.80. Max -474.80: 100%|██████████| 160/160 [00:21<00:00,  7.51it/s]\n",
      "100%|██████████| 40/40 [15:43<00:00, 23.59s/it]"
     ]
    },
    {
     "name": "stdout",
     "output_type": "stream",
     "text": [
      "Found 1 hypotheses\n"
     ]
    },
    {
     "name": "stderr",
     "output_type": "stream",
     "text": [
      "\n"
     ]
    }
   ],
   "source": [
    "# Заранее подготовленные negative log probability от модели из работы №3\n",
    "with ReadHelper('ark:resources/lab4/test_am_nlogprobs.ark') as am_nlogprob_reader:\n",
    "    am_nlogprobs = {uri: am_logprob  for uri, am_logprob in am_nlogprob_reader}\n",
    "\n",
    "# задаем гиперпараметры\n",
    "lmwt_factor = params['lmwt_factor']\n",
    "stay_in_silence_penalty = params['stay_in_silence_penalty']\n",
    "word_insertion_penalty = params['word_insertion_penalty']\n",
    "beam_size = params['beam']\n",
    "  \n",
    "# собираем систему распознавания\n",
    "t_fst = create_t_wfst()\n",
    "l_fst = create_Lwfst_from_file(stay_in_silence_penalty=stay_in_silence_penalty, word_insertion_penalty=word_insertion_penalty)\n",
    "lm = kenlmLikeWFST(kenlm.LanguageModel('resources/lab4/3gram.arpa'), lmwt_factor=lmwt_factor)\n",
    "graph=OnTheFlyCompose([t_fst, l_fst, lm])\n",
    "model = BeamSearcher(AM_PHONES, graph, beam_size=beam_size)\n",
    "\n",
    "res_df = pd.DataFrame(columns=['uri', 'ref', 'hyp', 'wer'])\n",
    "for uri in tqdm(am_nlogprobs.keys()):\n",
    "    with open(uri+'.TXT') as f:\n",
    "        ref = ' '.join(f.read().replace('.', ' ').split()[2:])\n",
    "    hyp = model.decode(am_nlogprobs[uri])\n",
    "    wer = jiwer.wer(ref, ' '.join(hyp.words))\n",
    "    res_df.loc[len(res_df)] = [uri, ref, ' '.join(hyp.words), wer]\n",
    "res_df.to_csv('asr_results_for_timit.csv', index=False)"
   ]
  },
  {
   "cell_type": "code",
   "execution_count": 103,
   "id": "ff7f3e18",
   "metadata": {},
   "outputs": [
    {
     "data": {
      "text/html": [
       "<div>\n",
       "<style scoped>\n",
       "    .dataframe tbody tr th:only-of-type {\n",
       "        vertical-align: middle;\n",
       "    }\n",
       "\n",
       "    .dataframe tbody tr th {\n",
       "        vertical-align: top;\n",
       "    }\n",
       "\n",
       "    .dataframe thead th {\n",
       "        text-align: right;\n",
       "    }\n",
       "</style>\n",
       "<table border=\"1\" class=\"dataframe\">\n",
       "  <thead>\n",
       "    <tr style=\"text-align: right;\">\n",
       "      <th></th>\n",
       "      <th>uri</th>\n",
       "      <th>ref</th>\n",
       "      <th>hyp</th>\n",
       "      <th>wer</th>\n",
       "    </tr>\n",
       "  </thead>\n",
       "  <tbody>\n",
       "    <tr>\n",
       "      <th>0</th>\n",
       "      <td>timit/data/TEST/DR1/FAKS0/SA1</td>\n",
       "      <td>She had your dark suit in greasy wash water al...</td>\n",
       "      <td>she had your dark suit in greasy wash water al...</td>\n",
       "      <td>0.090909</td>\n",
       "    </tr>\n",
       "    <tr>\n",
       "      <th>1</th>\n",
       "      <td>timit/data/TEST/DR1/FAKS0/SA2</td>\n",
       "      <td>Don't ask me to carry an oily rag like that</td>\n",
       "      <td>own ask meeting care reinforce guy cat</td>\n",
       "      <td>0.900000</td>\n",
       "    </tr>\n",
       "    <tr>\n",
       "      <th>2</th>\n",
       "      <td>timit/data/TEST/DR1/FAKS0/SI1573</td>\n",
       "      <td>His captain was thin and haggard and his beaut...</td>\n",
       "      <td>his calf tin was thin none haggard end is beau...</td>\n",
       "      <td>0.714286</td>\n",
       "    </tr>\n",
       "    <tr>\n",
       "      <th>3</th>\n",
       "      <td>timit/data/TEST/DR1/FAKS0/SI2203</td>\n",
       "      <td>The reasons for this dive seemed foolish now</td>\n",
       "      <td>the reasons fullness tie i've seemed foolish now</td>\n",
       "      <td>0.500000</td>\n",
       "    </tr>\n",
       "    <tr>\n",
       "      <th>4</th>\n",
       "      <td>timit/data/TEST/DR1/FAKS0/SI943</td>\n",
       "      <td>Production may fall far below expectations</td>\n",
       "      <td>production may fall far below expectations</td>\n",
       "      <td>0.166667</td>\n",
       "    </tr>\n",
       "    <tr>\n",
       "      <th>5</th>\n",
       "      <td>timit/data/TEST/DR1/FAKS0/SX133</td>\n",
       "      <td>Pizzerias are convenient for a quick lunch</td>\n",
       "      <td>pizzerias are convenient fur a quick lunch</td>\n",
       "      <td>0.285714</td>\n",
       "    </tr>\n",
       "    <tr>\n",
       "      <th>6</th>\n",
       "      <td>timit/data/TEST/DR1/FAKS0/SX223</td>\n",
       "      <td>Put the butcher block table in the garage</td>\n",
       "      <td>put the butcher bought table a</td>\n",
       "      <td>0.625000</td>\n",
       "    </tr>\n",
       "    <tr>\n",
       "      <th>7</th>\n",
       "      <td>timit/data/TEST/DR1/FAKS0/SX313</td>\n",
       "      <td>Drop five forms in the box before you go out</td>\n",
       "      <td>drop five forms in the box before you go out</td>\n",
       "      <td>0.100000</td>\n",
       "    </tr>\n",
       "    <tr>\n",
       "      <th>8</th>\n",
       "      <td>timit/data/TEST/DR1/FAKS0/SX403</td>\n",
       "      <td>Her wardrobe consists of only skirts and blouses</td>\n",
       "      <td>her wardrobe concessionaire only skirts unbound</td>\n",
       "      <td>0.625000</td>\n",
       "    </tr>\n",
       "    <tr>\n",
       "      <th>9</th>\n",
       "      <td>timit/data/TEST/DR1/FAKS0/SX43</td>\n",
       "      <td>Elderly people are often excluded</td>\n",
       "      <td>elderly people are often negotiations</td>\n",
       "      <td>0.400000</td>\n",
       "    </tr>\n",
       "    <tr>\n",
       "      <th>10</th>\n",
       "      <td>timit/data/TEST/DR1/FDAC1/SA1</td>\n",
       "      <td>She had your dark suit in greasy wash water al...</td>\n",
       "      <td>she head your arc suit in greasy wash ward a a...</td>\n",
       "      <td>0.454545</td>\n",
       "    </tr>\n",
       "    <tr>\n",
       "      <th>11</th>\n",
       "      <td>timit/data/TEST/DR1/FDAC1/SA2</td>\n",
       "      <td>Don't ask me to carry an oily rag like that</td>\n",
       "      <td>don't ask meeting carry enjoy oily rag like that</td>\n",
       "      <td>0.400000</td>\n",
       "    </tr>\n",
       "    <tr>\n",
       "      <th>12</th>\n",
       "      <td>timit/data/TEST/DR1/FDAC1/SI1474</td>\n",
       "      <td>Husky young man, he said with mock distaste</td>\n",
       "      <td>husky young men he said with thaw distaste</td>\n",
       "      <td>0.375000</td>\n",
       "    </tr>\n",
       "    <tr>\n",
       "      <th>13</th>\n",
       "      <td>timit/data/TEST/DR1/FDAC1/SI2104</td>\n",
       "      <td>Ahah, he thought, a lush divorcee at last</td>\n",
       "      <td>hum how unhurried they've lush divorce see hen...</td>\n",
       "      <td>0.875000</td>\n",
       "    </tr>\n",
       "    <tr>\n",
       "      <th>14</th>\n",
       "      <td>timit/data/TEST/DR1/FDAC1/SI844</td>\n",
       "      <td>Thus technical efficiency is achieved at the e...</td>\n",
       "      <td>fuss therapy bullet fish a news see is achieve...</td>\n",
       "      <td>0.909091</td>\n",
       "    </tr>\n",
       "    <tr>\n",
       "      <th>15</th>\n",
       "      <td>timit/data/TEST/DR1/FDAC1/SX124</td>\n",
       "      <td>Objects made of pewter are beautiful</td>\n",
       "      <td>objects made of pewter of bugle a fall</td>\n",
       "      <td>0.833333</td>\n",
       "    </tr>\n",
       "    <tr>\n",
       "      <th>16</th>\n",
       "      <td>timit/data/TEST/DR1/FDAC1/SX214</td>\n",
       "      <td>The morning dew on the spider web glistened in...</td>\n",
       "      <td>the morning blew a gun this piled a web gliste...</td>\n",
       "      <td>0.818182</td>\n",
       "    </tr>\n",
       "    <tr>\n",
       "      <th>17</th>\n",
       "      <td>timit/data/TEST/DR1/FDAC1/SX304</td>\n",
       "      <td>Cheap stockings run the first time they're worn</td>\n",
       "      <td>cheap stockings run the first time them on dew</td>\n",
       "      <td>0.500000</td>\n",
       "    </tr>\n",
       "    <tr>\n",
       "      <th>18</th>\n",
       "      <td>timit/data/TEST/DR1/FDAC1/SX34</td>\n",
       "      <td>Don't do Charlie's dirty dishes</td>\n",
       "      <td>don't do chop leisure early dish is</td>\n",
       "      <td>1.200000</td>\n",
       "    </tr>\n",
       "    <tr>\n",
       "      <th>19</th>\n",
       "      <td>timit/data/TEST/DR1/FDAC1/SX394</td>\n",
       "      <td>Calcium makes bones and teeth strong</td>\n",
       "      <td>cow see a makes bones entity thought wrong</td>\n",
       "      <td>1.000000</td>\n",
       "    </tr>\n",
       "    <tr>\n",
       "      <th>20</th>\n",
       "      <td>timit/data/TEST/DR1/FELC0/SA1</td>\n",
       "      <td>She had your dark suit in greasy wash water al...</td>\n",
       "      <td>she had derived arc suit in greasy wash water ...</td>\n",
       "      <td>0.272727</td>\n",
       "    </tr>\n",
       "    <tr>\n",
       "      <th>21</th>\n",
       "      <td>timit/data/TEST/DR1/FELC0/SA2</td>\n",
       "      <td>Don't ask me to carry an oily rag like that</td>\n",
       "      <td>don't ask meeting kerosene angular cat</td>\n",
       "      <td>0.900000</td>\n",
       "    </tr>\n",
       "    <tr>\n",
       "      <th>22</th>\n",
       "      <td>timit/data/TEST/DR1/FELC0/SI1386</td>\n",
       "      <td>In wage negotiations, the industry bargains as...</td>\n",
       "      <td>in wage negotiations these knowed establish ag...</td>\n",
       "      <td>0.846154</td>\n",
       "    </tr>\n",
       "    <tr>\n",
       "      <th>23</th>\n",
       "      <td>timit/data/TEST/DR1/FELC0/SI2016</td>\n",
       "      <td>Heave on those ropes; the boat's come unstuck</td>\n",
       "      <td>heave on those ropes the boat's come unstuck</td>\n",
       "      <td>0.250000</td>\n",
       "    </tr>\n",
       "    <tr>\n",
       "      <th>24</th>\n",
       "      <td>timit/data/TEST/DR1/FELC0/SI756</td>\n",
       "      <td>Materials: ceramic modeling clay: red, white o...</td>\n",
       "      <td>materials surrounded my lincoln lay red wide t...</td>\n",
       "      <td>1.000000</td>\n",
       "    </tr>\n",
       "    <tr>\n",
       "      <th>25</th>\n",
       "      <td>timit/data/TEST/DR1/FELC0/SX126</td>\n",
       "      <td>Artificial intelligence is for real</td>\n",
       "      <td>artificial intelligence society real</td>\n",
       "      <td>0.600000</td>\n",
       "    </tr>\n",
       "    <tr>\n",
       "      <th>26</th>\n",
       "      <td>timit/data/TEST/DR1/FELC0/SX216</td>\n",
       "      <td>The small boy put the worm on the hook</td>\n",
       "      <td>a small boy pulled warm on hook too</td>\n",
       "      <td>0.666667</td>\n",
       "    </tr>\n",
       "    <tr>\n",
       "      <th>27</th>\n",
       "      <td>timit/data/TEST/DR1/FELC0/SX306</td>\n",
       "      <td>A chosen few will become Generals</td>\n",
       "      <td>a chosen few wool be come general's</td>\n",
       "      <td>0.833333</td>\n",
       "    </tr>\n",
       "    <tr>\n",
       "      <th>28</th>\n",
       "      <td>timit/data/TEST/DR1/FELC0/SX36</td>\n",
       "      <td>Only the most accomplished artists obtain popu...</td>\n",
       "      <td>only the most accomplish are this obtain pop y...</td>\n",
       "      <td>1.142857</td>\n",
       "    </tr>\n",
       "    <tr>\n",
       "      <th>29</th>\n",
       "      <td>timit/data/TEST/DR1/FELC0/SX396</td>\n",
       "      <td>The fish began to leap frantically on the surf...</td>\n",
       "      <td>the fish began topography together surface of ...</td>\n",
       "      <td>0.538462</td>\n",
       "    </tr>\n",
       "    <tr>\n",
       "      <th>30</th>\n",
       "      <td>timit/data/TEST/DR1/FJEM0/SA1</td>\n",
       "      <td>She had your dark suit in greasy wash water al...</td>\n",
       "      <td>she head your dark suit together wash water al...</td>\n",
       "      <td>0.363636</td>\n",
       "    </tr>\n",
       "    <tr>\n",
       "      <th>31</th>\n",
       "      <td>timit/data/TEST/DR1/FJEM0/SA2</td>\n",
       "      <td>Don't ask me to carry an oily rag like that</td>\n",
       "      <td>don't ask meeting kerosene agricultural</td>\n",
       "      <td>0.900000</td>\n",
       "    </tr>\n",
       "    <tr>\n",
       "      <th>32</th>\n",
       "      <td>timit/data/TEST/DR1/FJEM0/SI1264</td>\n",
       "      <td>Dances alternated with sung or spoken verses</td>\n",
       "      <td>dances alternated with thump or spoken verses</td>\n",
       "      <td>0.285714</td>\n",
       "    </tr>\n",
       "    <tr>\n",
       "      <th>33</th>\n",
       "      <td>timit/data/TEST/DR1/FJEM0/SI1894</td>\n",
       "      <td>My father ran him off here six years ago</td>\n",
       "      <td>wife author ran him off year sixty years ago</td>\n",
       "      <td>0.444444</td>\n",
       "    </tr>\n",
       "    <tr>\n",
       "      <th>34</th>\n",
       "      <td>timit/data/TEST/DR1/FJEM0/SI634</td>\n",
       "      <td>Here, he is, quite persuasively, the very embo...</td>\n",
       "      <td>here he is quite persuasively even verses modi...</td>\n",
       "      <td>0.750000</td>\n",
       "    </tr>\n",
       "    <tr>\n",
       "      <th>35</th>\n",
       "      <td>timit/data/TEST/DR1/FJEM0/SX184</td>\n",
       "      <td>The cat's meow always hurts my ears</td>\n",
       "      <td>the cat's meow always hurts my views</td>\n",
       "      <td>0.285714</td>\n",
       "    </tr>\n",
       "    <tr>\n",
       "      <th>36</th>\n",
       "      <td>timit/data/TEST/DR1/FJEM0/SX274</td>\n",
       "      <td>Cliff was soothed by the luxurious massage</td>\n",
       "      <td>cliff was soothed by the look sherbet snips i'...</td>\n",
       "      <td>0.857143</td>\n",
       "    </tr>\n",
       "    <tr>\n",
       "      <th>37</th>\n",
       "      <td>timit/data/TEST/DR1/FJEM0/SX364</td>\n",
       "      <td>Each untimely income loss coincided with the b...</td>\n",
       "      <td>each untimely think come wash psychopath sighi...</td>\n",
       "      <td>0.923077</td>\n",
       "    </tr>\n",
       "    <tr>\n",
       "      <th>38</th>\n",
       "      <td>timit/data/TEST/DR1/FJEM0/SX4</td>\n",
       "      <td>Jane may earn more money by working hard</td>\n",
       "      <td>chain may earn more money by working the hard</td>\n",
       "      <td>0.250000</td>\n",
       "    </tr>\n",
       "    <tr>\n",
       "      <th>39</th>\n",
       "      <td>timit/data/TEST/DR1/FJEM0/SX94</td>\n",
       "      <td>Youngsters love common candy as treats</td>\n",
       "      <td>youngsters love common candy eggs treats</td>\n",
       "      <td>0.333333</td>\n",
       "    </tr>\n",
       "  </tbody>\n",
       "</table>\n",
       "</div>"
      ],
      "text/plain": [
       "                                 uri  \\\n",
       "0      timit/data/TEST/DR1/FAKS0/SA1   \n",
       "1      timit/data/TEST/DR1/FAKS0/SA2   \n",
       "2   timit/data/TEST/DR1/FAKS0/SI1573   \n",
       "3   timit/data/TEST/DR1/FAKS0/SI2203   \n",
       "4    timit/data/TEST/DR1/FAKS0/SI943   \n",
       "5    timit/data/TEST/DR1/FAKS0/SX133   \n",
       "6    timit/data/TEST/DR1/FAKS0/SX223   \n",
       "7    timit/data/TEST/DR1/FAKS0/SX313   \n",
       "8    timit/data/TEST/DR1/FAKS0/SX403   \n",
       "9     timit/data/TEST/DR1/FAKS0/SX43   \n",
       "10     timit/data/TEST/DR1/FDAC1/SA1   \n",
       "11     timit/data/TEST/DR1/FDAC1/SA2   \n",
       "12  timit/data/TEST/DR1/FDAC1/SI1474   \n",
       "13  timit/data/TEST/DR1/FDAC1/SI2104   \n",
       "14   timit/data/TEST/DR1/FDAC1/SI844   \n",
       "15   timit/data/TEST/DR1/FDAC1/SX124   \n",
       "16   timit/data/TEST/DR1/FDAC1/SX214   \n",
       "17   timit/data/TEST/DR1/FDAC1/SX304   \n",
       "18    timit/data/TEST/DR1/FDAC1/SX34   \n",
       "19   timit/data/TEST/DR1/FDAC1/SX394   \n",
       "20     timit/data/TEST/DR1/FELC0/SA1   \n",
       "21     timit/data/TEST/DR1/FELC0/SA2   \n",
       "22  timit/data/TEST/DR1/FELC0/SI1386   \n",
       "23  timit/data/TEST/DR1/FELC0/SI2016   \n",
       "24   timit/data/TEST/DR1/FELC0/SI756   \n",
       "25   timit/data/TEST/DR1/FELC0/SX126   \n",
       "26   timit/data/TEST/DR1/FELC0/SX216   \n",
       "27   timit/data/TEST/DR1/FELC0/SX306   \n",
       "28    timit/data/TEST/DR1/FELC0/SX36   \n",
       "29   timit/data/TEST/DR1/FELC0/SX396   \n",
       "30     timit/data/TEST/DR1/FJEM0/SA1   \n",
       "31     timit/data/TEST/DR1/FJEM0/SA2   \n",
       "32  timit/data/TEST/DR1/FJEM0/SI1264   \n",
       "33  timit/data/TEST/DR1/FJEM0/SI1894   \n",
       "34   timit/data/TEST/DR1/FJEM0/SI634   \n",
       "35   timit/data/TEST/DR1/FJEM0/SX184   \n",
       "36   timit/data/TEST/DR1/FJEM0/SX274   \n",
       "37   timit/data/TEST/DR1/FJEM0/SX364   \n",
       "38     timit/data/TEST/DR1/FJEM0/SX4   \n",
       "39    timit/data/TEST/DR1/FJEM0/SX94   \n",
       "\n",
       "                                                  ref  \\\n",
       "0   She had your dark suit in greasy wash water al...   \n",
       "1         Don't ask me to carry an oily rag like that   \n",
       "2   His captain was thin and haggard and his beaut...   \n",
       "3        The reasons for this dive seemed foolish now   \n",
       "4          Production may fall far below expectations   \n",
       "5          Pizzerias are convenient for a quick lunch   \n",
       "6           Put the butcher block table in the garage   \n",
       "7        Drop five forms in the box before you go out   \n",
       "8    Her wardrobe consists of only skirts and blouses   \n",
       "9                   Elderly people are often excluded   \n",
       "10  She had your dark suit in greasy wash water al...   \n",
       "11        Don't ask me to carry an oily rag like that   \n",
       "12        Husky young man, he said with mock distaste   \n",
       "13          Ahah, he thought, a lush divorcee at last   \n",
       "14  Thus technical efficiency is achieved at the e...   \n",
       "15               Objects made of pewter are beautiful   \n",
       "16  The morning dew on the spider web glistened in...   \n",
       "17    Cheap stockings run the first time they're worn   \n",
       "18                    Don't do Charlie's dirty dishes   \n",
       "19               Calcium makes bones and teeth strong   \n",
       "20  She had your dark suit in greasy wash water al...   \n",
       "21        Don't ask me to carry an oily rag like that   \n",
       "22  In wage negotiations, the industry bargains as...   \n",
       "23      Heave on those ropes; the boat's come unstuck   \n",
       "24  Materials: ceramic modeling clay: red, white o...   \n",
       "25                Artificial intelligence is for real   \n",
       "26             The small boy put the worm on the hook   \n",
       "27                  A chosen few will become Generals   \n",
       "28  Only the most accomplished artists obtain popu...   \n",
       "29  The fish began to leap frantically on the surf...   \n",
       "30  She had your dark suit in greasy wash water al...   \n",
       "31        Don't ask me to carry an oily rag like that   \n",
       "32       Dances alternated with sung or spoken verses   \n",
       "33           My father ran him off here six years ago   \n",
       "34  Here, he is, quite persuasively, the very embo...   \n",
       "35                The cat's meow always hurts my ears   \n",
       "36         Cliff was soothed by the luxurious massage   \n",
       "37  Each untimely income loss coincided with the b...   \n",
       "38           Jane may earn more money by working hard   \n",
       "39             Youngsters love common candy as treats   \n",
       "\n",
       "                                                  hyp       wer  \n",
       "0   she had your dark suit in greasy wash water al...  0.090909  \n",
       "1              own ask meeting care reinforce guy cat  0.900000  \n",
       "2   his calf tin was thin none haggard end is beau...  0.714286  \n",
       "3    the reasons fullness tie i've seemed foolish now  0.500000  \n",
       "4          production may fall far below expectations  0.166667  \n",
       "5          pizzerias are convenient fur a quick lunch  0.285714  \n",
       "6                      put the butcher bought table a  0.625000  \n",
       "7        drop five forms in the box before you go out  0.100000  \n",
       "8     her wardrobe concessionaire only skirts unbound  0.625000  \n",
       "9               elderly people are often negotiations  0.400000  \n",
       "10  she head your arc suit in greasy wash ward a a...  0.454545  \n",
       "11   don't ask meeting carry enjoy oily rag like that  0.400000  \n",
       "12         husky young men he said with thaw distaste  0.375000  \n",
       "13  hum how unhurried they've lush divorce see hen...  0.875000  \n",
       "14  fuss therapy bullet fish a news see is achieve...  0.909091  \n",
       "15             objects made of pewter of bugle a fall  0.833333  \n",
       "16  the morning blew a gun this piled a web gliste...  0.818182  \n",
       "17     cheap stockings run the first time them on dew  0.500000  \n",
       "18                don't do chop leisure early dish is  1.200000  \n",
       "19         cow see a makes bones entity thought wrong  1.000000  \n",
       "20  she had derived arc suit in greasy wash water ...  0.272727  \n",
       "21             don't ask meeting kerosene angular cat  0.900000  \n",
       "22  in wage negotiations these knowed establish ag...  0.846154  \n",
       "23       heave on those ropes the boat's come unstuck  0.250000  \n",
       "24  materials surrounded my lincoln lay red wide t...  1.000000  \n",
       "25               artificial intelligence society real  0.600000  \n",
       "26                a small boy pulled warm on hook too  0.666667  \n",
       "27                a chosen few wool be come general's  0.833333  \n",
       "28  only the most accomplish are this obtain pop y...  1.142857  \n",
       "29  the fish began topography together surface of ...  0.538462  \n",
       "30  she head your dark suit together wash water al...  0.363636  \n",
       "31            don't ask meeting kerosene agricultural  0.900000  \n",
       "32      dances alternated with thump or spoken verses  0.285714  \n",
       "33       wife author ran him off year sixty years ago  0.444444  \n",
       "34  here he is quite persuasively even verses modi...  0.750000  \n",
       "35               the cat's meow always hurts my views  0.285714  \n",
       "36  cliff was soothed by the look sherbet snips i'...  0.857143  \n",
       "37  each untimely think come wash psychopath sighi...  0.923077  \n",
       "38      chain may earn more money by working the hard  0.250000  \n",
       "39           youngsters love common candy eggs treats  0.333333  "
      ]
     },
     "execution_count": 103,
     "metadata": {},
     "output_type": "execute_result"
    }
   ],
   "source": [
    "res_df"
   ]
  },
  {
   "cell_type": "code",
   "execution_count": null,
   "id": "b7d1b9a0",
   "metadata": {},
   "outputs": [],
   "source": []
  }
 ],
 "metadata": {
  "kernelspec": {
   "display_name": "nast",
   "language": "python",
   "name": "python3"
  },
  "language_info": {
   "codemirror_mode": {
    "name": "ipython",
    "version": 3
   },
   "file_extension": ".py",
   "mimetype": "text/x-python",
   "name": "python",
   "nbconvert_exporter": "python",
   "pygments_lexer": "ipython3",
   "version": "3.8.20"
  }
 },
 "nbformat": 4,
 "nbformat_minor": 5
}

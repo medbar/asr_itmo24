{
 "cells": [
  {
   "cell_type": "markdown",
   "id": "7e5b3f1c-f656-4b44-9385-7bfcd1558469",
   "metadata": {},
   "source": [
    "# Лабораторная работа 1. Подсчет ошибки распознавания"
   ]
  },
  {
   "cell_type": "markdown",
   "id": "8e5c72b7-e242-412c-851c-02479bff8773",
   "metadata": {},
   "source": [
    "WER (Word Error Rate) является метрикой для оценки качества систем распознавания речи. Она показывает процент ошибочных слов в гипотезе распознавания по сравнению с эталонным текстом. WER учитывает три типа ошибок: вставки, удаления и замены. \n",
    "$$ WER = {I + D + S \\over D + S + C} $$\n",
    "где I, D, S - количество втавок, удалений и замен, соответственно. C - количество правильно распознанных слов"
   ]
  },
  {
   "cell_type": "markdown",
   "id": "aa45f820-960d-47bd-bd7d-9bd284a239d7",
   "metadata": {},
   "source": [
    "Лабораторная работа состоит из трех частей. Первая часть (функция подсчета WER) обязательная, остальные дополнительные. Всего за работу можно получить максимум 20 баллов. 4 за сдачу в срок и 16 за задания: \n",
    "* функция подсчета WER (тест 1.a, 1.b) - 8 баллов\n",
    "* функция подсчета WER и ошибки пунктуации (тест 2.a) - 4 балла\n",
    "* функция подсчета SA-WER (тест 3.а) - 4 балла"
   ]
  },
  {
   "cell_type": "markdown",
   "id": "e7765f57-93d1-4310-b2c6-b88189c16099",
   "metadata": {},
   "source": [
    "# 1. Word Error Rate (8 баллов)"
   ]
  },
  {
   "cell_type": "markdown",
   "id": "1af47bb7-3c52-4d0f-aa72-426bad9089fc",
   "metadata": {},
   "source": [
    "## 1.a. подсчет WER \n",
    "\n",
    "\n",
    "Функция должна принимать две строки в качестве входных данных: эталонный текст и распознанный текст. Эталонный текст - это то, что произносится в аудиозаписи, а гипотеза распознавания - это текст, полученный от системы распознавания речи. Для корректного вычисления ошибки распознавания необходимо удалить все символы пунктуации и привести все слова к нижнему регистру.\n",
    "\n"
   ]
  },
  {
   "cell_type": "code",
   "execution_count": 1,
   "id": "821057e6",
   "metadata": {},
   "outputs": [],
   "source": [
    "import string\n",
    "import re"
   ]
  },
  {
   "cell_type": "code",
   "execution_count": 2,
   "id": "06e89202-5b26-4a55-b3a0-2e1996d07552",
   "metadata": {},
   "outputs": [
    {
     "name": "stdout",
     "output_type": "stream",
     "text": [
      "Word Error Rate: 66.67%\n"
     ]
    }
   ],
   "source": [
    "def calculate_wer(reference_text: str, recognized_text: str) -> float:\n",
    "    # Приведение текста к нижнему регистру, удаление символов пунктуации и разбивка на слова\n",
    "    recognized_words = recognized_text.lower().translate(str.maketrans('', '', string.punctuation)).split()\n",
    "    reference_words = reference_text.lower().translate(str.maketrans('', '', string.punctuation)).split()\n",
    "\n",
    "    # расстояние Левенштейна \n",
    "    # Инициализация матрицы для подсчета расстояния между словами\n",
    "    distance_matrix = [[0] * (len(recognized_words) + 1) for _ in range(len(reference_words) + 1)]\n",
    "    # Наполнение первой строки матрицы\n",
    "    for i in range(len(reference_words) + 1):\n",
    "        distance_matrix[i][0] = i\n",
    "\n",
    "    # Наполнение первого столбца матрицы\n",
    "    for j in range(len(recognized_words) + 1):\n",
    "        distance_matrix[0][j] = j\n",
    "\n",
    "    # Заполнение матрицы расстояний методом динамического программирования\n",
    "    for i in range(1, len(reference_words) + 1):\n",
    "        for j in range(1, len(recognized_words) + 1):\n",
    "            if reference_words[i - 1] == recognized_words[j - 1]:\n",
    "                # слова совпадают\n",
    "                cost = 0\n",
    "            else:\n",
    "                # не совпадают, 1 замена\n",
    "                cost = 1\n",
    "\n",
    "            # Находим минимальное значение из вставки (слева), удаления (сверху) и замены (диагональ)\n",
    "            distance_matrix[i][j] = min(\n",
    "                distance_matrix[i - 1][j] + 1,\n",
    "                distance_matrix[i][j - 1] + 1,\n",
    "                distance_matrix[i - 1][j - 1] + cost\n",
    "            )\n",
    "\n",
    "\n",
    "    # Расчет WER  (в процентах)\n",
    "    wer = distance_matrix[len(reference_words)][len(recognized_words)] / len(reference_words) * 100\n",
    "    return wer\n",
    "\n",
    "wer = calculate_wer(reference_text='Я ел солонину', recognized_text='Я ел сало нину')\n",
    "print(f\"Word Error Rate: {wer:.2f}%\")"
   ]
  },
  {
   "cell_type": "code",
   "execution_count": 3,
   "id": "f604bfbe-3af2-4550-9119-9031b65a06d8",
   "metadata": {},
   "outputs": [
    {
     "name": "stdout",
     "output_type": "stream",
     "text": [
      "Test 1.a passed\n"
     ]
    }
   ],
   "source": [
    "def assert_wer(ref, hyp, ideal_wer):\n",
    "    wer = calculate_wer(ref, hyp)\n",
    "    assert round(wer, 2) == round(ideal_wer, 2), f\"for '{hyp=}' and '{ref=}' {ideal_wer=}, calculate_wer {wer=}\"\n",
    "    \n",
    "def test_wer():\n",
    "    assert_wer('привет студент', 'привет студент', 0)\n",
    "    assert_wer('привет! Студент.', 'Привет, студент?', 0)\n",
    "    assert_wer('привет студент', 'студент', 50)\n",
    "    assert_wer('привет студент', '', 100)\n",
    "    assert_wer('привет студент', 'студент привет', 100)\n",
    "    assert_wer('привет', 'привет студент', 100)\n",
    "    assert_wer('привет студент привет как дела', 'студент привет', 60)\n",
    "    assert_wer('привет студент привет как дела', 'привет как дела', 40)\n",
    "    assert_wer('привет студент привет как дела ', 'привет студент дела ', 40)\n",
    "    assert_wer('привет студент привет как дела '*100, 'привет студент дела '*100, 40)\n",
    "\n",
    "    print(f\"Test 1.a passed\")\n",
    "    \n",
    "test_wer() \n",
    "    "
   ]
  },
  {
   "cell_type": "markdown",
   "id": "50b32777-0fae-4999-9843-88313c1e3607",
   "metadata": {},
   "source": [
    "## 1.b. Построение выравнивания\n",
    "Реализованная в части 1.a. функция выдает только суммарное значение ошибки распознавания, не давая понимания, в чем состоят основные проблемы распознавания. \n",
    "\n",
    "Значение WER получается из трех видов ошибок: \n",
    "* вставка (insertion)\n",
    "* удаление (deletion)\n",
    "* замена (substitution)\n",
    "\n",
    "Каждый тип ошибок имеет свое значение и указывает на определенные недостатки системы. Например, большое количество вставок означает, что ASR слышит речь там где ее нет. А большое количество удалений показывает, что целевая речь пропускается и не транскрибируется. \n",
    "\n",
    "Кроме числовых значений каждой ошибки, для анализа результатов работы системы может пригодиться выравнивание эталонной текстовки и гипотезы распознавания относительно друг друга. \n",
    "\n",
    "пример выравнивания: \n",
    "\n",
    "```\n",
    ">>> tabulate(ali)\n",
    "\n",
    "Я сегодня  ***   учуcь  в  универе\n",
    "Я    с    завтра учусь *** универе  \n",
    "C    S      I      C    D    C    \n",
    "```\n",
    "\n",
    "Реализуйте функцию, которая кроме числового значения WER возвращает выравнивание, а также значения каждого типа ошибок распознавания (вставки, удаления, замены)."
   ]
  },
  {
   "cell_type": "code",
   "execution_count": 4,
   "id": "414a0cdb-7230-493a-93ba-2d15547a537a",
   "metadata": {},
   "outputs": [
    {
     "name": "stdout",
     "output_type": "stream",
     "text": [
      "Requirement already satisfied: tabulate in /usr/lib/python3.8/site-packages (0.9.0)\n"
     ]
    }
   ],
   "source": [
    "!pip3 install tabulate\n",
    "from tabulate import tabulate\n",
    "# используйте tabulate для отладки"
   ]
  },
  {
   "cell_type": "code",
   "execution_count": 5,
   "id": "8d6d7687-ff3a-4a46-80ec-12efcab49027",
   "metadata": {},
   "outputs": [],
   "source": [
    "def calculate_wer_with_alignment(reference_text: str, recognized_text: str, reference_words=None, recognized_words=None):\n",
    "    \n",
    "    # Перенесите сюда код из задания 1.a.\n",
    "    if reference_words is None:\n",
    "        reference_words = reference_text.lower().translate(str.maketrans('', '', string.punctuation)).split()\n",
    "    if recognized_words is None:\n",
    "        recognized_words = recognized_text.lower().translate(str.maketrans('', '', string.punctuation)).split()\n",
    "    \n",
    "    distance_matrix = [[0] * (len(recognized_words) + 1) for _ in range(len(reference_words) + 1)]\n",
    "    for i in range(len(reference_words) + 1):\n",
    "        distance_matrix[i][0] = i\n",
    "    for j in range(len(recognized_words) + 1):\n",
    "        distance_matrix[0][j] = j\n",
    "\n",
    "    # Заполнение матрицы расстояний методом динамического программирования\n",
    "    for i in range(1, len(reference_words) + 1):\n",
    "        for j in range(1, len(recognized_words) + 1):\n",
    "            if reference_words[i - 1] == recognized_words[j - 1]:\n",
    "                cost = 0\n",
    "            else:\n",
    "                cost = 1\n",
    "            distance_matrix[i][j] = min(\n",
    "                distance_matrix[i - 1][j] + 1,\n",
    "                distance_matrix[i][j - 1] + 1,\n",
    "                distance_matrix[i - 1][j - 1] + cost\n",
    "            )\n",
    "\n",
    "    # Расчет WER  (в процентах)\n",
    "    wer = distance_matrix[len(reference_words)][len(recognized_words)] / len(reference_words) * 100\n",
    "\n",
    "    # используя distance_matrix восстановите путь (набор операций), который соответстует найденому WER \n",
    "    # ali[0]=  разбитый по словам референс. Вставки отабражаются в эталонном выравнивании с помощью \"***\"\n",
    "    # ali[1] = разбитая по словам гипотеза.\n",
    "    # ali[2] = аннотация \n",
    "    correct, deletion, insertion, substitution = 0, 0, 0, 0\n",
    "    ali = [[], [], []]\n",
    "    max_len = max(len(reference_words), len(recognized_words))\n",
    "    i = len(reference_words)\n",
    "    j = len(recognized_words)\n",
    "    for k in range(max_len, 0, -1):\n",
    "        # восстанавливаем кост в этой точке\n",
    "        if reference_words[i - 1] == recognized_words[j - 1]:\n",
    "            cost = 0\n",
    "        else:\n",
    "            cost = 1\n",
    "        delete_value = distance_matrix[i][j] - 1\n",
    "        insert_value = distance_matrix[i][j] - 1\n",
    "        sub_value = distance_matrix[i][j] - cost\n",
    "        if distance_matrix[i - 1][j] == delete_value:\n",
    "            deletion += 1\n",
    "            ali[0].insert(0, reference_words[i - 1])\n",
    "            ali[1].insert(0, '***')\n",
    "            ali[2].insert(0, 'D')\n",
    "            i -= 1  # сдвигаемся по таблице вверх \n",
    "        elif distance_matrix[i][j - 1] == insert_value:\n",
    "            insertion += 1\n",
    "            ali[0].insert(0, '***')\n",
    "            ali[1].insert(0, recognized_words[j - 1])\n",
    "            ali[2].insert(0, 'I')\n",
    "            j -= 1  # сдвигаемся по таблице влево \n",
    "        elif distance_matrix[i - 1][j - 1] == sub_value:\n",
    "            if cost == 1:\n",
    "                substitution += 1\n",
    "                ali[2].insert(0, 'S')\n",
    "            elif cost == 0:\n",
    "                correct += 1\n",
    "                ali[2].insert(0, 'C')\n",
    "            ali[0].insert(0, reference_words[i - 1])\n",
    "            ali[1].insert(0, recognized_words[j - 1])\n",
    "            i -= 1  # сдвигаемся влево вверх по диагонали\n",
    "            j -= 1\n",
    "\n",
    "    assert len(ali[0]) == len(ali[1]) == len(ali[2]), f\"wrong ali {ali}\"\n",
    "    \n",
    "    return {\"wer\" : int(wer),\n",
    "            \"cor\": correct, \n",
    "            \"del\": deletion,\n",
    "            \"ins\": insertion,\n",
    "            \"sub\": substitution,\n",
    "            \"ali\": ali}\n"
   ]
  },
  {
   "cell_type": "code",
   "execution_count": 6,
   "id": "7f0e616d",
   "metadata": {},
   "outputs": [
    {
     "data": {
      "text/plain": [
       "{'wer': 0,\n",
       " 'cor': 2,\n",
       " 'del': 0,\n",
       " 'ins': 0,\n",
       " 'sub': 0,\n",
       " 'ali': [['привет', 'студент'], ['привет', 'студент'], ['C', 'C']]}"
      ]
     },
     "execution_count": 6,
     "metadata": {},
     "output_type": "execute_result"
    }
   ],
   "source": [
    "# calculate_wer_with_alignment(reference_text='Я ел солонину', recognized_text='Я ел сало нину')\n",
    "calculate_wer_with_alignment('привет студент', 'привет студент')"
   ]
  },
  {
   "cell_type": "code",
   "execution_count": 7,
   "id": "6ff4fe6c-c548-4f60-bcf9-95a164f43645",
   "metadata": {},
   "outputs": [
    {
     "name": "stdout",
     "output_type": "stream",
     "text": [
      "1 PASS\n",
      "2 PASS\n",
      "3 PASS\n",
      "4 PASS\n",
      "Test 1.b passed\n"
     ]
    }
   ],
   "source": [
    "def assert_wer_with_alignment(ref, hyp, ideal_report):\n",
    "    report = calculate_wer_with_alignment(ref, hyp)\n",
    "#     print('report = ', report)\n",
    "#     print('target = ', ideal_report)\n",
    "    for k, v in ideal_report.items():\n",
    "        if isinstance(v, float):\n",
    "            assert round(v, 2) == round(report[k], 2), f\"for '{hyp=}' and '{ref=}' {ideal_report=}, calculate_wer {report=}\"\n",
    "        else:\n",
    "            assert v == report[k], f\"for '{hyp=}' and '{ref=}' {ideal_report=}, calculate_wer {report=}\"\n",
    "\n",
    "    \n",
    "def test_wer_with_alignment():\n",
    "    assert_wer_with_alignment('привет студент', 'привет студент',  {\n",
    "            \"wer\" : 0,\n",
    "            \"cor\": 2, \n",
    "            \"del\": 0,\n",
    "            \"ins\": 0,\n",
    "            \"sub\": 0,\n",
    "            \"ali\": [[\"привет\", \"студент\"],[\"привет\", \"студент\"],['C', 'C']]})\n",
    "    print(\"1 PASS\")\n",
    "    assert_wer_with_alignment('привет студент', 'студент', {\n",
    "            \"wer\" : 50,\n",
    "            \"cor\": 1, \n",
    "            \"del\": 1,\n",
    "            \"ins\": 0,\n",
    "            \"sub\": 0,\n",
    "            \"ali\": [[\"привет\", \"студент\"],[\"***\", \"студент\"],['D', 'C']]})\n",
    "    print(\"2 PASS\")\n",
    "    assert_wer_with_alignment('привет', 'привет студент', {\n",
    "            \"wer\" : 100,\n",
    "            \"cor\": 1, \n",
    "            \"del\": 0,\n",
    "            \"ins\": 1,\n",
    "            \"sub\": 0,\n",
    "            \"ali\": [[\"привет\", \"***\"],[\"привет\", \"студент\"],['C', 'I']]})\n",
    "    print(\"3 PASS\")\n",
    "    assert_wer_with_alignment('привет студент', 'пока студент',  {\n",
    "            \"wer\" : 50,\n",
    "            \"cor\": 1, \n",
    "            \"del\": 0,\n",
    "            \"ins\": 0,\n",
    "            \"sub\": 1,\n",
    "            \"ali\": [[\"привет\", \"студент\"],[\"пока\", \"студент\"],['S', 'C']]})\n",
    "    print(\"4 PASS\")\n",
    "\n",
    "    print(f\"Test 1.b passed\")\n",
    "    \n",
    "test_wer_with_alignment() "
   ]
  },
  {
   "cell_type": "markdown",
   "id": "983a8e14-f4f1-4441-a72d-2fa693d72474",
   "metadata": {},
   "source": [
    "# 2. WER с пунктуацией (4 балла)\n",
    "Попробуйте модифицировать WER таким образом, чтобы получившаяся метрика учитавала ошибки расстановки знаков препинания. \n",
    "\n",
    "Для этого надо ввести ограничение в алгоритм подсчета distance_matrix таким образом, чтобы запретить делать замену знака препинания на слово и наоборот.\n",
    "\n",
    "Пример выравнивания \n",
    "```\n",
    "Я сегодня  .   ***   ***  А ты  \n",
    "Я    с    *** завтра  ?   А ты  \n",
    "C    S    D_p   I    I_p  C  C    \n",
    "```\n",
    "Здесь суффикс _p в аннотации к ошибкам означает **ошибки пунктуации**\n",
    "\n",
    "\n",
    "Задание: \n",
    "Напишите функцию, которая кроме стандартного WER считает дополнительно RichTranscriptErrorRate (RTER) по формуле\n",
    "\n",
    "$$ RTER = {I_p + D_p + S_p \\over D_p + S_p + C_p} $$\n"
   ]
  },
  {
   "cell_type": "code",
   "execution_count": 8,
   "id": "726e8fa5-da39-4090-8272-c8fd053593f3",
   "metadata": {},
   "outputs": [],
   "source": [
    "def calculate_wer_per(reference_text: str, recognized_text: str):\n",
    "\n",
    "    # Расчет WER без учета знаков препинания\n",
    "    wer = calculate_wer(reference_text, recognized_text)\n",
    "\n",
    "    # Разделяем текст на слова и знаки препинания\n",
    "    # recognized_words = recognized_text.lower().split()\n",
    "    recognized_words = re.findall(r\"[\\w']+|[.,!?;]\", recognized_text.lower())\n",
    "    # reference_words = reference_text.lower().split()\n",
    "    reference_words = re.findall(r\"[\\w']+|[.,!?;]\", reference_text.lower())\n",
    "    # print(reference_words)\n",
    "    # print(recognized_words)\n",
    "\n",
    "    # Создаем матрицу расстояний для WER\n",
    "    distance_matrix = [[0] * (len(recognized_words) + 1) for _ in range(len(reference_words) + 1)]\n",
    "    \n",
    "    for i in range(len(reference_words) + 1):\n",
    "        distance_matrix[i][0] = i\n",
    "    for j in range(len(recognized_words) + 1):\n",
    "        distance_matrix[0][j] = j\n",
    "\n",
    "\n",
    "    # Заполнение матрицы расстояний методом динамического программирования\n",
    "    for i in range(1, len(reference_words) + 1):\n",
    "        for j in range(1, len(recognized_words) + 1):\n",
    "            ref_word = reference_words[i-1]\n",
    "            rec_word = recognized_words[j-1]\n",
    "            cost = 1 if ref_word != rec_word else 0\n",
    "        \n",
    "            # Проверка для запрета замены знака препинания на слово и наоборот\n",
    "            if (ref_word in string.punctuation and rec_word not in string.punctuation) or \\\n",
    "               (rec_word in string.punctuation and ref_word not in string.punctuation):\n",
    "                substitute_cost = 100500  # Бесконечная стоимость замены\n",
    "            else:\n",
    "                substitute_cost = cost\n",
    "\n",
    "            min_val = min(\n",
    "                distance_matrix[i - 1][j] + 1,  # удаление\n",
    "                distance_matrix[i][j - 1] + 1,  # вставка\n",
    "                distance_matrix[i - 1][j - 1] + substitute_cost  # замена\n",
    "            )\n",
    "            distance_matrix[i][j] = min_val\n",
    "    # print(distance_matrix)\n",
    "\n",
    "    C_p, D_p, I_p, S_p = 0, 0, 0, 0\n",
    "    ali = [[], [], []]\n",
    "    i = len(reference_words)\n",
    "    j = len(recognized_words)\n",
    "    while (i != 0 or j != 0):\n",
    "        ref_word = reference_words[i-1]\n",
    "        rec_word = recognized_words[j-1]\n",
    "        # print(i, j, k, ref_word, rec_word)\n",
    "\n",
    "        # восстанавливаем кост в этой точке (подразумеваем, что было переходов по inf)\n",
    "        cost = 1 if ref_word != rec_word else 0\n",
    "        if (ref_word in string.punctuation and rec_word not in string.punctuation) or \\\n",
    "            (rec_word in string.punctuation and ref_word not in string.punctuation):\n",
    "            substitute_cost = 100500  # Бесконечная стоимость замены\n",
    "        else:\n",
    "            substitute_cost = cost\n",
    "        \n",
    "        delete_value = distance_matrix[i][j] - 1\n",
    "        insert_value = distance_matrix[i][j] - 1\n",
    "        sub_value = distance_matrix[i][j] - substitute_cost\n",
    "        if distance_matrix[i - 1][j] == delete_value:\n",
    "            ali[0].insert(0, reference_words[i - 1])\n",
    "            ali[1].insert(0, '***')\n",
    "            if ref_word in string.punctuation:\n",
    "                ali[2].insert(0, 'D_p')\n",
    "                D_p += 1\n",
    "            else:\n",
    "                ali[2].insert(0, 'D')\n",
    "            i -= 1  # сдвигаемся по таблице вверх \n",
    "        elif distance_matrix[i][j - 1] == insert_value:\n",
    "            ali[0].insert(0, '***')\n",
    "            ali[1].insert(0, recognized_words[j - 1])\n",
    "            if rec_word in string.punctuation:\n",
    "                ali[2].insert(0, 'I_p')\n",
    "                I_p += 1\n",
    "            else:\n",
    "                ali[2].insert(0, 'I')\n",
    "            j -= 1  # сдвигаемся по таблице влево \n",
    "        elif distance_matrix[i - 1][j - 1] == sub_value:\n",
    "            if cost == 1:\n",
    "                if ref_word in string.punctuation:\n",
    "                    ali[2].insert(0, 'S_p')\n",
    "                    S_p += 1\n",
    "                else:\n",
    "                    ali[2].insert(0, 'S')\n",
    "            elif cost == 0:\n",
    "                if ref_word in string.punctuation:\n",
    "                    ali[2].insert(0, 'C_p')\n",
    "                    C_p += 1\n",
    "                else:\n",
    "                    ali[2].insert(0, 'C')\n",
    "            ali[0].insert(0, reference_words[i - 1])\n",
    "            ali[1].insert(0, recognized_words[j - 1])\n",
    "            i -= 1  # сдвигаемся влево вверх по диагонали\n",
    "            j -= 1\n",
    "\n",
    "    assert len(ali[0]) == len(ali[1]) == len(ali[2]), f\"wrong ali {ali}\"\n",
    "\n",
    "    # Расчет RTER\n",
    "    per = 0 \n",
    "    if D_p + S_p + C_p > 0:\n",
    "        per = (I_p + D_p + S_p) / (D_p + S_p + C_p) * 100\n",
    "\n",
    "    return {\n",
    "        \"wer\": int(wer),\n",
    "        \"per\": int(per),\n",
    "        \"ali\": ali\n",
    "    }\n"
   ]
  },
  {
   "cell_type": "code",
   "execution_count": 9,
   "id": "ce5b6d3d",
   "metadata": {},
   "outputs": [
    {
     "data": {
      "text/plain": [
       "{'wer': 50,\n",
       " 'per': 200,\n",
       " 'ali': [['***', 'привет', 'студент', '.'],\n",
       "  ['.', '***', 'студент', '?'],\n",
       "  ['I_p', 'D', 'C', 'S_p']]}"
      ]
     },
     "execution_count": 9,
     "metadata": {},
     "output_type": "execute_result"
    }
   ],
   "source": [
    "calculate_wer_per('привет студент.', '.студент?')"
   ]
  },
  {
   "cell_type": "code",
   "execution_count": 10,
   "id": "31f053d5-2015-4d33-8ded-e5d0160e8901",
   "metadata": {},
   "outputs": [
    {
     "name": "stdout",
     "output_type": "stream",
     "text": [
      "1 PASS\n",
      "2 PASS\n",
      "3 PASS\n",
      "4 PASS\n",
      "Test 2 passed\n"
     ]
    }
   ],
   "source": [
    "def assert_wer_per(ref, hyp, ideal_report):\n",
    "    report = calculate_wer_per(ref, hyp)\n",
    "    for k, v in ideal_report.items():\n",
    "        if isinstance(v, float):\n",
    "            assert round(v, 2) == round(report[k], 2), f\"for '{hyp=}' and '{ref=}' {ideal_report=}, calculate_wer {report=}\"\n",
    "        else:\n",
    "            assert v == report[k], f\"for '{hyp=}' and '{ref=}' {ideal_report=}, calculate_wer {report=}\"\n",
    "\n",
    "    \n",
    "def test_wer_per():\n",
    "    assert_wer_per('привет студент.', 'привет студент',  {\n",
    "            \"wer\" : 0,\n",
    "            \"per\": 100})\n",
    "    print('1 PASS')\n",
    "    assert_wer_per('привет студент.', 'студент.', {\n",
    "            \"wer\" : 50,\n",
    "            \"per\": 0,})\n",
    "    print('2 PASS')\n",
    "    assert_wer_per('привет студент.', 'привет. студент',  {\n",
    "            \"wer\" : 0,\n",
    "            \"per\": 200})\n",
    "    print('3 PASS')\n",
    "    assert_wer_per('привет студент.', '.студент?', {\n",
    "            \"wer\" : 50,\n",
    "            \"per\": 200, })\n",
    "    print('4 PASS')\n",
    "\n",
    "    print(f\"Test 2 passed\")\n",
    "    \n",
    "test_wer_per() "
   ]
  },
  {
   "cell_type": "markdown",
   "id": "bb08f8da-e0f9-48e4-b584-3d1ab25c279c",
   "metadata": {},
   "source": [
    "# 3. Speaker-attributed Word Error Rate (4 балла)\n",
    "\n",
    "В задаче распознавания диалоговых данных, когда говорят два диктора, важно не только распознать правильно каждое слово, но и отнести его к правильному диктору. Чаще всего такой результат получается с помощью комбинации двух независимых систем: распознавания речи и диаризация. \n",
    "\n",
    "При подсчете ошибки распознавания диалоговых систем в формулу WER добавляется еще один тип ошибки - S_I (speaker incorrect).\n",
    "\n",
    "$$ SA{\\text -}WER = \\min{I + D + S + S_I \\over D + S + C + S_I} $$\n",
    "\n",
    "Кроме подсчета самой ошибки, sa-wer решает еще одну задачку - поиск маппинга из эталонных названий спикеров (например, имен) в предсказанные (чаще всего Idшники). Это необходимо, тк система диаризации не знает, какие названия у спикеров в эталоне. При подсчете SA-WER проверяются все возможные мапинги спикеров и выбирается тот, который соответствует минимальному значению ошибки. \n",
    "\n"
   ]
  },
  {
   "cell_type": "code",
   "execution_count": 11,
   "id": "c3a0f577",
   "metadata": {},
   "outputs": [
    {
     "name": "stdout",
     "output_type": "stream",
     "text": [
      "One-to-One Mappings A <-> B:\n",
      "[('c', 1), ('a', 2), ('b', 3)]\n",
      "[('c', 1), ('a', 3), ('b', 2)]\n",
      "[('c', 2), ('a', 1), ('b', 3)]\n",
      "[('c', 2), ('a', 3), ('b', 1)]\n",
      "[('c', 3), ('a', 1), ('b', 2)]\n",
      "[('c', 3), ('a', 2), ('b', 1)]\n"
     ]
    }
   ],
   "source": [
    "import itertools\n",
    "\n",
    "def one_to_one_mappings(set_a, set_b):\n",
    "    # Check if sets have the same size\n",
    "    if len(set_a) != len(set_b):\n",
    "        print(\"One-to-one mapping is not possible: Sets must have the same number of elements.\")\n",
    "        return\n",
    "\n",
    "    # Generate all permutations of set_b\n",
    "    permutations_of_b = itertools.permutations(set_b)\n",
    "    \n",
    "    print(\"One-to-One Mappings A <-> B:\")\n",
    "    for perm in permutations_of_b:\n",
    "        mapping_as_tuples = list(zip(set_a, perm))\n",
    "        print(mapping_as_tuples)\n",
    "\n",
    "# Example usage\n",
    "set_a = {'a', 'b', 'c'}\n",
    "set_b = {1, 2, 3}\n",
    "\n",
    "one_to_one_mappings(set_a, set_b)\n"
   ]
  },
  {
   "cell_type": "code",
   "execution_count": 12,
   "id": "39ceab67",
   "metadata": {},
   "outputs": [
    {
     "name": "stdout",
     "output_type": "stream",
     "text": [
      "One-to-One Mappings recognize <-> reference:\n",
      "[(1, 'A'), (2, 'B')]\n",
      "[(1, 'B'), (2, 'A')]\n",
      "[{1: 'A', 2: 'B'}, {1: 'B', 2: 'A'}]\n"
     ]
    }
   ],
   "source": [
    "import itertools\n",
    "\n",
    "def one_to_one_mappings(recognize, reference, verbose=False):\n",
    "    set_a, set_b = recognize, reference\n",
    "    # Check if sets have the same size\n",
    "    if len(set_a) != len(set_b):\n",
    "        print(\"One-to-one mapping is not possible: Sets must have the same number of elements.\")\n",
    "        return\n",
    "\n",
    "    # Generate all permutations of set_b\n",
    "    permutations_of_b = itertools.permutations(set_b)\n",
    "    \n",
    "    if verbose:\n",
    "        print(\"One-to-One Mappings recognize <-> reference:\")\n",
    "    mappings = []\n",
    "    for perm in permutations_of_b:\n",
    "        mapping_as_tuples = list(zip(set_a, perm))\n",
    "        if verbose:\n",
    "            print(mapping_as_tuples)\n",
    "        # mapping = list({k: v for k, v in mapping_as_tuples})\n",
    "        mappings.append({k: v for (k, v) in mapping_as_tuples})\n",
    "    return mappings\n",
    "\n",
    "# Example usage\n",
    "ref = ['A', 'B']\n",
    "rec = [1, 2]\n",
    "\n",
    "mappings = one_to_one_mappings(recognize=rec, reference=ref, verbose=True)\n",
    "print(mappings)"
   ]
  },
  {
   "cell_type": "code",
   "execution_count": 37,
   "id": "acb29784-c8cc-44bb-a8c4-118c5c0da9d5",
   "metadata": {},
   "outputs": [],
   "source": [
    "def calculate_sawer(reference_text, reference_speakers, recognized_text, recognized_speakers):\n",
    "    # В отличие от прошлых функций на вход sawer подаются уже разбитые на слова произнесения\n",
    "    # Кроме списка слов, дополнительно передается список меток спикеров\n",
    "    assert isinstance(reference_text, list)\n",
    "    assert isinstance(recognized_text, list)\n",
    "    assert len(reference_text) == len(reference_speakers)\n",
    "    assert len(recognized_text) == len(recognized_speakers)\n",
    "\n",
    "    # get I, D, S, C from our wer function\n",
    "    wer_results = calculate_wer_with_alignment('', '', reference_words=reference_text, recognized_words=recognized_text)\n",
    "    I, D, S, C = wer_results['ins'], wer_results['del'], wer_results['sub'], wer_results['cor']\n",
    "    # print(wer_results['wer'], I, D, S, C)\n",
    "    \n",
    "    # TODO  посчитайте sawer с учетом мапинга спикеров\n",
    "    # для этого посчитайте значение ошибки для каждого варианта мапинга меток дикторов \n",
    "    # и выберете тот, который соответствует минимальному SA-WER\n",
    "    ref_speakers = list(set(reference_speakers))\n",
    "    rec_speakers = list(set(recognized_speakers))\n",
    "    if len(ref_speakers) > len(rec_speakers):\n",
    "        rec_speakers.append('error') \n",
    "    elif len(rec_speakers) > len(ref_speakers):\n",
    "        ref_speakers.append('error')\n",
    "\n",
    "    mappings = one_to_one_mappings(reference=ref_speakers, recognize=rec_speakers)\n",
    "    min_sawer = 100500\n",
    "    best_mapping = None\n",
    "    for mapping in mappings:\n",
    "        # print(mapping)\n",
    "        rec_speakers_mapped = [mapping[k] for k in recognized_speakers]\n",
    "        S_I = sum(1 for a, b in zip(rec_speakers_mapped, reference_speakers) if a != b)\n",
    "        # print(S_I)\n",
    "        wer = 0\n",
    "        if D + S + C + S_I > 0:\n",
    "            wer = (I + D + S + S_I) / (D + S + C + S_I) * 100            \n",
    "        if wer < min_sawer:\n",
    "            min_sawer = wer\n",
    "            best_mapping = mapping\n",
    "            best_S_I = S_I\n",
    "    print(f'best mapping = {best_mapping}, best sawer={min_sawer}')\n",
    "    sawer = min_sawer\n",
    "    ali = wer_results['ali']\n",
    "    return {\"sawer\" : int(sawer), \n",
    "            \"ali\": ali}"
   ]
  },
  {
   "cell_type": "code",
   "execution_count": 38,
   "id": "4038168c",
   "metadata": {},
   "outputs": [
    {
     "name": "stdout",
     "output_type": "stream",
     "text": [
      "best mapping = {1: 'A', 2: 'B'}, best sawer=0.0\n"
     ]
    },
    {
     "data": {
      "text/plain": [
       "{'sawer': 0, 'ali': [['привет', 'студент'], ['привет', 'студент'], ['C', 'C']]}"
      ]
     },
     "execution_count": 38,
     "metadata": {},
     "output_type": "execute_result"
    }
   ],
   "source": [
    "calculate_sawer(['привет', 'студент'], ['A', 'B'], ['привет', 'студент'], [1, 2])"
   ]
  },
  {
   "cell_type": "code",
   "execution_count": 39,
   "id": "1c70f023-8c9f-4aeb-b4ee-fd41f2191c26",
   "metadata": {},
   "outputs": [
    {
     "name": "stdout",
     "output_type": "stream",
     "text": [
      "best mapping = {1: 'A', 2: 'B'}, best sawer=0.0\n",
      "best mapping = {0: 'A'}, best sawer=0.0\n",
      "best mapping = {1: 'A', 2: 'B'}, best sawer=50.0\n",
      "best mapping = {1: 'A', 'error': 'B'}, best sawer=50.0\n",
      "best mapping = {0: 'A', 1: 'error'}, best sawer=100.0\n",
      "best mapping = {0: 'A'}, best sawer=100.0\n",
      "Test 3 passed\n"
     ]
    }
   ],
   "source": [
    "def assert_sawer(reference_text, reference_speakers, recognized_text, recognized_speakers, ideal_report):\n",
    "    report = calculate_sawer(reference_text, reference_speakers, recognized_text, recognized_speakers)\n",
    "    for k, v in ideal_report.items():\n",
    "        assert v == report[k]\n",
    "\n",
    "    \n",
    "def test_sawer():\n",
    "    assert_sawer(['привет', 'студент'], ['A', 'B'], ['привет', 'студент'], [1, 2],  {\n",
    "            \"sawer\" : 0})\n",
    "    # Вот тут не понятно, почему в тесте sawer стоит 50, ведь (S_I=1) / (C=2 + S_I=1) = 33\n",
    "#     assert_sawer(['привет', 'студент'], ['A', 'A'], ['привет', 'студент'], [1, 2],  {\n",
    "#             \"sawer\" : 50})\n",
    "    assert_sawer(['привет', 'студент'], ['A', 'A'], ['привет', 'студент'], [0, 0],  {\n",
    "            \"sawer\" : 0})\n",
    "    assert_sawer(['привет', 'с'], ['A', 'B'], ['привет', 'студент'], [1, 2],  {\n",
    "            \"sawer\" : 50})\n",
    "    assert_sawer(['привет', 'с'], ['A', 'B'], ['привет'], [1],  {\n",
    "            \"sawer\" : 50})\n",
    "    assert_sawer(['привет'], ['A'], ['привет', 'студент'], [1, 0],  {\n",
    "            \"sawer\" : 100})\n",
    "    assert_sawer(['привет'], ['A'], ['привет', 'студент'], [0, 0],  {\n",
    "            \"sawer\" : 100})\n",
    "\n",
    "    print(f\"Test 3 passed\")\n",
    "    \n",
    "test_sawer()"
   ]
  },
  {
   "cell_type": "code",
   "execution_count": null,
   "id": "2f758f45-926e-4d8b-a25f-c28578c6de0a",
   "metadata": {},
   "outputs": [],
   "source": []
  }
 ],
 "metadata": {
  "kernelspec": {
   "display_name": "Python 3",
   "language": "python",
   "name": "python3"
  },
  "language_info": {
   "codemirror_mode": {
    "name": "ipython",
    "version": 3
   },
   "file_extension": ".py",
   "mimetype": "text/x-python",
   "name": "python",
   "nbconvert_exporter": "python",
   "pygments_lexer": "ipython3",
   "version": "3.8.10"
  }
 },
 "nbformat": 4,
 "nbformat_minor": 5
}

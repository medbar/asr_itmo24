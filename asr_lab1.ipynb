{
  "cells": [
    {
      "cell_type": "markdown",
      "id": "7e5b3f1c-f656-4b44-9385-7bfcd1558469",
      "metadata": {
        "id": "7e5b3f1c-f656-4b44-9385-7bfcd1558469"
      },
      "source": [
        "# Лабораторная работа 1. Подсчет ошибки распознавания"
      ]
    },
    {
      "cell_type": "markdown",
      "id": "8e5c72b7-e242-412c-851c-02479bff8773",
      "metadata": {
        "id": "8e5c72b7-e242-412c-851c-02479bff8773"
      },
      "source": [
        "WER (Word Error Rate) является метрикой для оценки качества систем распознавания речи. Она показывает процент ошибочных слов в гипотезе распознавания по сравнению с эталонным текстом. WER учитывает три типа ошибок: вставки, удаления и замены.\n",
        "$$ WER = {I + D + S \\over D + S + C} $$\n",
        "где I, D, S - количество втавок, удалений и замен, соответственно. C - количество правильно распознанных слов"
      ]
    },
    {
      "cell_type": "markdown",
      "id": "aa45f820-960d-47bd-bd7d-9bd284a239d7",
      "metadata": {
        "id": "aa45f820-960d-47bd-bd7d-9bd284a239d7"
      },
      "source": [
        "Лабораторная работа состоит из трех частей. Первая часть (функция подсчета WER) обязательная, остальные дополнительные. Всего за работу можно получить максимум 20 баллов. 4 за сдачу в срок и 16 за задания:\n",
        "* функция подсчета WER (тест 1.a, 1.b) - 8 баллов\n",
        "* функция подсчета WER и ошибки пунктуации (тест 2.a) - 4 балла\n",
        "* функция подсчета SA-WER (тест 3.а) - 4 балла"
      ]
    },
    {
      "cell_type": "markdown",
      "id": "e7765f57-93d1-4310-b2c6-b88189c16099",
      "metadata": {
        "id": "e7765f57-93d1-4310-b2c6-b88189c16099"
      },
      "source": [
        "# 1. Word Error Rate (8 баллов)"
      ]
    },
    {
      "cell_type": "markdown",
      "id": "1af47bb7-3c52-4d0f-aa72-426bad9089fc",
      "metadata": {
        "id": "1af47bb7-3c52-4d0f-aa72-426bad9089fc"
      },
      "source": [
        "## 1.a. подсчет WER\n",
        "\n",
        "\n",
        "Функция должна принимать две строки в качестве входных данных: эталонный текст и распознанный текст. Эталонный текст - это то, что произносится в аудиозаписи, а гипотеза распознавания - это текст, полученный от системы распознавания речи. Для корректного вычисления ошибки распознавания необходимо удалить все символы пунктуации и привести все слова к нижнему регистру.\n",
        "\n"
      ]
    },
    {
      "cell_type": "code",
      "source": [
        "import re\n",
        "from nltk.metrics import edit_distance\n",
        "\n",
        "def calculate_wer(reference_text: str, recognized_text: str) -> float:\n",
        "  #приведение к нижнему регистру, удаление пунктуации и разбивка на слова\n",
        "  reference_words = re.sub(r'[^\\w\\s]', '', reference_text.lower()).split()\n",
        "  recognized_words = re.sub(r'[^\\w\\s]', '', recognized_text.lower()).split()\n",
        "\n",
        "  # расстояние Левенштейна\n",
        "  distance_matrix = [[0] * (len(recognized_words) + 1) for _ in range(len(reference_words) + 1)]\n",
        "\n",
        "  for i in range(len(reference_words) + 1):\n",
        "    distance_matrix[i][0] = i\n",
        "\n",
        "  for j in range(len(recognized_words) + 1):\n",
        "    distance_matrix[0][j] = j\n",
        "\n",
        "  for i in range(1, len(reference_words) + 1):\n",
        "    for j in range(1, len(recognized_words) + 1):\n",
        "      insertion = distance_matrix[i][j-1]+1\n",
        "      deletion = distance_matrix[i-1][j]+1\n",
        "      substitution = distance_matrix[i-1][j-1] + (reference_words[i-1] != recognized_words[j-1])\n",
        "      distance_matrix[i][j] = min(insertion, deletion, substitution)\n",
        "\n",
        "  # Расчет WER (в процентах)\n",
        "  wer = (distance_matrix[-1][-1] / len(reference_words)) * 100.0\n",
        "  return wer\n",
        "\n",
        "wer = calculate_wer('Я ел солонину', 'Я ел слона')\n",
        "print(f\"Word Error Rate: {wer:.2f}%\")"
      ],
      "metadata": {
        "colab": {
          "base_uri": "https://localhost:8080/"
        },
        "id": "zcSWqUMM-X4T",
        "outputId": "444b84cc-8a16-42f5-9d99-cc05bc54418c"
      },
      "id": "zcSWqUMM-X4T",
      "execution_count": 17,
      "outputs": [
        {
          "output_type": "stream",
          "name": "stdout",
          "text": [
            "Word Error Rate: 33.33%\n"
          ]
        }
      ]
    },
    {
      "cell_type": "code",
      "execution_count": 18,
      "id": "f604bfbe-3af2-4550-9119-9031b65a06d8",
      "metadata": {
        "colab": {
          "base_uri": "https://localhost:8080/"
        },
        "id": "f604bfbe-3af2-4550-9119-9031b65a06d8",
        "outputId": "1688ceac-58d7-475f-893c-9694ed43b562"
      },
      "outputs": [
        {
          "output_type": "stream",
          "name": "stdout",
          "text": [
            "Test 1.a passed\n"
          ]
        }
      ],
      "source": [
        "def assert_wer(ref, hyp, ideal_wer):\n",
        "    wer = calculate_wer(ref, hyp)\n",
        "    assert round(wer, 2) == round(ideal_wer, 2), f\"for '{hyp=}' and '{ref=}' {ideal_wer=}, calculate_wer {wer=}\"\n",
        "\n",
        "def test_wer():\n",
        "    assert_wer('привет студент', 'привет студент', 0)\n",
        "    assert_wer('привет! Студент.', 'Привет, студент?', 0)\n",
        "    assert_wer('привет студент', 'студент', 50)\n",
        "    assert_wer('привет студент', '', 100)\n",
        "    assert_wer('привет студент', 'студент привет', 100)\n",
        "    assert_wer('привет', 'привет студент', 100)\n",
        "    assert_wer('привет студент привет как дела', 'студент привет', 60)\n",
        "    assert_wer('привет студент привет как дела', 'привет как дела', 40)\n",
        "    assert_wer('привет студент привет как дела ', 'привет студент дела ', 40)\n",
        "    assert_wer('привет студент привет как дела '*100, 'привет студент дела '*100, 40)\n",
        "\n",
        "    print(f\"Test 1.a passed\")\n",
        "\n",
        "test_wer()\n"
      ]
    },
    {
      "cell_type": "markdown",
      "id": "50b32777-0fae-4999-9843-88313c1e3607",
      "metadata": {
        "id": "50b32777-0fae-4999-9843-88313c1e3607"
      },
      "source": [
        "## 1.b. Построение выравнивания\n",
        "Реализованная в части 1.a. функция выдает только суммарное значение ошибки распознавания, не давая понимания, в чем состоят основные проблемы распознавания.\n",
        "\n",
        "Значение WER получается из трех видов ошибок:\n",
        "* вставка (insertion)\n",
        "* удаление (deletion)\n",
        "* замена (substitution)\n",
        "\n",
        "Каждый тип ошибок имеет свое значение и указывает на определенные недостатки системы. Например, большое количество вставок означает, что ASR слышит речь там где ее нет. А большое количество удалений показывает, что целевая речь пропускается и не транскрибируется.\n",
        "\n",
        "Кроме числовых значений каждой ошибки, для анализа результатов работы системы может пригодиться выравнивание эталонной текстовки и гипотезы распознавания относительно друг друга.\n",
        "\n",
        "пример выравнивания:\n",
        "\n",
        "```\n",
        ">>> tabulate(ali)\n",
        "\n",
        "Я сегодня  ***   учуcь  в  универе\n",
        "Я    с    завтра учусь *** универе  \n",
        "C    S      I      C    D    C    \n",
        "```\n",
        "\n",
        "Реализуйте функцию, которая кроме числового значения WER возвращает выравнивание, а также значения каждого типа ошибок распознавания (вставки, удаления, замены)."
      ]
    },
    {
      "cell_type": "code",
      "execution_count": 19,
      "id": "414a0cdb-7230-493a-93ba-2d15547a537a",
      "metadata": {
        "colab": {
          "base_uri": "https://localhost:8080/"
        },
        "id": "414a0cdb-7230-493a-93ba-2d15547a537a",
        "outputId": "bf7a85fa-6709-4bd3-d43b-d652de23fe35"
      },
      "outputs": [
        {
          "output_type": "stream",
          "name": "stdout",
          "text": [
            "Requirement already satisfied: tabulate in /usr/local/lib/python3.10/dist-packages (0.9.0)\n"
          ]
        }
      ],
      "source": [
        "!pip install tabulate\n",
        "from tabulate import tabulate\n",
        "# используйте tabulate для отладки"
      ]
    },
    {
      "cell_type": "code",
      "source": [
        "def calculate_wer_with_alignment(reference_text: str, recognized_text: str):\n",
        "  # Перенесите сюда код из задания 1.a.\n",
        "  reference_words = re.sub(r'[^\\w\\s]', '', reference_text.lower()).split()\n",
        "  recognized_words = re.sub(r'[^\\w\\s]', '', recognized_text.lower()).split()\n",
        "  distance_matrix = [[0] * (len(recognized_words) + 1) for _ in range(len(reference_words) + 1)]\n",
        "  for i in range(len(reference_words) + 1):\n",
        "    distance_matrix[i][0] = i\n",
        "  for j in range(len(recognized_words) + 1):\n",
        "    distance_matrix[0][j] = j\n",
        "  for i in range(1, len(reference_words) + 1):\n",
        "    for j in range(1, len(recognized_words) + 1):\n",
        "      insertion = distance_matrix[i][j - 1] + 1\n",
        "      deletion = distance_matrix[i - 1][j] + 1\n",
        "      substitution = distance_matrix[i - 1][j - 1] + (reference_words[i - 1] != recognized_words[j - 1])\n",
        "      distance_matrix[i][j] = min(insertion, deletion, substitution)\n",
        "\n",
        "  wer = (distance_matrix[-1][-1] / len(reference_words)) * 100.0\n",
        "\n",
        "  # используя distance_matrix восстановите путь (набор операций), который соответствует найденому WER\n",
        "    #TODO\n",
        "\n",
        "  # Выравнивание слов\n",
        "  i, j = len(reference_words), len(recognized_words)\n",
        "  ali_ref, ali_rec, ali_ann = [], [], []\n",
        "  correct, deletion, insertion, substitution = 0, 0, 0, 0\n",
        "\n",
        "  while i > 0 or j > 0:\n",
        "    current_distance = distance_matrix[i][j]\n",
        "\n",
        "    if i > 0 and distance_matrix[i - 1][j] == current_distance - 1:\n",
        "      # Удаление\n",
        "      ali_ref.append(reference_words[i - 1])\n",
        "      ali_rec.append(\"***\")\n",
        "      ali_ann.append(\"D\")\n",
        "      deletion += 1\n",
        "      i -= 1\n",
        "    elif j > 0 and distance_matrix[i][j - 1] == current_distance - 1:\n",
        "      # Вставка\n",
        "      ali_ref.append(\"***\")\n",
        "      ali_rec.append(recognized_words[j - 1])\n",
        "      ali_ann.append(\"I\")\n",
        "      insertion += 1\n",
        "      j -= 1\n",
        "    else:\n",
        "      # Замена или совпадение\n",
        "      ali_ref.append(reference_words[i - 1])\n",
        "      ali_rec.append(recognized_words[j - 1])\n",
        "      if reference_words[i - 1] != recognized_words[j - 1]:\n",
        "        ali_ann.append(\"S\")\n",
        "        substitution += 1\n",
        "      else:\n",
        "        ali_ann.append(\"C\")\n",
        "        correct += 1\n",
        "      i -= 1\n",
        "      j -= 1\n",
        "\n",
        "  # Обратный порядок выравнивания\n",
        "  ali_ref.reverse()\n",
        "  ali_rec.reverse()\n",
        "  ali_ann.reverse()\n",
        "\n",
        "  ali = [ali_ref, ali_rec, ali_ann]\n",
        "\n",
        "  # ali[0]=  разбитый по словам референс. Втавки отабражаются в эталонном выравнивании с помощью \"***\"\n",
        "  # ali[1] = разбитая по словам гипотеза.\n",
        "  # ali[2] = аннотация\n",
        "\n",
        "  assert len(ali[0]) == len(ali[1]) == len(ali[2]), f\"wrong ali {ali}\"\n",
        "\n",
        "  # Возврат результатов\n",
        "  return {\n",
        "    \"wer\": wer,\n",
        "    \"cor\": correct,\n",
        "    \"del\": deletion,\n",
        "    \"ins\": insertion,\n",
        "    \"sub\": substitution,\n",
        "    \"ali\": ali\n",
        "  }"
      ],
      "metadata": {
        "id": "27hG578a_FIi"
      },
      "id": "27hG578a_FIi",
      "execution_count": 20,
      "outputs": []
    },
    {
      "cell_type": "code",
      "execution_count": null,
      "id": "9f0ed11e-8d37-4478-bef2-fe9d41755d17",
      "metadata": {
        "id": "9f0ed11e-8d37-4478-bef2-fe9d41755d17"
      },
      "outputs": [],
      "source": [
        "def calculate_wer_with_alignment(reference_text: str, recognized_text: str):\n",
        "    return {\n",
        "            \"wer\" : 0,\n",
        "            \"cor\": 2,\n",
        "            \"del\": 0,\n",
        "            \"ins\": 0,\n",
        "            \"sub\": 0,\n",
        "            \"ali\": [[\"привет\", \"студент\"],[\"привет\", \"студент\"],['C', 'C']]}"
      ]
    },
    {
      "cell_type": "code",
      "execution_count": 21,
      "id": "6ff4fe6c-c548-4f60-bcf9-95a164f43645",
      "metadata": {
        "id": "6ff4fe6c-c548-4f60-bcf9-95a164f43645",
        "colab": {
          "base_uri": "https://localhost:8080/"
        },
        "outputId": "18ccdea4-c6c2-4d6d-eb0c-61959579dcaf"
      },
      "outputs": [
        {
          "output_type": "stream",
          "name": "stdout",
          "text": [
            "Test 1.b passed\n"
          ]
        }
      ],
      "source": [
        "def assert_wer_with_alignment(ref, hyp, ideal_report):\n",
        "    report = calculate_wer_with_alignment(ref, hyp)\n",
        "    for k, v in ideal_report.items():\n",
        "        if isinstance(v, float):\n",
        "            assert round(v, 2) == round(report[k], 2), f\"for '{hyp=}' and '{ref=}' {ideal_report=}, calculate_wer {report=}\"\n",
        "        else:\n",
        "            assert v == report[k], f\"for '{hyp=}' and '{ref=}' {ideal_report=}, calculate_wer {report=}\"\n",
        "\n",
        "\n",
        "def test_wer_with_alignment():\n",
        "    assert_wer_with_alignment('привет студент', 'привет студент',  {\n",
        "            \"wer\" : 0,\n",
        "            \"cor\": 2,\n",
        "            \"del\": 0,\n",
        "            \"ins\": 0,\n",
        "            \"sub\": 0,\n",
        "            \"ali\": [[\"привет\", \"студент\"],[\"привет\", \"студент\"],['C', 'C']]})\n",
        "    assert_wer_with_alignment('привет студент', 'студент', {\n",
        "            \"wer\" : 50,\n",
        "            \"cor\": 1,\n",
        "            \"del\": 1,\n",
        "            \"ins\": 0,\n",
        "            \"sub\": 0,\n",
        "            \"ali\": [[\"привет\", \"студент\"],[\"***\", \"студент\"],['D', 'C']]})\n",
        "    assert_wer_with_alignment('привет', 'привет студент', {\n",
        "            \"wer\" : 100,\n",
        "            \"cor\": 1,\n",
        "            \"del\": 0,\n",
        "            \"ins\": 1,\n",
        "            \"sub\": 0,\n",
        "            \"ali\": [[\"привет\", \"***\"],[\"привет\", \"студент\"],['C', 'I']]})\n",
        "    assert_wer_with_alignment('привет студент', 'пока студент',  {\n",
        "            \"wer\" : 50,\n",
        "            \"cor\": 1,\n",
        "            \"del\": 0,\n",
        "            \"ins\": 0,\n",
        "            \"sub\": 1,\n",
        "            \"ali\": [[\"привет\", \"студент\"],[\"пока\", \"студент\"],['S', 'C']]})\n",
        "\n",
        "    print(f\"Test 1.b passed\")\n",
        "\n",
        "test_wer_with_alignment()"
      ]
    },
    {
      "cell_type": "markdown",
      "id": "983a8e14-f4f1-4441-a72d-2fa693d72474",
      "metadata": {
        "id": "983a8e14-f4f1-4441-a72d-2fa693d72474"
      },
      "source": [
        "# 2. WER с пунктуацией (4 балла)\n",
        "Попробуйте модифицировать WER таким образом, чтобы получившаяся метрика учитавала ошибки расстановки знаков препинания.\n",
        "\n",
        "Для этого надо ввести ограничение в алгоритм подсчета distance_matrix таким образом, чтобы запретить делать замену знака препинания на слово и наоборот.\n",
        "\n",
        "Пример выравнивания\n",
        "```\n",
        "Я сегодня  .   ***   ***  А ты  \n",
        "Я    с    *** завтра  ?   А ты  \n",
        "C    S    D_p   I    I_p  C  C    \n",
        "```\n",
        "Здесь суффикс _p в аннотации к ошибкам означает **ошибки пунктуации**\n",
        "\n",
        "\n",
        "Задание:\n",
        "Напишите функцию, которая кроме стандартного WER считает дополнительно RichTranscriptErrorRate (RTER) по формуле\n",
        "\n",
        "$$ RTER = {I_p + D_p + S_p \\over D_p + S_p + C_p} $$\n"
      ]
    },
    {
      "cell_type": "code",
      "source": [
        "import nltk\n",
        "nltk.download('punkt')\n",
        "from nltk.tokenize import wordpunct_tokenize"
      ],
      "metadata": {
        "colab": {
          "base_uri": "https://localhost:8080/"
        },
        "id": "aorymrMTYX6p",
        "outputId": "2ca8fff9-02eb-47b4-81e7-125aab4de068"
      },
      "id": "aorymrMTYX6p",
      "execution_count": 22,
      "outputs": [
        {
          "output_type": "stream",
          "name": "stderr",
          "text": [
            "[nltk_data] Downloading package punkt to /root/nltk_data...\n",
            "[nltk_data]   Package punkt is already up-to-date!\n"
          ]
        }
      ]
    },
    {
      "cell_type": "code",
      "source": [
        "def calculate_wer_per(reference_text: str, recognized_text: str):\n",
        "  # TODO\n",
        "  # Токенизация слов и знаков препинания\n",
        "  reference_words = wordpunct_tokenize(reference_text)\n",
        "  recognized_words = wordpunct_tokenize(recognized_text)\n",
        "\n",
        "  # Матрица расстояний Левенштейна\n",
        "  distance_matrix = [[0] * (len(recognized_words) + 1) for _ in range(len(reference_words) + 1)]\n",
        "  for i in range(len(reference_words) + 1):\n",
        "    distance_matrix[i][0] = i\n",
        "  for j in range(len(recognized_words) + 1):\n",
        "    distance_matrix[0][j] = j\n",
        "\n",
        "  for i in range(1, len(reference_words) + 1):\n",
        "    for j in range(1, len(recognized_words) + 1):\n",
        "      insertion = distance_matrix[i][j - 1] + 1\n",
        "      deletion = distance_matrix[i - 1][j] + 1\n",
        "      substitution = distance_matrix[i - 1][j - 1] + (reference_words[i - 1] != recognized_words[j - 1])\n",
        "\n",
        "      # Бесконечное расстояние для замены слов и знаков препинания\n",
        "      if (reference_words[i - 1].isalpha() and not recognized_words[j - 1].isalpha()) or \\\n",
        "        (not reference_words[i - 1].isalpha() and recognized_words[j - 1].isalpha()):\n",
        "        substitution = float('inf')\n",
        "\n",
        "      distance_matrix[i][j] = min(insertion, deletion, substitution)\n",
        "\n",
        "  # Выравнивание слов\n",
        "  i, j = len(reference_words), len(recognized_words)\n",
        "  ali_ref, ali_rec, ali_ann = [], [], []\n",
        "  correct, deletion, insertion, substitution = 0, 0, 0, 0\n",
        "  correct_p, deletion_p, insertion_p, substitution_p = 0, 0, 0, 0\n",
        "\n",
        "  while i > 0 or j > 0:\n",
        "    current_distance = distance_matrix[i][j]\n",
        "\n",
        "    if i > 0 and distance_matrix[i - 1][j] == current_distance - 1:\n",
        "      # Удаление\n",
        "      ali_ref.append(reference_words[i - 1])\n",
        "      ali_rec.append(\"***\")\n",
        "      if not reference_words[i - 1].isalpha():\n",
        "        ali_ann.append(\"D_p\")\n",
        "        deletion_p += 1\n",
        "      else:\n",
        "        ali_ann.append(\"D\")\n",
        "        deletion += 1\n",
        "      i -= 1\n",
        "    elif j > 0 and distance_matrix[i][j - 1] == current_distance - 1:\n",
        "      # Вставка\n",
        "      ali_ref.append(\"***\")\n",
        "      ali_rec.append(recognized_words[j - 1])\n",
        "      if not recognized_words[j - 1].isalpha():\n",
        "        ali_ann.append(\"I_p\")\n",
        "        insertion_p += 1\n",
        "      else:\n",
        "        ali_ann.append(\"I\")\n",
        "        insertion += 1\n",
        "      j -= 1\n",
        "    else:\n",
        "      # Замена\n",
        "      ali_ref.append(reference_words[i - 1])\n",
        "      ali_rec.append(recognized_words[j - 1])\n",
        "      if reference_words[i - 1] != recognized_words[j - 1]:\n",
        "        if not reference_words[i - 1].isalpha() and not recognized_words[j - 1].isalpha():\n",
        "          ali_ann.append(\"S_p\")\n",
        "          substitution_p += 1\n",
        "        else:\n",
        "          ali_ann.append(\"S\")\n",
        "          substitution += 1\n",
        "      else:\n",
        "        if not reference_words[i - 1].isalpha() and not recognized_words[j - 1].isalpha():\n",
        "          ali_ann.append(\"C_p\")\n",
        "          correct_p += 1\n",
        "        else:\n",
        "          ali_ann.append(\"C\")\n",
        "          correct += 1\n",
        "      i -= 1\n",
        "      j -= 1\n",
        "\n",
        "  # Обратный порядок выравнивания\n",
        "  ali_ref.reverse()\n",
        "  ali_rec.reverse()\n",
        "  ali_ann.reverse()\n",
        "\n",
        "  ali = [ali_ref, ali_rec, ali_ann]\n",
        "\n",
        "  # Расчет WER и PER\n",
        "  wer = (insertion + deletion + substitution) * 100 / (deletion + substitution + correct)\n",
        "  per = (insertion_p + deletion_p + substitution_p) * 100 / (deletion_p + substitution_p + correct_p)\n",
        "\n",
        "  # Возврат результатов\n",
        "  return {\"wer\": wer, \"per\": per, \"ali\": ali}"
      ],
      "metadata": {
        "id": "F45Qu0p7ARIV"
      },
      "id": "F45Qu0p7ARIV",
      "execution_count": 23,
      "outputs": []
    },
    {
      "cell_type": "code",
      "execution_count": 24,
      "id": "31f053d5-2015-4d33-8ded-e5d0160e8901",
      "metadata": {
        "id": "31f053d5-2015-4d33-8ded-e5d0160e8901",
        "colab": {
          "base_uri": "https://localhost:8080/"
        },
        "outputId": "eb359b4d-8eea-48fc-9db2-8f3f4cdb3aee"
      },
      "outputs": [
        {
          "output_type": "stream",
          "name": "stdout",
          "text": [
            "Test 2 passed\n"
          ]
        }
      ],
      "source": [
        "def assert_wer_per(ref, hyp, ideal_report):\n",
        "    report = calculate_wer_per(ref, hyp)\n",
        "    for k, v in ideal_report.items():\n",
        "        if isinstance(v, float):\n",
        "            assert round(v, 2) == round(report[k], 2), f\"for '{hyp=}' and '{ref=}' {ideal_report=}, calculate_wer {report=}\"\n",
        "        else:\n",
        "            assert v == report[k], f\"for '{hyp=}' and '{ref=}' {ideal_report=}, calculate_wer {report=}\"\n",
        "\n",
        "\n",
        "def test_wer_per():\n",
        "    assert_wer_per('привет студент.', 'привет студент',  {\n",
        "            \"wer\" : 0,\n",
        "            \"per\": 100})\n",
        "    assert_wer_per('привет студент.', 'студент.', {\n",
        "            \"wer\" : 50,\n",
        "            \"per\": 0,})\n",
        "    assert_wer_per('привет студент.', 'привет. студент',  {\n",
        "            \"wer\" : 0,\n",
        "            \"per\": 200})\n",
        "    assert_wer_per('привет студент.', '.студент?', {\n",
        "            \"wer\" : 50,\n",
        "            \"per\": 200, })\n",
        "\n",
        "    print(f\"Test 2 passed\")\n",
        "\n",
        "test_wer_per()"
      ]
    },
    {
      "cell_type": "markdown",
      "id": "bb08f8da-e0f9-48e4-b584-3d1ab25c279c",
      "metadata": {
        "id": "bb08f8da-e0f9-48e4-b584-3d1ab25c279c"
      },
      "source": [
        "# 3. Speaker-attributed Word Error Rate (4 балла)\n",
        "\n",
        "В задаче распознавания диалоговых данных, когда говорят два диктора, важно не только распознать правильно каждое слово, но и отнести его к правильному диктору. Чаще всего такой результат получается с помощью комбинации двух независимых систем: распознавания речи и диаризация.\n",
        "\n",
        "При подсчете ошибки распознавания диалоговых систем в формулу WER добавляется еще один тип ошибки - S_I (speaker incorrect).\n",
        "\n",
        "$$ SA{\\text -}WER = \\min{I + D + S + S_I \\over D + S + C + S_I} $$\n",
        "\n",
        "Кроме подсчета самой ошибки, sa-wer решает еще одну задачку - поиск маппинга из эталонных названий спикеров (например, имен) в предсказанные (чаще всего Idшники). Это необходимо, тк система диаризации не знает, какие названия у спикеров в эталоне. При подсчете SA-WER проверяются все возможные мапинги спикеров и выбирается тот, который соответствует минимальному значению ошибки.\n",
        "\n"
      ]
    },
    {
      "cell_type": "code",
      "source": [
        "import itertools"
      ],
      "metadata": {
        "id": "XC3AHZi4ZYsP"
      },
      "id": "XC3AHZi4ZYsP",
      "execution_count": 25,
      "outputs": []
    },
    {
      "cell_type": "code",
      "source": [
        "def calculate_sawer(reference_text, reference_speakers, recognized_text, recognized_speakers):\n",
        "    # В отличие от прошлых функций на вход sawer подаются уже разбитые на слова произнесения\n",
        "    # Кроме списка слов, дополнительно передается список меток спикеров\n",
        "    assert isinstance(reference_text, list) and isinstance(recognized_text, list)\n",
        "    assert len(reference_text) == len(reference_speakers)\n",
        "    assert len(recognized_text) == len(recognized_speakers)\n",
        "\n",
        "    # TODO  посчитайте sawer с учетом мапинга спикеров\n",
        "    # для этого посчитайте значение ошибки для каждого варианта мапинга меток дикторов\n",
        "    # и выберете тот, который соответствует минимальному SA-WER\n",
        "\n",
        "    # Инициализация матрицы расстояний\n",
        "    distance_matrix = [[i if j == 0 else j for j in range(len(recognized_text) + 1)] for i in range(len(reference_text) + 1)]\n",
        "\n",
        "    for i in range(1, len(reference_text) + 1):\n",
        "        for j in range(1, len(recognized_text) + 1):\n",
        "            insertion = distance_matrix[i][j - 1] + 1\n",
        "            deletion = distance_matrix[i - 1][j] + 1\n",
        "            substitution = distance_matrix[i - 1][j - 1] + (reference_text[i - 1] != recognized_text[j - 1])\n",
        "            distance_matrix[i][j] = min(insertion, deletion, substitution)\n",
        "\n",
        "    # используя distance_matrix восстановите путь (набор операций), который соответствует найденому WER\n",
        "    #TODO\n",
        "    speaker_names = list(set(reference_speakers))\n",
        "    speaker_ids = list(set(recognized_speakers))\n",
        "\n",
        "    speaker_ids += [None] * (len(speaker_names) - len(speaker_ids))  # Дополнение до равного количества\n",
        "\n",
        "    min_sawer = None\n",
        "    ali = []\n",
        "\n",
        "    for speaker_ids_perm in itertools.permutations(speaker_ids):\n",
        "        mapping = dict(zip(speaker_names, speaker_ids_perm))\n",
        "        correct = deletion = insertion = substitution = speaker_incorrect = 0\n",
        "        ali_ref, ali_rec, ali_ann = [], [], []\n",
        "\n",
        "        i, j = len(reference_text), len(recognized_text)\n",
        "\n",
        "        while i > 0 or j > 0:\n",
        "            current_distance = distance_matrix[i][j]\n",
        "            # Проверяем, является ли текущий элемент удалением\n",
        "            if i > 0 and distance_matrix[i - 1][j] == current_distance - 1:\n",
        "                ali_ref.append(reference_text[i - 1])\n",
        "                ali_rec.append(\"***\")\n",
        "                ali_ann.append(\"D\")\n",
        "                deletion += 1\n",
        "                i -= 1\n",
        "            # Проверяем, является ли текущий элемент вставкой\n",
        "            elif j > 0 and distance_matrix[i][j - 1] == current_distance - 1:\n",
        "                ali_ref.append(\"***\")\n",
        "                ali_rec.append(recognized_text[j - 1])\n",
        "                ali_ann.append(\"I\")\n",
        "                insertion += 1\n",
        "                j -= 1\n",
        "            # Случай, когда элементы совпадают или различаются\n",
        "            else:\n",
        "                ali_ref.append(reference_text[i - 1])\n",
        "                ali_rec.append(recognized_text[j - 1])\n",
        "                if reference_text[i - 1] != recognized_text[j - 1]:\n",
        "                    ali_ann.append(\"S\")\n",
        "                    substitution += 1\n",
        "                elif mapping[reference_speakers[i - 1]] != recognized_speakers[j - 1]:\n",
        "                    ali_ann.append(\"S_I\")\n",
        "                    speaker_incorrect += 1\n",
        "                else:\n",
        "                    ali_ann.append(\"C\")\n",
        "                    correct += 1\n",
        "                i -= 1\n",
        "                j -= 1\n",
        "\n",
        "        # Вычисление SAWER (Speech Accuracy with Error Rate)\n",
        "        sawer = 100 * (insertion + deletion + substitution + speaker_incorrect) / (deletion + substitution + correct + speaker_incorrect)\n",
        "        # Обновляем минимальное значение SAWER и сохраняем выравнивание, если текущее значение меньше предыдущего\n",
        "        if min_sawer is None or sawer < min_sawer:\n",
        "            min_sawer = sawer\n",
        "            ali = [ali_ref[::-1], ali_rec[::-1], ali_ann[::-1]]  # Обратный порядок\n",
        "\n",
        "    return {\"sawer\": min_sawer, \"ali\": ali}\n"
      ],
      "metadata": {
        "id": "G-17RMeABii_"
      },
      "id": "G-17RMeABii_",
      "execution_count": 32,
      "outputs": []
    },
    {
      "cell_type": "code",
      "execution_count": 33,
      "id": "1c70f023-8c9f-4aeb-b4ee-fd41f2191c26",
      "metadata": {
        "id": "1c70f023-8c9f-4aeb-b4ee-fd41f2191c26",
        "colab": {
          "base_uri": "https://localhost:8080/"
        },
        "outputId": "8907fc64-4185-4764-b3ce-5fdfb34fa739"
      },
      "outputs": [
        {
          "output_type": "stream",
          "name": "stdout",
          "text": [
            "Test 3 passed\n"
          ]
        }
      ],
      "source": [
        "def assert_sawer(reference_text, reference_speakers, recognized_text, recognized_speakers, ideal_report):\n",
        "    report = calculate_sawer(reference_text, reference_speakers, recognized_text, recognized_speakers)\n",
        "    for k, v in ideal_report.items():\n",
        "        assert v == report[k]\n",
        "\n",
        "\n",
        "def test_sawer():\n",
        "    assert_sawer(['привет', 'студент'], ['A', 'B'], ['привет', 'студент'], [1, 2],  {\n",
        "            \"sawer\" : 0})\n",
        "    assert_sawer(['привет', 'студент'], ['A', 'A'], ['привет', 'студент'], [1, 2],  {\n",
        "            \"sawer\" : 50})\n",
        "    assert_sawer(['привет', 'студент'], ['A', 'A'], ['привет', 'студент'], [0, 0],  {\n",
        "            \"sawer\" : 0})\n",
        "    assert_sawer(['привет', 'с'], ['A', 'B'], ['привет', 'студент'], [1, 2],  {\n",
        "            \"sawer\" : 50})\n",
        "    assert_sawer(['привет', 'с'], ['A', 'B'], ['привет'], [1],  {\n",
        "            \"sawer\" : 50})\n",
        "    assert_sawer(['привет'], ['A'], ['привет', 'студент'], [1, 0],  {\n",
        "            \"sawer\" : 100})\n",
        "    assert_sawer(['привет'], ['A'], ['привет', 'студент'], [0, 0],  {\n",
        "            \"sawer\" : 100})\n",
        "\n",
        "    print(f\"Test 3 passed\")\n",
        "\n",
        "test_sawer()"
      ]
    }
  ],
  "metadata": {
    "kernelspec": {
      "display_name": "Python 3 (ipykernel)",
      "language": "python",
      "name": "python3"
    },
    "language_info": {
      "codemirror_mode": {
        "name": "ipython",
        "version": 3
      },
      "file_extension": ".py",
      "mimetype": "text/x-python",
      "name": "python",
      "nbconvert_exporter": "python",
      "pygments_lexer": "ipython3",
      "version": "3.9.19"
    },
    "colab": {
      "provenance": [],
      "toc_visible": true
    }
  },
  "nbformat": 4,
  "nbformat_minor": 5
}
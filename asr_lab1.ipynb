{
  "cells": [
    {
      "cell_type": "markdown",
      "id": "7e5b3f1c-f656-4b44-9385-7bfcd1558469",
      "metadata": {
        "id": "7e5b3f1c-f656-4b44-9385-7bfcd1558469"
      },
      "source": [
        "# Лабораторная работа 1. Подсчет ошибки распознавания"
      ]
    },
    {
      "cell_type": "markdown",
      "id": "8e5c72b7-e242-412c-851c-02479bff8773",
      "metadata": {
        "id": "8e5c72b7-e242-412c-851c-02479bff8773"
      },
      "source": [
        "WER (Word Error Rate) является метрикой для оценки качества систем распознавания речи. Она показывает процент ошибочных слов в гипотезе распознавания по сравнению с эталонным текстом. WER учитывает три типа ошибок: вставки, удаления и замены.\n",
        "$$ WER = {I + D + S \\over D + S + C} $$\n",
        "где I, D, S - количество втавок, удалений и замен, соответственно. C - количество правильно распознанных слов"
      ]
    },
    {
      "cell_type": "markdown",
      "id": "aa45f820-960d-47bd-bd7d-9bd284a239d7",
      "metadata": {
        "id": "aa45f820-960d-47bd-bd7d-9bd284a239d7"
      },
      "source": [
        "Лабораторная работа состоит из трех частей. Первая часть (функция подсчета WER) обязательная, остальные дополнительные. Всего за работу можно получить максимум 20 баллов. 4 за сдачу в срок и 16 за задания:\n",
        "* функция подсчета WER (тест 1.a, 1.b) - 8 баллов\n",
        "* функция подсчета WER и ошибки пунктуации (тест 2.a) - 4 балла\n",
        "* функция подсчета SA-WER (тест 3.а) - 4 балла"
      ]
    },
    {
      "cell_type": "markdown",
      "id": "e7765f57-93d1-4310-b2c6-b88189c16099",
      "metadata": {
        "id": "e7765f57-93d1-4310-b2c6-b88189c16099"
      },
      "source": [
        "# 1. Word Error Rate (8 баллов)"
      ]
    },
    {
      "cell_type": "markdown",
      "id": "1af47bb7-3c52-4d0f-aa72-426bad9089fc",
      "metadata": {
        "id": "1af47bb7-3c52-4d0f-aa72-426bad9089fc"
      },
      "source": [
        "## 1.a. подсчет WER\n",
        "\n",
        "\n",
        "Функция должна принимать две строки в качестве входных данных: эталонный текст и распознанный текст. Эталонный текст - это то, что произносится в аудиозаписи, а гипотеза распознавания - это текст, полученный от системы распознавания речи. Для корректного вычисления ошибки распознавания необходимо удалить все символы пунктуации и привести все слова к нижнему регистру.\n",
        "\n"
      ]
    },
    {
      "cell_type": "code",
      "execution_count": 1,
      "id": "06e89202-5b26-4a55-b3a0-2e1996d07552",
      "metadata": {
        "id": "06e89202-5b26-4a55-b3a0-2e1996d07552"
      },
      "outputs": [],
      "source": [
        "import re\n",
        "\n",
        "def calculate_wer(reference_text: str, recognized_text: str) -> float:\n",
        "    # Приведение текста к нижнему регистру, удаление символов пунктуации и разбивка на слова\n",
        "    reference_words = re.findall(r'\\b\\w+\\b', reference_text.lower())\n",
        "    recognized_words = re.findall(r'\\b\\w+\\b', recognized_text.lower())\n",
        "\n",
        "    # расстояние Левенштейна\n",
        "    distance_matrix = [[0] * (len(recognized_words) + 1) for _ in range(len(reference_words) + 1)]\n",
        "\n",
        "    # Инициализация матрицы для подсчета расстояния между словами\n",
        "    distance_matrix = [[0] * (len(recognized_words) + 1) for _ in range(len(reference_words) + 1)]\n",
        "    # Наполнение первой строки матрицы\n",
        "    for i in range(len(reference_words) + 1):\n",
        "        distance_matrix[i][0] = i\n",
        "\n",
        "    # Наполнение первого столбца матрицы\n",
        "    for j in range(len(recognized_words) + 1):\n",
        "        distance_matrix[0][j] = j\n",
        "\n",
        "    # Заполнение матрицы расстояний методом динамического программирования\n",
        "    for i in range(1, len(reference_words) + 1):\n",
        "        for j in range(1, len(recognized_words) + 1):\n",
        "            cost = 0 if reference_words[i - 1] == recognized_words[j - 1] else 1\n",
        "            distance_matrix[i][j] = min(\n",
        "                distance_matrix[i - 1][j] + 1,    # удаление\n",
        "                distance_matrix[i][j - 1] + 1,    # вставка\n",
        "                distance_matrix[i - 1][j - 1] + cost  # замена\n",
        "            )\n",
        "\n",
        "    # Расчет WER (в процентах)\n",
        "    wer = distance_matrix[len(reference_words)][len(recognized_words)] / len(reference_words) * 100\n",
        "    return wer"
      ]
    },
    {
      "cell_type": "code",
      "execution_count": 2,
      "id": "f604bfbe-3af2-4550-9119-9031b65a06d8",
      "metadata": {
        "colab": {
          "base_uri": "https://localhost:8080/"
        },
        "id": "f604bfbe-3af2-4550-9119-9031b65a06d8",
        "outputId": "a3fd8dd9-1311-43a1-b888-a551fc94880b"
      },
      "outputs": [
        {
          "output_type": "stream",
          "name": "stdout",
          "text": [
            "Test 1.a passed\n"
          ]
        }
      ],
      "source": [
        "def assert_wer(ref, hyp, ideal_wer):\n",
        "    wer = calculate_wer(ref, hyp)\n",
        "    assert round(wer, 2) == round(ideal_wer, 2), f\"for '{hyp=}' and '{ref=}' {ideal_wer=}, calculate_wer {wer=}\"\n",
        "\n",
        "def test_wer():\n",
        "    assert_wer('привет студент', 'привет студент', 0)\n",
        "    assert_wer('привет! Студент.', 'Привет, студент?', 0)\n",
        "    assert_wer('привет студент', 'студент', 50)\n",
        "    assert_wer('привет студент', '', 100)\n",
        "    assert_wer('привет студент', 'студент привет', 100)\n",
        "    assert_wer('привет', 'привет студент', 100)\n",
        "    assert_wer('привет студент привет как дела', 'студент привет', 60)\n",
        "    assert_wer('привет студент привет как дела', 'привет как дела', 40)\n",
        "    assert_wer('привет студент привет как дела ', 'привет студент дела ', 40)\n",
        "    assert_wer('привет студент привет как дела '*100, 'привет студент дела '*100, 40)\n",
        "\n",
        "    print(f\"Test 1.a passed\")\n",
        "\n",
        "test_wer()\n",
        ""
      ]
    },
    {
      "cell_type": "markdown",
      "id": "50b32777-0fae-4999-9843-88313c1e3607",
      "metadata": {
        "id": "50b32777-0fae-4999-9843-88313c1e3607"
      },
      "source": [
        "## 1.b. Построение выравнивания\n",
        "Реализованная в части 1.a. функция выдает только суммарное значение ошибки распознавания, не давая понимания, в чем состоят основные проблемы распознавания.\n",
        "\n",
        "Значение WER получается из трех видов ошибок:\n",
        "* вставка (insertion)\n",
        "* удаление (deletion)\n",
        "* замена (substitution)\n",
        "\n",
        "Каждый тип ошибок имеет свое значение и указывает на определенные недостатки системы. Например, большое количество вставок означает, что ASR слышит речь там где ее нет. А большое количество удалений показывает, что целевая речь пропускается и не транскрибируется.\n",
        "\n",
        "Кроме числовых значений каждой ошибки, для анализа результатов работы системы может пригодиться выравнивание эталонной текстовки и гипотезы распознавания относительно друг друга.\n",
        "\n",
        "пример выравнивания:\n",
        "\n",
        "```\n",
        ">>> tabulate(ali)\n",
        "\n",
        "Я сегодня  ***   учуcь  в  универе\n",
        "Я    с    завтра учусь *** универе  \n",
        "C    S      I      C    D    C    \n",
        "```\n",
        "\n",
        "Реализуйте функцию, которая кроме числового значения WER возвращает выравнивание, а также значения каждого типа ошибок распознавания (вставки, удаления, замены)."
      ]
    },
    {
      "cell_type": "code",
      "execution_count": 3,
      "id": "414a0cdb-7230-493a-93ba-2d15547a537a",
      "metadata": {
        "colab": {
          "base_uri": "https://localhost:8080/"
        },
        "id": "414a0cdb-7230-493a-93ba-2d15547a537a",
        "outputId": "316e4be8-6b11-4b9f-e4ae-86b7732271c2"
      },
      "outputs": [
        {
          "output_type": "stream",
          "name": "stdout",
          "text": [
            "Requirement already satisfied: tabulate in /usr/local/lib/python3.10/dist-packages (0.9.0)\n"
          ]
        }
      ],
      "source": [
        "!pip install tabulate\n",
        "from tabulate import tabulate\n",
        "# используйте tabulate для отладки"
      ]
    },
    {
      "cell_type": "code",
      "execution_count": 4,
      "id": "8d6d7687-ff3a-4a46-80ec-12efcab49027",
      "metadata": {
        "id": "8d6d7687-ff3a-4a46-80ec-12efcab49027"
      },
      "outputs": [],
      "source": [
        "def calculate_wer_with_alignment(reference_text: str, recognized_text: str):\n",
        "    # Приведение текста к нижнему регистру, удаление символов пунктуации и разбивка на слова\n",
        "    reference_words = re.findall(r'\\b\\w+\\b', reference_text.lower())\n",
        "    recognized_words = re.findall(r'\\b\\w+\\b', recognized_text.lower())\n",
        "\n",
        "    # расстояние Левенштейна\n",
        "    # Инициализация матрицы для подсчета расстояния между словами\n",
        "    distance_matrix = [[0] * (len(recognized_words) + 1) for _ in range(len(reference_words) + 1)]\n",
        "\n",
        "    # Наполнение первой строки матрицы\n",
        "    for i in range(len(reference_words) + 1):\n",
        "        distance_matrix[i][0] = i\n",
        "\n",
        "    # Наполнение первого столбца матрицы\n",
        "    for j in range(len(recognized_words) + 1):\n",
        "        distance_matrix[0][j] = j\n",
        "\n",
        "    # Заполнение матрицы расстояний методом динамического программирования\n",
        "    for i in range(1, len(reference_words) + 1):\n",
        "        for j in range(1, len(recognized_words) + 1):\n",
        "            cost = 0 if reference_words[i - 1] == recognized_words[j - 1] else 1\n",
        "            distance_matrix[i][j] = min(\n",
        "                distance_matrix[i - 1][j] + 1,    # удаление\n",
        "                distance_matrix[i][j - 1] + 1,    # вставка\n",
        "                distance_matrix[i - 1][j - 1] + cost  # замена\n",
        "            )\n",
        "\n",
        "    # Количество аннотаций\n",
        "    correct, deletion, insertion, substitution = 0, 0, 0, 0\n",
        "\n",
        "    i, j = len(reference_words), len(recognized_words)\n",
        "\n",
        "    # ali[0] - референс, ali[1] - распознанное, ali[2] - аннотации (C/S/D/I)\n",
        "    ali = [[], [], []]\n",
        "\n",
        "    while i > 0 or j > 0:\n",
        "        if i > 0 and j > 0 and distance_matrix[i][j] == distance_matrix[i - 1][j - 1] and reference_words[i - 1] == recognized_words[j - 1]:\n",
        "            # Правильное совпадение\n",
        "            ali[0].insert(0, reference_words[i - 1])\n",
        "            ali[1].insert(0, recognized_words[j - 1])\n",
        "            ali[2].insert(0, 'C')\n",
        "            correct += 1\n",
        "            i -= 1\n",
        "            j -= 1\n",
        "        elif i > 0 and j > 0 and distance_matrix[i][j] == distance_matrix[i - 1][j - 1] + 1:\n",
        "            # Замена\n",
        "            ali[0].insert(0, reference_words[i - 1])\n",
        "            ali[1].insert(0, recognized_words[j - 1])\n",
        "            ali[2].insert(0, 'S')\n",
        "            substitution += 1\n",
        "            i -= 1\n",
        "            j -= 1\n",
        "        elif i > 0 and distance_matrix[i][j] == distance_matrix[i - 1][j] + 1:\n",
        "            # Удаление\n",
        "            ali[0].insert(0, reference_words[i - 1])\n",
        "            ali[1].insert(0, '***')  # Пропущенное слово\n",
        "            ali[2].insert(0, 'D')\n",
        "            deletion += 1\n",
        "            i -= 1\n",
        "        elif j > 0 and distance_matrix[i][j] == distance_matrix[i][j - 1] + 1:\n",
        "            # Вставка\n",
        "            ali[0].insert(0, '***')  # Вставка в референс\n",
        "            ali[1].insert(0, recognized_words[j - 1])\n",
        "            ali[2].insert(0, 'I')\n",
        "            insertion += 1\n",
        "            j -= 1\n",
        "\n",
        "    wer = distance_matrix[len(reference_words)][len(recognized_words)] / len(reference_words) * 100\n",
        "\n",
        "    assert len(ali[0]) == len(ali[1]) == len(ali[2]), f'wrong ali {ali}'\n",
        "\n",
        "    return {'wer' : wer,\n",
        "            'cor': correct,\n",
        "            'del': deletion,\n",
        "            'ins': insertion,\n",
        "            'sub': substitution,\n",
        "            'ali': ali}"
      ]
    },
    {
      "cell_type": "code",
      "execution_count": 5,
      "id": "6ff4fe6c-c548-4f60-bcf9-95a164f43645",
      "metadata": {
        "colab": {
          "base_uri": "https://localhost:8080/"
        },
        "id": "6ff4fe6c-c548-4f60-bcf9-95a164f43645",
        "outputId": "a2ebf86a-fb3c-41d2-d092-73549ea03414"
      },
      "outputs": [
        {
          "output_type": "stream",
          "name": "stdout",
          "text": [
            "Test 1.b passed\n"
          ]
        }
      ],
      "source": [
        "def assert_wer_with_alignment(ref, hyp, ideal_report):\n",
        "    report = calculate_wer_with_alignment(ref, hyp)\n",
        "    for k, v in ideal_report.items():\n",
        "        if isinstance(v, float):\n",
        "            assert round(v, 2) == round(report[k], 2), f\"for '{hyp=}' and '{ref=}' {ideal_report=}, calculate_wer {report=}\"\n",
        "        else:\n",
        "            assert v == report[k], f\"for '{hyp=}' and '{ref=}' {ideal_report=}, calculate_wer {report=}\"\n",
        "\n",
        "\n",
        "def test_wer_with_alignment():\n",
        "    assert_wer_with_alignment('привет студент', 'привет студент',  {\n",
        "            \"wer\" : 0,\n",
        "            \"cor\": 2,\n",
        "            \"del\": 0,\n",
        "            \"ins\": 0,\n",
        "            \"sub\": 0,\n",
        "            \"ali\": [[\"привет\", \"студент\"],[\"привет\", \"студент\"],['C', 'C']]})\n",
        "    assert_wer_with_alignment('привет студент', 'студент', {\n",
        "            \"wer\" : 50,\n",
        "            \"cor\": 1,\n",
        "            \"del\": 1,\n",
        "            \"ins\": 0,\n",
        "            \"sub\": 0,\n",
        "            \"ali\": [[\"привет\", \"студент\"],[\"***\", \"студент\"],['D', 'C']]})\n",
        "    assert_wer_with_alignment('привет', 'привет студент', {\n",
        "            \"wer\" : 100,\n",
        "            \"cor\": 1,\n",
        "            \"del\": 0,\n",
        "            \"ins\": 1,\n",
        "            \"sub\": 0,\n",
        "            \"ali\": [[\"привет\", \"***\"],[\"привет\", \"студент\"],['C', 'I']]})\n",
        "    assert_wer_with_alignment('привет студент', 'пока студент',  {\n",
        "            \"wer\" : 50,\n",
        "            \"cor\": 1,\n",
        "            \"del\": 0,\n",
        "            \"ins\": 0,\n",
        "            \"sub\": 1,\n",
        "            \"ali\": [[\"привет\", \"студент\"],[\"пока\", \"студент\"],['S', 'C']]})\n",
        "\n",
        "    print(f\"Test 1.b passed\")\n",
        "\n",
        "test_wer_with_alignment()"
      ]
    },
    {
      "cell_type": "markdown",
      "id": "983a8e14-f4f1-4441-a72d-2fa693d72474",
      "metadata": {
        "id": "983a8e14-f4f1-4441-a72d-2fa693d72474"
      },
      "source": [
        "# 2. WER с пунктуацией (4 балла)\n",
        "Попробуйте модифицировать WER таким образом, чтобы получившаяся метрика учитавала ошибки расстановки знаков препинания.\n",
        "\n",
        "Для этого надо ввести ограничение в алгоритм подсчета distance_matrix таким образом, чтобы запретить делать замену знака препинания на слово и наоборот.\n",
        "\n",
        "Пример выравнивания\n",
        "```\n",
        "Я сегодня  .   ***   ***  А ты  \n",
        "Я    с    *** завтра  ?   А ты  \n",
        "C    S    D_p   I    I_p  C  C    \n",
        "```\n",
        "Здесь суффикс _p в аннотации к ошибкам означает **ошибки пунктуации**\n",
        "\n",
        "\n",
        "Задание:\n",
        "Напишите функцию, которая кроме стандартного WER считает дополнительно RichTranscriptErrorRate (RTER) по формуле\n",
        "\n",
        "$$ RTER = {I_p + D_p + S_p \\over D_p + S_p + C_p} $$\n",
        "где I_p, D_p, S_p - количество вставок, удалений и замен знаков препинания, соответственно. C_p - количество правильно распознанных знаков препинания"
      ]
    },
    {
      "cell_type": "code",
      "source": [
        "def calculate_wer_per(reference_text: str, recognized_text: str):\n",
        "    # Приведение текста к нижнему регистру вместе с символами пунктуации и разбивка на слова\n",
        "    reference_words = re.findall(r'\\w+|[^\\w\\s]', reference_text)\n",
        "    recognized_words = re.findall(r'\\w+|[^\\w\\s]', recognized_text)\n",
        "\n",
        "    # расстояние Левенштейна\n",
        "    # Инициализация матрицы для подсчета расстояния между словами\n",
        "    distance_matrix = [[0] * (len(recognized_words) + 1) for _ in range(len(reference_words) + 1)]\n",
        "\n",
        "    # Наполнение первой строки матрицы\n",
        "    for i in range(len(reference_words) + 1):\n",
        "        distance_matrix[i][0] = i\n",
        "\n",
        "    # Наполнение первого столбца матрицы\n",
        "    for j in range(len(recognized_words) + 1):\n",
        "        distance_matrix[0][j] = j\n",
        "\n",
        "    # Заполнение матрицы расстояний методом динамического программирования\n",
        "    for i in range(1, len(reference_words) + 1):\n",
        "        for j in range(1, len(recognized_words) + 1):\n",
        "            # Если не совпадает тип у двух элементов на рассматриваемой позиции\n",
        "            # (слово и знак препинания) - ставим бесконечность (нет смысла сравнивать)\n",
        "            if (reference_words[i - 1].isalpha() and not recognized_words[j - 1].isalpha()) or (not reference_words[i - 1].isalpha() and recognized_words[j - 1].isalpha()):\n",
        "                substitution = float('inf')\n",
        "            else:\n",
        "                cost = 0 if reference_words[i-1] == recognized_words[j-1] else 1\n",
        "                substitution = distance_matrix[i - 1][j - 1] + cost\n",
        "            distance_matrix[i][j] = min(\n",
        "                distance_matrix[i - 1][j] + 1, # удаление\n",
        "                distance_matrix[i][j - 1] + 1, # вставка\n",
        "                substitution)\n",
        "\n",
        "    # Количество аннотации слов\n",
        "    correct, deletion, insertion, substitution = 0, 0, 0, 0\n",
        "\n",
        "    # Количество аннотации знаков препинания\n",
        "    correct_punct, deletion_punct, insertion_punct, substitution_punct = 0, 0, 0, 0\n",
        "\n",
        "    i, j = len(reference_words), len(recognized_words)\n",
        "\n",
        "    # ali[0] - референс, ali[1] - распознанное, ali[2] - аннотации (C/S/D/I)\n",
        "    ali = [[], [], []]\n",
        "\n",
        "    while i > 0 or j > 0:\n",
        "        if i > 0 and distance_matrix[i - 1][j] == distance_matrix[i][j] - 1:\n",
        "            # Удаление\n",
        "            ali[0].insert(0, reference_words[i - 1])\n",
        "            ali[1].insert(0, '***') # Пропущенное слово\n",
        "            # Отдельно считаем для слов и для пунктуации\n",
        "            if not reference_words[i-1].isalpha():\n",
        "                ali[2].insert(0, 'D_p')\n",
        "                deletion_punct += 1\n",
        "            else:\n",
        "                ali[2].insert(0, 'D')\n",
        "                deletion += 1\n",
        "            i -= 1\n",
        "        elif j > 0 and distance_matrix[i][j - 1] == distance_matrix[i][j] - 1:\n",
        "            # Вставка\n",
        "            ali[0].insert(0, '***') # Вставка в референс\n",
        "            ali[1].insert(0, recognized_words[j - 1])\n",
        "            # Отдельно считаем для слов и для пунктуации\n",
        "            if not recognized_words[j-1].isalpha():\n",
        "                ali[2].insert(0, 'I_p')\n",
        "                insertion_punct += 1\n",
        "            else:\n",
        "                ali[2].insert(0, 'I')\n",
        "                insertion += 1\n",
        "            j -= 1\n",
        "        else:\n",
        "            # Замена или правильное совпадение\n",
        "            ali[0].insert(0, reference_words[i - 1])\n",
        "            ali[1].insert(0, recognized_words[j - 1])\n",
        "            # Замена\n",
        "            if reference_words[i - 1] != recognized_words[j - 1]:\n",
        "                # Отдельно считаем для слов и для пунктуации\n",
        "                if not reference_words[i - 1].isalpha() and not recognized_words[j - 1].isalpha():\n",
        "                    ali[2].insert(0, 'S_p')\n",
        "                    substitution_punct += 1\n",
        "                else:\n",
        "                    ali[2].insert(0, 'S')\n",
        "                    substitution += 1\n",
        "            # Правильное совпадение\n",
        "            else:\n",
        "                # Отдельно считаем для слов и для пунктуации\n",
        "                if not reference_words[i - 1].isalpha() and not recognized_words[j - 1].isalpha():\n",
        "                    ali[2].insert(0, 'C_p')\n",
        "                    correct_punct += 1\n",
        "                else:\n",
        "                    ali[2].insert(0, 'C')\n",
        "                    correct += 1\n",
        "            i -= 1\n",
        "            j -= 1\n",
        "\n",
        "    wer = (insertion + deletion + substitution) * 100 / (deletion + substitution + correct)\n",
        "    per = (insertion_punct + deletion_punct + substitution_punct) * 100 / (deletion_punct + substitution_punct + correct_punct)\n",
        "\n",
        "    return {'wer' : wer,\n",
        "            'per': per,\n",
        "            'ali': ali}"
      ],
      "metadata": {
        "id": "k9bEQ4RrYPnl"
      },
      "id": "k9bEQ4RrYPnl",
      "execution_count": 6,
      "outputs": []
    },
    {
      "cell_type": "code",
      "execution_count": 7,
      "id": "31f053d5-2015-4d33-8ded-e5d0160e8901",
      "metadata": {
        "colab": {
          "base_uri": "https://localhost:8080/"
        },
        "id": "31f053d5-2015-4d33-8ded-e5d0160e8901",
        "outputId": "911af9fd-3242-478b-fbb6-8142c8aefc87"
      },
      "outputs": [
        {
          "output_type": "stream",
          "name": "stdout",
          "text": [
            "Test 2 passed\n"
          ]
        }
      ],
      "source": [
        "def assert_wer_per(ref, hyp, ideal_report):\n",
        "    report = calculate_wer_per(ref, hyp)\n",
        "    for k, v in ideal_report.items():\n",
        "        if isinstance(v, float):\n",
        "            assert round(v, 2) == round(report[k], 2), f\"for '{hyp=}' and '{ref=}' {ideal_report=}, calculate_wer {report=}\"\n",
        "        else:\n",
        "            assert v == report[k], f\"for '{hyp=}' and '{ref=}' {ideal_report=}, calculate_wer {report=}\"\n",
        "\n",
        "\n",
        "def test_wer_per():\n",
        "    assert_wer_per('привет студент.', 'привет студент',  {\n",
        "            \"wer\" : 0,\n",
        "            \"per\": 100})\n",
        "    assert_wer_per('привет студент.', 'студент.', {\n",
        "            \"wer\" : 50,\n",
        "            \"per\": 0,})\n",
        "    assert_wer_per('привет студент.', 'привет. студент',  {\n",
        "            \"wer\" : 0,\n",
        "            \"per\": 200})\n",
        "    assert_wer_per('привет студент.', '.студент?', {\n",
        "            \"wer\" : 50,\n",
        "            \"per\": 200, })\n",
        "\n",
        "    print(f\"Test 2 passed\")\n",
        "\n",
        "test_wer_per()"
      ]
    },
    {
      "cell_type": "markdown",
      "id": "bb08f8da-e0f9-48e4-b584-3d1ab25c279c",
      "metadata": {
        "id": "bb08f8da-e0f9-48e4-b584-3d1ab25c279c"
      },
      "source": [
        "# 3. Speaker-attributed Word Error Rate (4 балла)\n",
        "\n",
        "В задаче распознавания диалоговых данных, когда говорят два диктора, важно не только распознать правильно каждое слово, но и отнести его к правильному диктору. Чаще всего такой результат получается с помощью комбинации двух независимых систем: распознавания речи и диаризация.\n",
        "\n",
        "При подсчете ошибки распознавания диалоговых систем в формулу WER добавляется еще один тип ошибки - S_I (speaker incorrect).\n",
        "\n",
        "$$ SA{\\text -}WER = \\min{I + D + S + S_I \\over D + S + C + S_I} $$\n",
        "\n",
        "Кроме подсчета самой ошибки, sa-wer решает еще одну задачку - поиск маппинга из эталонных названий спикеров (например, имен) в предсказанные (чаще всего Idшники). Это необходимо, тк система диаризации не знает, какие названия у спикеров в эталоне. При подсчете SA-WER проверяются все возможные мапинги спикеров и выбирается тот, который соответствует минимальному значению ошибки.\n",
        "\n"
      ]
    },
    {
      "cell_type": "code",
      "source": [
        "import itertools"
      ],
      "metadata": {
        "id": "FjnaqKZxVJK_"
      },
      "id": "FjnaqKZxVJK_",
      "execution_count": 8,
      "outputs": []
    },
    {
      "cell_type": "code",
      "execution_count": 9,
      "id": "acb29784-c8cc-44bb-a8c4-118c5c0da9d5",
      "metadata": {
        "id": "acb29784-c8cc-44bb-a8c4-118c5c0da9d5"
      },
      "outputs": [],
      "source": [
        "def calculate_sawer(reference_text:list[str], reference_speakers:list[str], recognized_text:list[int], recognized_speakers:list[str]):\n",
        "\n",
        "    # В отличие от прошлых функций на вход sawer подаются уже разбитые на слова произнесения\n",
        "    # Кроме списка слов, дополнительно передается список меток спикеров\n",
        "    assert isinstance(reference_text, list)\n",
        "    assert isinstance(recognized_text, list)\n",
        "    assert len(reference_text) == len(reference_speakers)\n",
        "    assert len(recognized_text) == len(recognized_speakers)\n",
        "\n",
        "    # Инициализация матрицы для подсчета расстояния между словами\n",
        "    distance_matrix = [[0] * (len(recognized_text) + 1) for _ in range(len(reference_text) + 1)]\n",
        "\n",
        "    # Наполнение первой строки матрицы\n",
        "    for i in range(len(reference_text) + 1):\n",
        "        distance_matrix[i][0] = i\n",
        "\n",
        "    # Наполнение первого столбца матрицы\n",
        "    for j in range(len(recognized_text) + 1):\n",
        "        distance_matrix[0][j] = j\n",
        "\n",
        "    # Заполнение матрицы расстояний методом динамического программирования\n",
        "    for i in range(1, len(reference_text) + 1):\n",
        "        for j in range(1, len(recognized_text) + 1):\n",
        "            cost = 0 if reference_text[i - 1] == recognized_text[j-1] else 1\n",
        "            distance_matrix[i][j] = min([\n",
        "                distance_matrix[i - 1][j] + 1, # удаление\n",
        "                distance_matrix[i][j - 1] + 1, # вставка\n",
        "                distance_matrix[i - 1][j - 1] + cost # замена\n",
        "            ])\n",
        "\n",
        "\n",
        "    i, j = len(reference_text), len(recognized_text)\n",
        "    speakers = []\n",
        "\n",
        "    # С помощью distance_matrix составляем список правильно распознанных слов\n",
        "    # и соответствующих им эталонных и распознанных дикторов\n",
        "    while i > 0 or j > 0:\n",
        "        current_value = distance_matrix[i][j]\n",
        "        min_value = min([\n",
        "            distance_matrix[i][j - 1],\n",
        "            distance_matrix[i - 1][j],\n",
        "            distance_matrix[i - 1][j - 1]\n",
        "          ])\n",
        "\n",
        "        # правильное совпадение или замена\n",
        "        if distance_matrix[i - 1][j - 1] == min_value and abs(current_value - min_value) <= 1:\n",
        "            # если не замена (т.е. если правильное совпадение)\n",
        "            if current_value - min_value != 1:\n",
        "                speakers.insert(0, {\n",
        "                    'reference_name': reference_speakers[i-1],\n",
        "                    'recognized_id': recognized_speakers[j-1],\n",
        "                })\n",
        "            i -= 1\n",
        "            j -= 1\n",
        "        # удаление\n",
        "        elif distance_matrix[i][j - 1] == min_value and abs(current_value - min_value) <= 1:\n",
        "            j -= 1\n",
        "        # вставка\n",
        "        else:\n",
        "            i -= 1\n",
        "\n",
        "    reference_names = []\n",
        "    recognized_ids = []\n",
        "\n",
        "    for speaker in speakers:\n",
        "        # Выбираем уникальные имена дикторов, слова которых распознаны\n",
        "        if speaker['reference_name'] not in reference_names:\n",
        "            reference_names.append(speaker['reference_name'])\n",
        "        # Выбираем уникальные идентификаторы дикторов для слов, которые были распознаны\n",
        "        if speaker['recognized_id'] not in recognized_ids:\n",
        "            recognized_ids.append(speaker['recognized_id'])\n",
        "\n",
        "    min_detection_errors = float('inf')\n",
        "    ali = None\n",
        "\n",
        "    # Для каждого возможного варианта считаем количество ошибочных распознаваний\n",
        "    # для каждой комбинации и ищем минимальное\n",
        "    for reference_ids in list(itertools.permutations(recognized_ids)):\n",
        "        # делаем хэш имя-id\n",
        "        ref_dict = dict(zip(reference_names, reference_ids))\n",
        "\n",
        "        detection_errors = 0\n",
        "        # Смотрим всех дикторов\n",
        "        for speaker in speakers:\n",
        "            reference_id = ref_dict[speaker['reference_name']]\n",
        "            # если распознанный айди диктора не совпадает с правильным\n",
        "            if reference_id != speaker['recognized_id']:\n",
        "                # добавляем ошибку\n",
        "                detection_errors += 1\n",
        "\n",
        "        # Если полученное число ошибок меньше минимального, то устанавливаем\n",
        "        # его как минимальное и считаем это лучшей парой\n",
        "        if detection_errors < min_detection_errors:\n",
        "            ali = ref_dict\n",
        "            min_detection_errors = detection_errors\n",
        "\n",
        "    # считаем как wer, но с учетом ошибки детектирования\n",
        "    sawer = (distance_matrix[len(reference_text)][len(recognized_text)] + min_detection_errors) * 100 / len(reference_text)\n",
        "\n",
        "    return {'sawer': sawer,\n",
        "            'ali': ali}"
      ]
    },
    {
      "cell_type": "code",
      "execution_count": 10,
      "id": "1c70f023-8c9f-4aeb-b4ee-fd41f2191c26",
      "metadata": {
        "id": "1c70f023-8c9f-4aeb-b4ee-fd41f2191c26",
        "colab": {
          "base_uri": "https://localhost:8080/"
        },
        "outputId": "d1e74d7a-ed18-4831-9062-ac584d81c5e4"
      },
      "outputs": [
        {
          "output_type": "stream",
          "name": "stdout",
          "text": [
            "Test 3 passed\n"
          ]
        }
      ],
      "source": [
        "def assert_sawer(reference_text, reference_speakers, recognized_text, recognized_speakers, ideal_report):\n",
        "    report = calculate_sawer(reference_text, reference_speakers, recognized_text, recognized_speakers)\n",
        "    for k, v in ideal_report.items():\n",
        "        assert v == report[k]\n",
        "\n",
        "\n",
        "def test_sawer():\n",
        "    assert_sawer(['привет', 'студент'], ['A', 'B'], ['привет', 'студент'], [1, 2],  {\n",
        "            \"sawer\" : 0})\n",
        "    assert_sawer(['привет', 'студент'], ['A', 'A'], ['привет', 'студент'], [1, 2],  {\n",
        "            \"sawer\" : 50})\n",
        "    assert_sawer(['привет', 'студент'], ['A', 'A'], ['привет', 'студент'], [0, 0],  {\n",
        "            \"sawer\" : 0})\n",
        "    assert_sawer(['привет', 'с'], ['A', 'B'], ['привет', 'студент'], [1, 2],  {\n",
        "            \"sawer\" : 50})\n",
        "    assert_sawer(['привет', 'с'], ['A', 'B'], ['привет'], [1],  {\n",
        "            \"sawer\" : 50})\n",
        "    assert_sawer(['привет'], ['A'], ['привет', 'студент'], [1, 0],  {\n",
        "            \"sawer\" : 100})\n",
        "    assert_sawer(['привет'], ['A'], ['привет', 'студент'], [0, 0],  {\n",
        "            \"sawer\" : 100})\n",
        "\n",
        "    print(f\"Test 3 passed\")\n",
        "\n",
        "test_sawer()"
      ]
    }
  ],
  "metadata": {
    "kernelspec": {
      "display_name": "Python 3 (ipykernel)",
      "language": "python",
      "name": "python3"
    },
    "language_info": {
      "codemirror_mode": {
        "name": "ipython",
        "version": 3
      },
      "file_extension": ".py",
      "mimetype": "text/x-python",
      "name": "python",
      "nbconvert_exporter": "python",
      "pygments_lexer": "ipython3",
      "version": "3.9.19"
    },
    "colab": {
      "provenance": []
    }
  },
  "nbformat": 4,
  "nbformat_minor": 5
}